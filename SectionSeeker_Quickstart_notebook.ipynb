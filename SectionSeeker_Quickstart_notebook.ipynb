{
 "cells": [
  {
   "cell_type": "code",
   "execution_count": null,
   "metadata": {
    "tags": []
   },
   "outputs": [],
   "source": [
    "!python -m pip install -r requirements.txt"
   ]
  },
  {
   "cell_type": "markdown",
   "metadata": {},
   "source": [
    "#  SectionSeeker - Seismic Image finder Starter Notebook"
   ]
  },
  {
   "cell_type": "markdown",
   "metadata": {},
   "source": [
    "**This notebook and package has been adapted from ThinkOnward's [Reflection Connection Challenge](https://thinkonward.com/app/c/challenges/reflection-connection), which ran in late 2023. The SectionSeeker can be used to train a SiameseNN to identify similar sections to the one a user inputs. This can be extremely useful for seismic interpreters looking for an analog section or basin.**"
   ]
  },
  {
   "cell_type": "code",
   "execution_count": 1,
   "metadata": {
    "tags": []
   },
   "outputs": [],
   "source": [
    "# add the following paths to use modules we prepared for you\n",
    "import sys\n",
    "\n",
    "ROOT = \".\"  # project root directory\n",
    "sys.path.append(f\"{ROOT}/SectionSeeker\")\n",
    "sys.path.append(f\"{ROOT}/SectionSeeker/snn\")"
   ]
  },
  {
   "cell_type": "markdown",
   "metadata": {},
   "source": [
    "### Data"
   ]
  },
  {
   "cell_type": "markdown",
   "metadata": {},
   "source": [
    "🚨 To [download the data](https://huggingface.co/datasets/thinkonward/reflection-connection) and the models ([B-16](https://huggingface.co/thinkonward/section-seeker-base-16) or [L-16](https://huggingface.co/thinkonward/section-seeker-large-16)) you will need a [HuggingFace account](https://huggingface.co/) and request data and model access.\n",
    "\n",
    "To make sure that data can be accessed by this notebook unpack archives containing train and test data into `ROOT/data/` directory.\n",
    "\n",
    "The data for this challange consists of four parts:\n",
    "\n",
    "1. Training set (`data/train`) of 561 images, divided in 8 distinct categories \n",
    "2. Validation set (`data/test`) of 105 images, divided in 8 distinct categories \n",
    "3. Image corpus (`data/image_corpus`) of 362 unlabeled images with unknown category.\n",
    "4. Query set (`data/query`) of 50 unlabeled images with unknown category\n",
    "\n",
    "Each image is a 1-channel, 2D patch cut out from multiple sections of 3D seismic volumes. \n",
    "\n",
    "Training and validation set both contain labeled images. Dataset has a structure similar to well-known MNIST dataset - images are stored in subcatalogs that represent class labels. Both training and validation data can be accessed with `SeismicDataset` class that offers an API very similar to a standard MNIST torch vision dataset.\n",
    "\n",
    "Classes in the dataset are as follows:\n",
    "\n",
    "1. `Boring` - No visible interesting features\n",
    "2. `Bright_Planar` - Contains laterally continuous bright seismic amplitudes\n",
    "3. `Bright_Chaotic` - Contains chaotic bright amplitudes\n",
    "4. `Channel` - Visible channels (irrespective of depositional environment)\n",
    "5. `Converging_Amplitudes` - Seismic amplitudes that converge together\n",
    "7. `Fault` - Visible faults offsetting seismic horizons\n",
    "8. `Salt` - Visible salt body which may contain the top or edge of the salt body\n",
    "9. `Transparent_Planar` - Patches where the seismic reflectors are planar and the majority of the reflectors are transparent\n",
    "\n",
    "The split between test and train was arbitrary to demonstrate capabilities of the tools available to you in this challange - you are free to move patches between the test and train sets. Keep in mind that class `Boring` contains only patches of uninteresting seismic - we will not ask you to find images that belong to this class in the image corpus.\n",
    "\n",
    "Image corpus and query contain sets of unlabeled images that can be accessed with the `ImageSet` class. \n",
    "**You must not use this data in training of the model**. \n",
    "\n",
    "Note that some of images in image corpus and query set don't belong to any category defined within training and validation sets and will be used to evaluate performance of your algorithm in one-shot scenario.\n",
    "\n",
    "**Your ultimate goal is to prepare an algorithm that will search through image corpus to find 3 most similar images for each patch in query set**.\n"
   ]
  },
  {
   "cell_type": "markdown",
   "metadata": {},
   "source": [
    "Download the dataset to your machine after requesting access from HuggingFace"
   ]
  },
  {
   "cell_type": "code",
   "execution_count": 2,
   "metadata": {
    "tags": []
   },
   "outputs": [
    {
     "data": {
      "application/vnd.jupyter.widget-view+json": {
       "model_id": "0547e5b6fd774685826e04bcb349beaa",
       "version_major": 2,
       "version_minor": 0
      },
      "text/plain": [
       "VBox(children=(HTML(value='<center> <img\\nsrc=https://huggingface.co/front/assets/huggingface_logo-noborder.sv…"
      ]
     },
     "metadata": {},
     "output_type": "display_data"
    }
   ],
   "source": [
    "import huggingface_hub\n",
    "\n",
    "huggingface_hub.login()"
   ]
  },
  {
   "cell_type": "code",
   "execution_count": 3,
   "metadata": {
    "collapsed": true,
    "jupyter": {
     "outputs_hidden": true
    },
    "tags": []
   },
   "outputs": [
    {
     "data": {
      "application/vnd.jupyter.widget-view+json": {
       "model_id": "53bf9eea47a64496a4a1aacfd4c5edf2",
       "version_major": 2,
       "version_minor": 0
      },
      "text/plain": [
       "Fetching 709 files:   0%|          | 0/709 [00:00<?, ?it/s]"
      ]
     },
     "metadata": {},
     "output_type": "display_data"
    },
    {
     "data": {
      "application/vnd.jupyter.widget-view+json": {
       "model_id": "58800b0cd8cb4178953b30fd9e072019",
       "version_major": 2,
       "version_minor": 0
      },
      "text/plain": [
       ".gitattributes:   0%|          | 0.00/2.46k [00:00<?, ?B/s]"
      ]
     },
     "metadata": {},
     "output_type": "display_data"
    },
    {
     "data": {
      "application/vnd.jupyter.widget-view+json": {
       "model_id": "c41ea08148db4526a6ccaf4be40cfd6d",
       "version_major": 2,
       "version_minor": 0
      },
      "text/plain": [
       "aczgx.png:   0%|          | 0.00/21.3k [00:00<?, ?B/s]"
      ]
     },
     "metadata": {},
     "output_type": "display_data"
    },
    {
     "data": {
      "application/vnd.jupyter.widget-view+json": {
       "model_id": "1cfc395786ee479a98d445a4cc171ad6",
       "version_major": 2,
       "version_minor": 0
      },
      "text/plain": [
       "aoord.png:   0%|          | 0.00/24.3k [00:00<?, ?B/s]"
      ]
     },
     "metadata": {},
     "output_type": "display_data"
    },
    {
     "data": {
      "application/vnd.jupyter.widget-view+json": {
       "model_id": "b015b0723843494a8369cc9e3cea4147",
       "version_major": 2,
       "version_minor": 0
      },
      "text/plain": [
       "amtqn.png:   0%|          | 0.00/9.28k [00:00<?, ?B/s]"
      ]
     },
     "metadata": {},
     "output_type": "display_data"
    },
    {
     "data": {
      "application/vnd.jupyter.widget-view+json": {
       "model_id": "b1bffc66e38f41c0b5dafae6097afc2c",
       "version_major": 2,
       "version_minor": 0
      },
      "text/plain": [
       "README.md:   0%|          | 0.00/4.32k [00:00<?, ?B/s]"
      ]
     },
     "metadata": {},
     "output_type": "display_data"
    },
    {
     "data": {
      "application/vnd.jupyter.widget-view+json": {
       "model_id": "0951dcf70adc4a8f98431cb305265913",
       "version_major": 2,
       "version_minor": 0
      },
      "text/plain": [
       "bacnt.png:   0%|          | 0.00/14.2k [00:00<?, ?B/s]"
      ]
     },
     "metadata": {},
     "output_type": "display_data"
    },
    {
     "data": {
      "application/vnd.jupyter.widget-view+json": {
       "model_id": "10650ae4764542fea9f469aaec0a2f04",
       "version_major": 2,
       "version_minor": 0
      },
      "text/plain": [
       "bobqs.png:   0%|          | 0.00/16.1k [00:00<?, ?B/s]"
      ]
     },
     "metadata": {},
     "output_type": "display_data"
    },
    {
     "data": {
      "application/vnd.jupyter.widget-view+json": {
       "model_id": "37454ebf051647be93b66838a7add2c3",
       "version_major": 2,
       "version_minor": 0
      },
      "text/plain": [
       "axkpq.png:   0%|          | 0.00/14.6k [00:00<?, ?B/s]"
      ]
     },
     "metadata": {},
     "output_type": "display_data"
    },
    {
     "data": {
      "application/vnd.jupyter.widget-view+json": {
       "model_id": "e9cd8eeaf04341fd844329ba61c07e86",
       "version_major": 2,
       "version_minor": 0
      },
      "text/plain": [
       "bztqu.png:   0%|          | 0.00/15.7k [00:00<?, ?B/s]"
      ]
     },
     "metadata": {},
     "output_type": "display_data"
    },
    {
     "data": {
      "application/vnd.jupyter.widget-view+json": {
       "model_id": "a95d63916f224fb4b02f347cefd23aff",
       "version_major": 2,
       "version_minor": 0
      },
      "text/plain": [
       "cypbk.png:   0%|          | 0.00/23.9k [00:00<?, ?B/s]"
      ]
     },
     "metadata": {},
     "output_type": "display_data"
    },
    {
     "data": {
      "application/vnd.jupyter.widget-view+json": {
       "model_id": "4c2b42d2e02c42ce94c672ab97fce8e8",
       "version_major": 2,
       "version_minor": 0
      },
      "text/plain": [
       "cyvmv.png:   0%|          | 0.00/26.0k [00:00<?, ?B/s]"
      ]
     },
     "metadata": {},
     "output_type": "display_data"
    },
    {
     "data": {
      "application/vnd.jupyter.widget-view+json": {
       "model_id": "412a7c2bc35345f49c5db33af36559c6",
       "version_major": 2,
       "version_minor": 0
      },
      "text/plain": [
       "duuce.png:   0%|          | 0.00/20.5k [00:00<?, ?B/s]"
      ]
     },
     "metadata": {},
     "output_type": "display_data"
    },
    {
     "data": {
      "application/vnd.jupyter.widget-view+json": {
       "model_id": "8a63d55beb4a4e0ea46b9981e2effdd9",
       "version_major": 2,
       "version_minor": 0
      },
      "text/plain": [
       "dqusm.png:   0%|          | 0.00/15.8k [00:00<?, ?B/s]"
      ]
     },
     "metadata": {},
     "output_type": "display_data"
    },
    {
     "data": {
      "application/vnd.jupyter.widget-view+json": {
       "model_id": "9996c4d6cdab45b9ae9b2bdd0afd84d6",
       "version_major": 2,
       "version_minor": 0
      },
      "text/plain": [
       "druas.png:   0%|          | 0.00/16.6k [00:00<?, ?B/s]"
      ]
     },
     "metadata": {},
     "output_type": "display_data"
    },
    {
     "data": {
      "application/vnd.jupyter.widget-view+json": {
       "model_id": "af468e6b2208416c8cb0773d12fdb18f",
       "version_major": 2,
       "version_minor": 0
      },
      "text/plain": [
       "dilfz.png:   0%|          | 0.00/12.4k [00:00<?, ?B/s]"
      ]
     },
     "metadata": {},
     "output_type": "display_data"
    },
    {
     "data": {
      "application/vnd.jupyter.widget-view+json": {
       "model_id": "07d1de5c31d0409eafa1903993230978",
       "version_major": 2,
       "version_minor": 0
      },
      "text/plain": [
       "dyfjv.png:   0%|          | 0.00/10.8k [00:00<?, ?B/s]"
      ]
     },
     "metadata": {},
     "output_type": "display_data"
    },
    {
     "data": {
      "application/vnd.jupyter.widget-view+json": {
       "model_id": "498f50650f58427196cb876556c4ffa3",
       "version_major": 2,
       "version_minor": 0
      },
      "text/plain": [
       "evfkm.png:   0%|          | 0.00/30.4k [00:00<?, ?B/s]"
      ]
     },
     "metadata": {},
     "output_type": "display_data"
    },
    {
     "data": {
      "application/vnd.jupyter.widget-view+json": {
       "model_id": "e78d601cf0d344d18cd6d52061131df6",
       "version_major": 2,
       "version_minor": 0
      },
      "text/plain": [
       "fatax.png:   0%|          | 0.00/12.6k [00:00<?, ?B/s]"
      ]
     },
     "metadata": {},
     "output_type": "display_data"
    },
    {
     "data": {
      "application/vnd.jupyter.widget-view+json": {
       "model_id": "e69a70806d544f20b5285239fa3f4c9f",
       "version_major": 2,
       "version_minor": 0
      },
      "text/plain": [
       "frebw.png:   0%|          | 0.00/22.6k [00:00<?, ?B/s]"
      ]
     },
     "metadata": {},
     "output_type": "display_data"
    },
    {
     "data": {
      "application/vnd.jupyter.widget-view+json": {
       "model_id": "863113633b644719bd5b80b85436e576",
       "version_major": 2,
       "version_minor": 0
      },
      "text/plain": [
       "ftgsk.png:   0%|          | 0.00/14.3k [00:00<?, ?B/s]"
      ]
     },
     "metadata": {},
     "output_type": "display_data"
    },
    {
     "data": {
      "application/vnd.jupyter.widget-view+json": {
       "model_id": "5cdfd266d36b409fb090d9cd662a6d96",
       "version_major": 2,
       "version_minor": 0
      },
      "text/plain": [
       "ghxop.png:   0%|          | 0.00/31.3k [00:00<?, ?B/s]"
      ]
     },
     "metadata": {},
     "output_type": "display_data"
    },
    {
     "data": {
      "application/vnd.jupyter.widget-view+json": {
       "model_id": "1572e018b21341cb83a8d5ca2829e465",
       "version_major": 2,
       "version_minor": 0
      },
      "text/plain": [
       "gdqra.png:   0%|          | 0.00/13.3k [00:00<?, ?B/s]"
      ]
     },
     "metadata": {},
     "output_type": "display_data"
    },
    {
     "data": {
      "application/vnd.jupyter.widget-view+json": {
       "model_id": "324183b4f3fd49ea930f85dc0924bd9e",
       "version_major": 2,
       "version_minor": 0
      },
      "text/plain": [
       "gdddd.png:   0%|          | 0.00/16.5k [00:00<?, ?B/s]"
      ]
     },
     "metadata": {},
     "output_type": "display_data"
    },
    {
     "data": {
      "application/vnd.jupyter.widget-view+json": {
       "model_id": "c47c51ad74be4ce08586707e304b6f58",
       "version_major": 2,
       "version_minor": 0
      },
      "text/plain": [
       "gjzbf.png:   0%|          | 0.00/9.62k [00:00<?, ?B/s]"
      ]
     },
     "metadata": {},
     "output_type": "display_data"
    },
    {
     "data": {
      "application/vnd.jupyter.widget-view+json": {
       "model_id": "29c009992a9642d98f48a33c6a1be5b8",
       "version_major": 2,
       "version_minor": 0
      },
      "text/plain": [
       "gkdcz.png:   0%|          | 0.00/22.8k [00:00<?, ?B/s]"
      ]
     },
     "metadata": {},
     "output_type": "display_data"
    },
    {
     "data": {
      "application/vnd.jupyter.widget-view+json": {
       "model_id": "4d5f63409b4744959085da770807b502",
       "version_major": 2,
       "version_minor": 0
      },
      "text/plain": [
       "dfquc.png:   0%|          | 0.00/20.0k [00:00<?, ?B/s]"
      ]
     },
     "metadata": {},
     "output_type": "display_data"
    },
    {
     "data": {
      "application/vnd.jupyter.widget-view+json": {
       "model_id": "bfeff377ca0a4fb89f41a515d01556e7",
       "version_major": 2,
       "version_minor": 0
      },
      "text/plain": [
       "gqjcs.png:   0%|          | 0.00/18.1k [00:00<?, ?B/s]"
      ]
     },
     "metadata": {},
     "output_type": "display_data"
    },
    {
     "data": {
      "application/vnd.jupyter.widget-view+json": {
       "model_id": "085ce10765a640e99579c0f8479b33c8",
       "version_major": 2,
       "version_minor": 0
      },
      "text/plain": [
       "gymtn.png:   0%|          | 0.00/28.2k [00:00<?, ?B/s]"
      ]
     },
     "metadata": {},
     "output_type": "display_data"
    },
    {
     "data": {
      "application/vnd.jupyter.widget-view+json": {
       "model_id": "55a1f4a4f53340748334527f13d6d85e",
       "version_major": 2,
       "version_minor": 0
      },
      "text/plain": [
       "hpzpi.png:   0%|          | 0.00/15.3k [00:00<?, ?B/s]"
      ]
     },
     "metadata": {},
     "output_type": "display_data"
    },
    {
     "data": {
      "application/vnd.jupyter.widget-view+json": {
       "model_id": "4ff6b1244f744f058910bb677af319b4",
       "version_major": 2,
       "version_minor": 0
      },
      "text/plain": [
       "hltcq.png:   0%|          | 0.00/12.0k [00:00<?, ?B/s]"
      ]
     },
     "metadata": {},
     "output_type": "display_data"
    },
    {
     "data": {
      "application/vnd.jupyter.widget-view+json": {
       "model_id": "c61c6c532f6746afbe3bc3f2bf42b0c9",
       "version_major": 2,
       "version_minor": 0
      },
      "text/plain": [
       "hnzkw.png:   0%|          | 0.00/23.6k [00:00<?, ?B/s]"
      ]
     },
     "metadata": {},
     "output_type": "display_data"
    },
    {
     "data": {
      "application/vnd.jupyter.widget-view+json": {
       "model_id": "a94c1fa35fee4361825177337a35a826",
       "version_major": 2,
       "version_minor": 0
      },
      "text/plain": [
       "hsbqt.png:   0%|          | 0.00/12.6k [00:00<?, ?B/s]"
      ]
     },
     "metadata": {},
     "output_type": "display_data"
    },
    {
     "data": {
      "application/vnd.jupyter.widget-view+json": {
       "model_id": "b46b1d3be5564e7ca4c6e83c84ef19db",
       "version_major": 2,
       "version_minor": 0
      },
      "text/plain": [
       "hzsdg.png:   0%|          | 0.00/26.3k [00:00<?, ?B/s]"
      ]
     },
     "metadata": {},
     "output_type": "display_data"
    },
    {
     "data": {
      "application/vnd.jupyter.widget-view+json": {
       "model_id": "9b71990d756f4a7caaad5debd1930ccb",
       "version_major": 2,
       "version_minor": 0
      },
      "text/plain": [
       "hzpml.png:   0%|          | 0.00/10.9k [00:00<?, ?B/s]"
      ]
     },
     "metadata": {},
     "output_type": "display_data"
    },
    {
     "data": {
      "application/vnd.jupyter.widget-view+json": {
       "model_id": "6d54c3eb66e647ccac4fb0d0a5556b76",
       "version_major": 2,
       "version_minor": 0
      },
      "text/plain": [
       "iboti.png:   0%|          | 0.00/14.6k [00:00<?, ?B/s]"
      ]
     },
     "metadata": {},
     "output_type": "display_data"
    },
    {
     "data": {
      "application/vnd.jupyter.widget-view+json": {
       "model_id": "1f7ff65b395345069f45f7cf56b0ae31",
       "version_major": 2,
       "version_minor": 0
      },
      "text/plain": [
       "jqoel.png:   0%|          | 0.00/15.0k [00:00<?, ?B/s]"
      ]
     },
     "metadata": {},
     "output_type": "display_data"
    },
    {
     "data": {
      "application/vnd.jupyter.widget-view+json": {
       "model_id": "204d3e24bd4744d78f5b1edc440dea2f",
       "version_major": 2,
       "version_minor": 0
      },
      "text/plain": [
       "jicdt.png:   0%|          | 0.00/13.8k [00:00<?, ?B/s]"
      ]
     },
     "metadata": {},
     "output_type": "display_data"
    },
    {
     "data": {
      "application/vnd.jupyter.widget-view+json": {
       "model_id": "d2a5c5a32ce04295947b3b24eaf8b55f",
       "version_major": 2,
       "version_minor": 0
      },
      "text/plain": [
       "jfqqr.png:   0%|          | 0.00/26.6k [00:00<?, ?B/s]"
      ]
     },
     "metadata": {},
     "output_type": "display_data"
    },
    {
     "data": {
      "application/vnd.jupyter.widget-view+json": {
       "model_id": "80fd525ff4604dcba9bd96c665c74c3d",
       "version_major": 2,
       "version_minor": 0
      },
      "text/plain": [
       "kcrci.png:   0%|          | 0.00/19.6k [00:00<?, ?B/s]"
      ]
     },
     "metadata": {},
     "output_type": "display_data"
    },
    {
     "data": {
      "application/vnd.jupyter.widget-view+json": {
       "model_id": "5b29918060b64886b25625f710f3f484",
       "version_major": 2,
       "version_minor": 0
      },
      "text/plain": [
       "kkbul.png:   0%|          | 0.00/23.4k [00:00<?, ?B/s]"
      ]
     },
     "metadata": {},
     "output_type": "display_data"
    },
    {
     "data": {
      "application/vnd.jupyter.widget-view+json": {
       "model_id": "80e44811b2bd43df858fc4228b3578f0",
       "version_major": 2,
       "version_minor": 0
      },
      "text/plain": [
       "jhkxm.png:   0%|          | 0.00/10.9k [00:00<?, ?B/s]"
      ]
     },
     "metadata": {},
     "output_type": "display_data"
    },
    {
     "data": {
      "application/vnd.jupyter.widget-view+json": {
       "model_id": "e2f3f936fd494bc3a4d85447fdcd1c2c",
       "version_major": 2,
       "version_minor": 0
      },
      "text/plain": [
       "kzpqe.png:   0%|          | 0.00/16.6k [00:00<?, ?B/s]"
      ]
     },
     "metadata": {},
     "output_type": "display_data"
    },
    {
     "data": {
      "application/vnd.jupyter.widget-view+json": {
       "model_id": "ae2c89fc9dc24be8b4266f453241aa37",
       "version_major": 2,
       "version_minor": 0
      },
      "text/plain": [
       "kajhl.png:   0%|          | 0.00/9.12k [00:00<?, ?B/s]"
      ]
     },
     "metadata": {},
     "output_type": "display_data"
    },
    {
     "data": {
      "application/vnd.jupyter.widget-view+json": {
       "model_id": "e9adfc446b2e466ab5f99c82808062d0",
       "version_major": 2,
       "version_minor": 0
      },
      "text/plain": [
       "lftpk.png:   0%|          | 0.00/13.6k [00:00<?, ?B/s]"
      ]
     },
     "metadata": {},
     "output_type": "display_data"
    },
    {
     "data": {
      "application/vnd.jupyter.widget-view+json": {
       "model_id": "1ebdce8eaaf149e7af9c66a527713ca4",
       "version_major": 2,
       "version_minor": 0
      },
      "text/plain": [
       "lsqfx.png:   0%|          | 0.00/25.3k [00:00<?, ?B/s]"
      ]
     },
     "metadata": {},
     "output_type": "display_data"
    },
    {
     "data": {
      "application/vnd.jupyter.widget-view+json": {
       "model_id": "1e03551d4cf341ff9771318fcee482f9",
       "version_major": 2,
       "version_minor": 0
      },
      "text/plain": [
       "kzuuj.png:   0%|          | 0.00/22.0k [00:00<?, ?B/s]"
      ]
     },
     "metadata": {},
     "output_type": "display_data"
    },
    {
     "data": {
      "application/vnd.jupyter.widget-view+json": {
       "model_id": "adfcfc4646064ff38b8b11090ff21f6f",
       "version_major": 2,
       "version_minor": 0
      },
      "text/plain": [
       "lmqor.png:   0%|          | 0.00/28.4k [00:00<?, ?B/s]"
      ]
     },
     "metadata": {},
     "output_type": "display_data"
    },
    {
     "data": {
      "application/vnd.jupyter.widget-view+json": {
       "model_id": "49e75c607b8643fc903444bf783ae8be",
       "version_major": 2,
       "version_minor": 0
      },
      "text/plain": [
       "muodd.png:   0%|          | 0.00/19.3k [00:00<?, ?B/s]"
      ]
     },
     "metadata": {},
     "output_type": "display_data"
    },
    {
     "data": {
      "application/vnd.jupyter.widget-view+json": {
       "model_id": "637426804c414cd589f97e553898e4d6",
       "version_major": 2,
       "version_minor": 0
      },
      "text/plain": [
       "lwswb.png:   0%|          | 0.00/18.1k [00:00<?, ?B/s]"
      ]
     },
     "metadata": {},
     "output_type": "display_data"
    },
    {
     "data": {
      "application/vnd.jupyter.widget-view+json": {
       "model_id": "e18c60ad09f142708ac1eb2598b0b1bf",
       "version_major": 2,
       "version_minor": 0
      },
      "text/plain": [
       "lljfv.png:   0%|          | 0.00/28.7k [00:00<?, ?B/s]"
      ]
     },
     "metadata": {},
     "output_type": "display_data"
    },
    {
     "data": {
      "application/vnd.jupyter.widget-view+json": {
       "model_id": "3595a89cfb5e4bc28a090bda485617ee",
       "version_major": 2,
       "version_minor": 0
      },
      "text/plain": [
       "mxcyl.png:   0%|          | 0.00/13.6k [00:00<?, ?B/s]"
      ]
     },
     "metadata": {},
     "output_type": "display_data"
    },
    {
     "data": {
      "application/vnd.jupyter.widget-view+json": {
       "model_id": "cec297ee8a52418e9c8a3d660e8eaeab",
       "version_major": 2,
       "version_minor": 0
      },
      "text/plain": [
       "nokyy.png:   0%|          | 0.00/25.8k [00:00<?, ?B/s]"
      ]
     },
     "metadata": {},
     "output_type": "display_data"
    },
    {
     "data": {
      "application/vnd.jupyter.widget-view+json": {
       "model_id": "2698af77fa0e46d6af6115f04791dbdf",
       "version_major": 2,
       "version_minor": 0
      },
      "text/plain": [
       "nwgwo.png:   0%|          | 0.00/16.7k [00:00<?, ?B/s]"
      ]
     },
     "metadata": {},
     "output_type": "display_data"
    },
    {
     "data": {
      "application/vnd.jupyter.widget-view+json": {
       "model_id": "d5749e53f0ac47c3a4b42cc0837ea643",
       "version_major": 2,
       "version_minor": 0
      },
      "text/plain": [
       "oiohf.png:   0%|          | 0.00/13.6k [00:00<?, ?B/s]"
      ]
     },
     "metadata": {},
     "output_type": "display_data"
    },
    {
     "data": {
      "application/vnd.jupyter.widget-view+json": {
       "model_id": "a76c9aa4e0eb4ad3aaeacaefd4d46699",
       "version_major": 2,
       "version_minor": 0
      },
      "text/plain": [
       "ooaav.png:   0%|          | 0.00/17.7k [00:00<?, ?B/s]"
      ]
     },
     "metadata": {},
     "output_type": "display_data"
    },
    {
     "data": {
      "application/vnd.jupyter.widget-view+json": {
       "model_id": "24576290b5034aa482b400b70beea6e2",
       "version_major": 2,
       "version_minor": 0
      },
      "text/plain": [
       "odlgb.png:   0%|          | 0.00/19.3k [00:00<?, ?B/s]"
      ]
     },
     "metadata": {},
     "output_type": "display_data"
    },
    {
     "data": {
      "application/vnd.jupyter.widget-view+json": {
       "model_id": "b0e897e422c945eeb0a2d0d18b4357bc",
       "version_major": 2,
       "version_minor": 0
      },
      "text/plain": [
       "ofusu.png:   0%|          | 0.00/15.2k [00:00<?, ?B/s]"
      ]
     },
     "metadata": {},
     "output_type": "display_data"
    },
    {
     "data": {
      "application/vnd.jupyter.widget-view+json": {
       "model_id": "8a1c02dbd0964cadbf4fac0dc2bbc1f0",
       "version_major": 2,
       "version_minor": 0
      },
      "text/plain": [
       "obdyy.png:   0%|          | 0.00/20.0k [00:00<?, ?B/s]"
      ]
     },
     "metadata": {},
     "output_type": "display_data"
    },
    {
     "data": {
      "application/vnd.jupyter.widget-view+json": {
       "model_id": "5e703eb7a0114fb8bef93d73e0f7d781",
       "version_major": 2,
       "version_minor": 0
      },
      "text/plain": [
       "ouakr.png:   0%|          | 0.00/15.3k [00:00<?, ?B/s]"
      ]
     },
     "metadata": {},
     "output_type": "display_data"
    },
    {
     "data": {
      "application/vnd.jupyter.widget-view+json": {
       "model_id": "57fb1f788fc94228b44950dc7832cd00",
       "version_major": 2,
       "version_minor": 0
      },
      "text/plain": [
       "odirc.png:   0%|          | 0.00/25.0k [00:00<?, ?B/s]"
      ]
     },
     "metadata": {},
     "output_type": "display_data"
    },
    {
     "data": {
      "application/vnd.jupyter.widget-view+json": {
       "model_id": "99ef2eeafd01404e8f1a88e540cd1759",
       "version_major": 2,
       "version_minor": 0
      },
      "text/plain": [
       "ouivw.png:   0%|          | 0.00/12.2k [00:00<?, ?B/s]"
      ]
     },
     "metadata": {},
     "output_type": "display_data"
    },
    {
     "data": {
      "application/vnd.jupyter.widget-view+json": {
       "model_id": "df0137353e624cc0a8f0b1c083f60937",
       "version_major": 2,
       "version_minor": 0
      },
      "text/plain": [
       "pdigu.png:   0%|          | 0.00/13.3k [00:00<?, ?B/s]"
      ]
     },
     "metadata": {},
     "output_type": "display_data"
    },
    {
     "data": {
      "application/vnd.jupyter.widget-view+json": {
       "model_id": "78140b8217b448dfa95c3f9fb2fcc395",
       "version_major": 2,
       "version_minor": 0
      },
      "text/plain": [
       "pmtfj.png:   0%|          | 0.00/30.1k [00:00<?, ?B/s]"
      ]
     },
     "metadata": {},
     "output_type": "display_data"
    },
    {
     "data": {
      "application/vnd.jupyter.widget-view+json": {
       "model_id": "8848bb9652954263945d58b2fa89a1c1",
       "version_major": 2,
       "version_minor": 0
      },
      "text/plain": [
       "prqau.png:   0%|          | 0.00/13.9k [00:00<?, ?B/s]"
      ]
     },
     "metadata": {},
     "output_type": "display_data"
    },
    {
     "data": {
      "application/vnd.jupyter.widget-view+json": {
       "model_id": "9a9a46d108b944d08daa436b104ef93b",
       "version_major": 2,
       "version_minor": 0
      },
      "text/plain": [
       "prnfq.png:   0%|          | 0.00/10.4k [00:00<?, ?B/s]"
      ]
     },
     "metadata": {},
     "output_type": "display_data"
    },
    {
     "data": {
      "application/vnd.jupyter.widget-view+json": {
       "model_id": "f5a6f9c4cad443e598eb779c5a9ce273",
       "version_major": 2,
       "version_minor": 0
      },
      "text/plain": [
       "pvmcz.png:   0%|          | 0.00/11.1k [00:00<?, ?B/s]"
      ]
     },
     "metadata": {},
     "output_type": "display_data"
    },
    {
     "data": {
      "application/vnd.jupyter.widget-view+json": {
       "model_id": "c923a7763c6f41a996461bbae9f70a49",
       "version_major": 2,
       "version_minor": 0
      },
      "text/plain": [
       "pvydw.png:   0%|          | 0.00/26.1k [00:00<?, ?B/s]"
      ]
     },
     "metadata": {},
     "output_type": "display_data"
    },
    {
     "data": {
      "application/vnd.jupyter.widget-view+json": {
       "model_id": "da81d2e8589c4f4c9df646205f0a07b5",
       "version_major": 2,
       "version_minor": 0
      },
      "text/plain": [
       "qgaqz.png:   0%|          | 0.00/17.3k [00:00<?, ?B/s]"
      ]
     },
     "metadata": {},
     "output_type": "display_data"
    },
    {
     "data": {
      "application/vnd.jupyter.widget-view+json": {
       "model_id": "c0f9e9ed5a06470990d8acb36d14a309",
       "version_major": 2,
       "version_minor": 0
      },
      "text/plain": [
       "qawor.png:   0%|          | 0.00/13.9k [00:00<?, ?B/s]"
      ]
     },
     "metadata": {},
     "output_type": "display_data"
    },
    {
     "data": {
      "application/vnd.jupyter.widget-view+json": {
       "model_id": "240cb5f16f5f46e18f2f490c6e347403",
       "version_major": 2,
       "version_minor": 0
      },
      "text/plain": [
       "qjgjj.png:   0%|          | 0.00/25.5k [00:00<?, ?B/s]"
      ]
     },
     "metadata": {},
     "output_type": "display_data"
    },
    {
     "data": {
      "application/vnd.jupyter.widget-view+json": {
       "model_id": "6693b960e74545e7bcab24005ec0eb71",
       "version_major": 2,
       "version_minor": 0
      },
      "text/plain": [
       "qqdjq.png:   0%|          | 0.00/32.2k [00:00<?, ?B/s]"
      ]
     },
     "metadata": {},
     "output_type": "display_data"
    },
    {
     "data": {
      "application/vnd.jupyter.widget-view+json": {
       "model_id": "901ed4b120f6411cb1c91e5c203ae349",
       "version_major": 2,
       "version_minor": 0
      },
      "text/plain": [
       "rponj.png:   0%|          | 0.00/18.7k [00:00<?, ?B/s]"
      ]
     },
     "metadata": {},
     "output_type": "display_data"
    },
    {
     "data": {
      "application/vnd.jupyter.widget-view+json": {
       "model_id": "d0b85be0f6164f86aff0b75ef5d2e9f9",
       "version_major": 2,
       "version_minor": 0
      },
      "text/plain": [
       "tffbk.png:   0%|          | 0.00/17.1k [00:00<?, ?B/s]"
      ]
     },
     "metadata": {},
     "output_type": "display_data"
    },
    {
     "data": {
      "application/vnd.jupyter.widget-view+json": {
       "model_id": "2835cff24a1341aab9f8d5a49867e967",
       "version_major": 2,
       "version_minor": 0
      },
      "text/plain": [
       "sknty.png:   0%|          | 0.00/23.0k [00:00<?, ?B/s]"
      ]
     },
     "metadata": {},
     "output_type": "display_data"
    },
    {
     "data": {
      "application/vnd.jupyter.widget-view+json": {
       "model_id": "847d04f01e8148baa6684219c3abd63f",
       "version_major": 2,
       "version_minor": 0
      },
      "text/plain": [
       "qzgnv.png:   0%|          | 0.00/29.1k [00:00<?, ?B/s]"
      ]
     },
     "metadata": {},
     "output_type": "display_data"
    },
    {
     "data": {
      "application/vnd.jupyter.widget-view+json": {
       "model_id": "107ab967d21a4959bbe3d80fe576a2fc",
       "version_major": 2,
       "version_minor": 0
      },
      "text/plain": [
       "tesdi.png:   0%|          | 0.00/13.9k [00:00<?, ?B/s]"
      ]
     },
     "metadata": {},
     "output_type": "display_data"
    },
    {
     "data": {
      "application/vnd.jupyter.widget-view+json": {
       "model_id": "a93fd69fee174e5b9178785a9b700b6c",
       "version_major": 2,
       "version_minor": 0
      },
      "text/plain": [
       "sbpih.png:   0%|          | 0.00/9.36k [00:00<?, ?B/s]"
      ]
     },
     "metadata": {},
     "output_type": "display_data"
    },
    {
     "data": {
      "application/vnd.jupyter.widget-view+json": {
       "model_id": "e94c5c3f04b444f9ab5ed414262a5cc5",
       "version_major": 2,
       "version_minor": 0
      },
      "text/plain": [
       "tvsqf.png:   0%|          | 0.00/13.5k [00:00<?, ?B/s]"
      ]
     },
     "metadata": {},
     "output_type": "display_data"
    },
    {
     "data": {
      "application/vnd.jupyter.widget-view+json": {
       "model_id": "8218a96bab114878902c8869fb4c9fc7",
       "version_major": 2,
       "version_minor": 0
      },
      "text/plain": [
       "uqkmp.png:   0%|          | 0.00/14.0k [00:00<?, ?B/s]"
      ]
     },
     "metadata": {},
     "output_type": "display_data"
    },
    {
     "data": {
      "application/vnd.jupyter.widget-view+json": {
       "model_id": "397cfefcd6ad4428a3a773eb097a4d81",
       "version_major": 2,
       "version_minor": 0
      },
      "text/plain": [
       "uuuzn.png:   0%|          | 0.00/19.9k [00:00<?, ?B/s]"
      ]
     },
     "metadata": {},
     "output_type": "display_data"
    },
    {
     "data": {
      "application/vnd.jupyter.widget-view+json": {
       "model_id": "abcdf940603c4570a4adeda62d3ff267",
       "version_major": 2,
       "version_minor": 0
      },
      "text/plain": [
       "vdctq.png:   0%|          | 0.00/14.4k [00:00<?, ?B/s]"
      ]
     },
     "metadata": {},
     "output_type": "display_data"
    },
    {
     "data": {
      "application/vnd.jupyter.widget-view+json": {
       "model_id": "f37eecc294bc42a389b80a4414b99505",
       "version_major": 2,
       "version_minor": 0
      },
      "text/plain": [
       "viihy.png:   0%|          | 0.00/12.6k [00:00<?, ?B/s]"
      ]
     },
     "metadata": {},
     "output_type": "display_data"
    },
    {
     "data": {
      "application/vnd.jupyter.widget-view+json": {
       "model_id": "8667787cc7dc4a3d8e0471dfa1b175b3",
       "version_major": 2,
       "version_minor": 0
      },
      "text/plain": [
       "vmhje.png:   0%|          | 0.00/21.2k [00:00<?, ?B/s]"
      ]
     },
     "metadata": {},
     "output_type": "display_data"
    },
    {
     "data": {
      "application/vnd.jupyter.widget-view+json": {
       "model_id": "c5f10c9d1b794bd9b63fb8c8ee9fadde",
       "version_major": 2,
       "version_minor": 0
      },
      "text/plain": [
       "vzcjf.png:   0%|          | 0.00/20.0k [00:00<?, ?B/s]"
      ]
     },
     "metadata": {},
     "output_type": "display_data"
    },
    {
     "data": {
      "application/vnd.jupyter.widget-view+json": {
       "model_id": "8d35c825905444ef9f474cecc924929b",
       "version_major": 2,
       "version_minor": 0
      },
      "text/plain": [
       "wtcqz.png:   0%|          | 0.00/20.0k [00:00<?, ?B/s]"
      ]
     },
     "metadata": {},
     "output_type": "display_data"
    },
    {
     "data": {
      "application/vnd.jupyter.widget-view+json": {
       "model_id": "581be5ae84d34943823e02f448838d17",
       "version_major": 2,
       "version_minor": 0
      },
      "text/plain": [
       "wjkdu.png:   0%|          | 0.00/16.5k [00:00<?, ?B/s]"
      ]
     },
     "metadata": {},
     "output_type": "display_data"
    },
    {
     "data": {
      "application/vnd.jupyter.widget-view+json": {
       "model_id": "3727ae68cfae47c4ae0dab593e554e69",
       "version_major": 2,
       "version_minor": 0
      },
      "text/plain": [
       "vdqqb.png:   0%|          | 0.00/31.4k [00:00<?, ?B/s]"
      ]
     },
     "metadata": {},
     "output_type": "display_data"
    },
    {
     "data": {
      "application/vnd.jupyter.widget-view+json": {
       "model_id": "f065e57f64f5405a958a9d4420366dc0",
       "version_major": 2,
       "version_minor": 0
      },
      "text/plain": [
       "wttsx.png:   0%|          | 0.00/12.0k [00:00<?, ?B/s]"
      ]
     },
     "metadata": {},
     "output_type": "display_data"
    },
    {
     "data": {
      "application/vnd.jupyter.widget-view+json": {
       "model_id": "82144d8d2c404588874b8e507a110257",
       "version_major": 2,
       "version_minor": 0
      },
      "text/plain": [
       "wameh.png:   0%|          | 0.00/17.5k [00:00<?, ?B/s]"
      ]
     },
     "metadata": {},
     "output_type": "display_data"
    },
    {
     "data": {
      "application/vnd.jupyter.widget-view+json": {
       "model_id": "0caa155e21d44aea95568c7677bf1bf0",
       "version_major": 2,
       "version_minor": 0
      },
      "text/plain": [
       "xhvrg.png:   0%|          | 0.00/25.1k [00:00<?, ?B/s]"
      ]
     },
     "metadata": {},
     "output_type": "display_data"
    },
    {
     "data": {
      "application/vnd.jupyter.widget-view+json": {
       "model_id": "d120f75e68e042638752c988fabdcc32",
       "version_major": 2,
       "version_minor": 0
      },
      "text/plain": [
       "xiugj.png:   0%|          | 0.00/25.7k [00:00<?, ?B/s]"
      ]
     },
     "metadata": {},
     "output_type": "display_data"
    },
    {
     "data": {
      "application/vnd.jupyter.widget-view+json": {
       "model_id": "45d8eabe193d4c0983aa8ce113a6c775",
       "version_major": 2,
       "version_minor": 0
      },
      "text/plain": [
       "xbkio.png:   0%|          | 0.00/20.5k [00:00<?, ?B/s]"
      ]
     },
     "metadata": {},
     "output_type": "display_data"
    },
    {
     "data": {
      "application/vnd.jupyter.widget-view+json": {
       "model_id": "1f86ced3728c425d8f7f22e7d7d47fa6",
       "version_major": 2,
       "version_minor": 0
      },
      "text/plain": [
       "xoerq.png:   0%|          | 0.00/13.0k [00:00<?, ?B/s]"
      ]
     },
     "metadata": {},
     "output_type": "display_data"
    },
    {
     "data": {
      "application/vnd.jupyter.widget-view+json": {
       "model_id": "67ceba531fb647dcae6b4e39c520cbaa",
       "version_major": 2,
       "version_minor": 0
      },
      "text/plain": [
       "yhllr.png:   0%|          | 0.00/9.47k [00:00<?, ?B/s]"
      ]
     },
     "metadata": {},
     "output_type": "display_data"
    },
    {
     "data": {
      "application/vnd.jupyter.widget-view+json": {
       "model_id": "e27bbe1b361a4d94a8be564f04683c54",
       "version_major": 2,
       "version_minor": 0
      },
      "text/plain": [
       "zjffk.png:   0%|          | 0.00/24.8k [00:00<?, ?B/s]"
      ]
     },
     "metadata": {},
     "output_type": "display_data"
    },
    {
     "data": {
      "application/vnd.jupyter.widget-view+json": {
       "model_id": "1d9df7d5bfee451a82fa884ea68a19e4",
       "version_major": 2,
       "version_minor": 0
      },
      "text/plain": [
       "ytivk.png:   0%|          | 0.00/16.9k [00:00<?, ?B/s]"
      ]
     },
     "metadata": {},
     "output_type": "display_data"
    },
    {
     "data": {
      "application/vnd.jupyter.widget-view+json": {
       "model_id": "1426459d5b4f4a0e8aa857e88c25fa2f",
       "version_major": 2,
       "version_minor": 0
      },
      "text/plain": [
       "zmbzo.png:   0%|          | 0.00/16.3k [00:00<?, ?B/s]"
      ]
     },
     "metadata": {},
     "output_type": "display_data"
    },
    {
     "data": {
      "application/vnd.jupyter.widget-view+json": {
       "model_id": "33466808ec7047d692b87e0eacce61d3",
       "version_major": 2,
       "version_minor": 0
      },
      "text/plain": [
       "zolkh.png:   0%|          | 0.00/20.8k [00:00<?, ?B/s]"
      ]
     },
     "metadata": {},
     "output_type": "display_data"
    },
    {
     "data": {
      "application/vnd.jupyter.widget-view+json": {
       "model_id": "d603cdfefb8a4236b82c91417b470e3b",
       "version_major": 2,
       "version_minor": 0
      },
      "text/plain": [
       "zwbgs.png:   0%|          | 0.00/19.4k [00:00<?, ?B/s]"
      ]
     },
     "metadata": {},
     "output_type": "display_data"
    },
    {
     "data": {
      "application/vnd.jupyter.widget-view+json": {
       "model_id": "eb182eddfbdc4355b6737983e6c01032",
       "version_major": 2,
       "version_minor": 0
      },
      "text/plain": [
       "ztgqp.png:   0%|          | 0.00/28.3k [00:00<?, ?B/s]"
      ]
     },
     "metadata": {},
     "output_type": "display_data"
    },
    {
     "data": {
      "application/vnd.jupyter.widget-view+json": {
       "model_id": "2200153f36ab4c89a7f8ca8f4f80c1e4",
       "version_major": 2,
       "version_minor": 0
      },
      "text/plain": [
       "zxsoj.png:   0%|          | 0.00/14.3k [00:00<?, ?B/s]"
      ]
     },
     "metadata": {},
     "output_type": "display_data"
    },
    {
     "data": {
      "application/vnd.jupyter.widget-view+json": {
       "model_id": "c6fc3245d9744c6db4f7fb0bb5dd143e",
       "version_major": 2,
       "version_minor": 0
      },
      "text/plain": [
       "zwjjm.png:   0%|          | 0.00/12.1k [00:00<?, ?B/s]"
      ]
     },
     "metadata": {},
     "output_type": "display_data"
    },
    {
     "data": {
      "application/vnd.jupyter.widget-view+json": {
       "model_id": "88501621545c4d45abc3243e5094a484",
       "version_major": 2,
       "version_minor": 0
      },
      "text/plain": [
       "aogst.png:   0%|          | 0.00/16.5k [00:00<?, ?B/s]"
      ]
     },
     "metadata": {},
     "output_type": "display_data"
    },
    {
     "data": {
      "application/vnd.jupyter.widget-view+json": {
       "model_id": "25abff688e444f79a4dec7213d2240a1",
       "version_major": 2,
       "version_minor": 0
      },
      "text/plain": [
       "bbqxg.png:   0%|          | 0.00/9.47k [00:00<?, ?B/s]"
      ]
     },
     "metadata": {},
     "output_type": "display_data"
    },
    {
     "data": {
      "application/vnd.jupyter.widget-view+json": {
       "model_id": "ba886774c2224b1da843e2ebedb3fb82",
       "version_major": 2,
       "version_minor": 0
      },
      "text/plain": [
       "eckdo.png:   0%|          | 0.00/12.8k [00:00<?, ?B/s]"
      ]
     },
     "metadata": {},
     "output_type": "display_data"
    },
    {
     "data": {
      "application/vnd.jupyter.widget-view+json": {
       "model_id": "2373a73bc3e548f6adc7dc37604bd826",
       "version_major": 2,
       "version_minor": 0
      },
      "text/plain": [
       "cwrzg.png:   0%|          | 0.00/16.2k [00:00<?, ?B/s]"
      ]
     },
     "metadata": {},
     "output_type": "display_data"
    },
    {
     "data": {
      "application/vnd.jupyter.widget-view+json": {
       "model_id": "b293176008b34541b45db829f9afa813",
       "version_major": 2,
       "version_minor": 0
      },
      "text/plain": [
       "dbxmq.png:   0%|          | 0.00/24.8k [00:00<?, ?B/s]"
      ]
     },
     "metadata": {},
     "output_type": "display_data"
    },
    {
     "data": {
      "application/vnd.jupyter.widget-view+json": {
       "model_id": "7fc2315a0314429cadbcfecb6490f180",
       "version_major": 2,
       "version_minor": 0
      },
      "text/plain": [
       "engqt.png:   0%|          | 0.00/17.9k [00:00<?, ?B/s]"
      ]
     },
     "metadata": {},
     "output_type": "display_data"
    },
    {
     "data": {
      "application/vnd.jupyter.widget-view+json": {
       "model_id": "c70cd32a6b554f3192fef5d946476167",
       "version_major": 2,
       "version_minor": 0
      },
      "text/plain": [
       "fhnts.png:   0%|          | 0.00/26.0k [00:00<?, ?B/s]"
      ]
     },
     "metadata": {},
     "output_type": "display_data"
    },
    {
     "data": {
      "application/vnd.jupyter.widget-view+json": {
       "model_id": "bf3944923e114cb9bf10f0bbdbf7d69d",
       "version_major": 2,
       "version_minor": 0
      },
      "text/plain": [
       "hqfll.png:   0%|          | 0.00/16.2k [00:00<?, ?B/s]"
      ]
     },
     "metadata": {},
     "output_type": "display_data"
    },
    {
     "data": {
      "application/vnd.jupyter.widget-view+json": {
       "model_id": "4bb8722f051d4e3ba4590961116b0e9e",
       "version_major": 2,
       "version_minor": 0
      },
      "text/plain": [
       "gdchp.png:   0%|          | 0.00/32.1k [00:00<?, ?B/s]"
      ]
     },
     "metadata": {},
     "output_type": "display_data"
    },
    {
     "data": {
      "application/vnd.jupyter.widget-view+json": {
       "model_id": "df1ce89d3239465b84a9ceaf979d09d3",
       "version_major": 2,
       "version_minor": 0
      },
      "text/plain": [
       "ezuen.png:   0%|          | 0.00/30.8k [00:00<?, ?B/s]"
      ]
     },
     "metadata": {},
     "output_type": "display_data"
    },
    {
     "data": {
      "application/vnd.jupyter.widget-view+json": {
       "model_id": "8fe33b6e006e4f939fe1fc63a2c534da",
       "version_major": 2,
       "version_minor": 0
      },
      "text/plain": [
       "iiqot.png:   0%|          | 0.00/15.4k [00:00<?, ?B/s]"
      ]
     },
     "metadata": {},
     "output_type": "display_data"
    },
    {
     "data": {
      "application/vnd.jupyter.widget-view+json": {
       "model_id": "d324f7d2fd1b4dd3ad70bd47adbbc20b",
       "version_major": 2,
       "version_minor": 0
      },
      "text/plain": [
       "ijdzo.png:   0%|          | 0.00/17.4k [00:00<?, ?B/s]"
      ]
     },
     "metadata": {},
     "output_type": "display_data"
    },
    {
     "data": {
      "application/vnd.jupyter.widget-view+json": {
       "model_id": "3e863eddc2844d6f9ec84348c1036c33",
       "version_major": 2,
       "version_minor": 0
      },
      "text/plain": [
       "itzis.png:   0%|          | 0.00/11.8k [00:00<?, ?B/s]"
      ]
     },
     "metadata": {},
     "output_type": "display_data"
    },
    {
     "data": {
      "application/vnd.jupyter.widget-view+json": {
       "model_id": "2795cbb7f0634246a0859fe610bb25ac",
       "version_major": 2,
       "version_minor": 0
      },
      "text/plain": [
       "jggsc.png:   0%|          | 0.00/15.6k [00:00<?, ?B/s]"
      ]
     },
     "metadata": {},
     "output_type": "display_data"
    },
    {
     "data": {
      "application/vnd.jupyter.widget-view+json": {
       "model_id": "a22cd1939c1141c5aa9bd9f9fc969094",
       "version_major": 2,
       "version_minor": 0
      },
      "text/plain": [
       "iyphf.png:   0%|          | 0.00/19.3k [00:00<?, ?B/s]"
      ]
     },
     "metadata": {},
     "output_type": "display_data"
    },
    {
     "data": {
      "application/vnd.jupyter.widget-view+json": {
       "model_id": "ee1b61c5219849bdabca94812bd2cb62",
       "version_major": 2,
       "version_minor": 0
      },
      "text/plain": [
       "klxxh.png:   0%|          | 0.00/29.3k [00:00<?, ?B/s]"
      ]
     },
     "metadata": {},
     "output_type": "display_data"
    },
    {
     "data": {
      "application/vnd.jupyter.widget-view+json": {
       "model_id": "cd228032dab84a7db773960821fff356",
       "version_major": 2,
       "version_minor": 0
      },
      "text/plain": [
       "jjvxo.png:   0%|          | 0.00/35.9k [00:00<?, ?B/s]"
      ]
     },
     "metadata": {},
     "output_type": "display_data"
    },
    {
     "data": {
      "application/vnd.jupyter.widget-view+json": {
       "model_id": "a4f9b6ae9c8444e3a2b131835e250817",
       "version_major": 2,
       "version_minor": 0
      },
      "text/plain": [
       "iwiev.png:   0%|          | 0.00/28.1k [00:00<?, ?B/s]"
      ]
     },
     "metadata": {},
     "output_type": "display_data"
    },
    {
     "data": {
      "application/vnd.jupyter.widget-view+json": {
       "model_id": "d1c5e50e7dc149c9a2f001229162c5ab",
       "version_major": 2,
       "version_minor": 0
      },
      "text/plain": [
       "lvoiu.png:   0%|          | 0.00/20.7k [00:00<?, ?B/s]"
      ]
     },
     "metadata": {},
     "output_type": "display_data"
    },
    {
     "data": {
      "application/vnd.jupyter.widget-view+json": {
       "model_id": "b7a4195a32114565be01330282bf69bf",
       "version_major": 2,
       "version_minor": 0
      },
      "text/plain": [
       "kthks.png:   0%|          | 0.00/17.5k [00:00<?, ?B/s]"
      ]
     },
     "metadata": {},
     "output_type": "display_data"
    },
    {
     "data": {
      "application/vnd.jupyter.widget-view+json": {
       "model_id": "ac5a02a8a2fe4b9bae5bad311cc21905",
       "version_major": 2,
       "version_minor": 0
      },
      "text/plain": [
       "nfnmb.png:   0%|          | 0.00/21.7k [00:00<?, ?B/s]"
      ]
     },
     "metadata": {},
     "output_type": "display_data"
    },
    {
     "data": {
      "application/vnd.jupyter.widget-view+json": {
       "model_id": "7191b6d4e33a4877b836cb405c06ad5e",
       "version_major": 2,
       "version_minor": 0
      },
      "text/plain": [
       "lzwdh.png:   0%|          | 0.00/20.1k [00:00<?, ?B/s]"
      ]
     },
     "metadata": {},
     "output_type": "display_data"
    },
    {
     "data": {
      "application/vnd.jupyter.widget-view+json": {
       "model_id": "d7d90c587cfa40b4a7d3df475308baef",
       "version_major": 2,
       "version_minor": 0
      },
      "text/plain": [
       "ngxvb.png:   0%|          | 0.00/29.9k [00:00<?, ?B/s]"
      ]
     },
     "metadata": {},
     "output_type": "display_data"
    },
    {
     "data": {
      "application/vnd.jupyter.widget-view+json": {
       "model_id": "723913b9dfb44014803710fec5f5b485",
       "version_major": 2,
       "version_minor": 0
      },
      "text/plain": [
       "nojtp.png:   0%|          | 0.00/34.0k [00:00<?, ?B/s]"
      ]
     },
     "metadata": {},
     "output_type": "display_data"
    },
    {
     "data": {
      "application/vnd.jupyter.widget-view+json": {
       "model_id": "a3f14f87342d4ede9f40b9780432303e",
       "version_major": 2,
       "version_minor": 0
      },
      "text/plain": [
       "miufj.png:   0%|          | 0.00/18.3k [00:00<?, ?B/s]"
      ]
     },
     "metadata": {},
     "output_type": "display_data"
    },
    {
     "data": {
      "application/vnd.jupyter.widget-view+json": {
       "model_id": "e2bf4bc68b9846b4bbd743133be346ba",
       "version_major": 2,
       "version_minor": 0
      },
      "text/plain": [
       "mfros.png:   0%|          | 0.00/14.0k [00:00<?, ?B/s]"
      ]
     },
     "metadata": {},
     "output_type": "display_data"
    },
    {
     "data": {
      "application/vnd.jupyter.widget-view+json": {
       "model_id": "bbe39018f03b48c291f2701f9f232bf4",
       "version_major": 2,
       "version_minor": 0
      },
      "text/plain": [
       "mzwjh.png:   0%|          | 0.00/34.2k [00:00<?, ?B/s]"
      ]
     },
     "metadata": {},
     "output_type": "display_data"
    },
    {
     "data": {
      "application/vnd.jupyter.widget-view+json": {
       "model_id": "acf3569470ae416ea9c3272a60e7c7de",
       "version_major": 2,
       "version_minor": 0
      },
      "text/plain": [
       "pijkw.png:   0%|          | 0.00/9.38k [00:00<?, ?B/s]"
      ]
     },
     "metadata": {},
     "output_type": "display_data"
    },
    {
     "data": {
      "application/vnd.jupyter.widget-view+json": {
       "model_id": "3d84e22c217e43e2b7db4f1d4460e006",
       "version_major": 2,
       "version_minor": 0
      },
      "text/plain": [
       "qsiio.png:   0%|          | 0.00/11.6k [00:00<?, ?B/s]"
      ]
     },
     "metadata": {},
     "output_type": "display_data"
    },
    {
     "data": {
      "application/vnd.jupyter.widget-view+json": {
       "model_id": "07526ce5b2f7466da53a79c4e1714a94",
       "version_major": 2,
       "version_minor": 0
      },
      "text/plain": [
       "qemqk.png:   0%|          | 0.00/15.9k [00:00<?, ?B/s]"
      ]
     },
     "metadata": {},
     "output_type": "display_data"
    },
    {
     "data": {
      "application/vnd.jupyter.widget-view+json": {
       "model_id": "e38cefffeb3a498ca06d78b0994c7d46",
       "version_major": 2,
       "version_minor": 0
      },
      "text/plain": [
       "skjpp.png:   0%|          | 0.00/29.3k [00:00<?, ?B/s]"
      ]
     },
     "metadata": {},
     "output_type": "display_data"
    },
    {
     "data": {
      "application/vnd.jupyter.widget-view+json": {
       "model_id": "e73d39a415db406c99b0db3e6efb7b48",
       "version_major": 2,
       "version_minor": 0
      },
      "text/plain": [
       "sjplt.png:   0%|          | 0.00/26.8k [00:00<?, ?B/s]"
      ]
     },
     "metadata": {},
     "output_type": "display_data"
    },
    {
     "data": {
      "application/vnd.jupyter.widget-view+json": {
       "model_id": "e5812de4db674ba38ca43057981d5739",
       "version_major": 2,
       "version_minor": 0
      },
      "text/plain": [
       "uciie.png:   0%|          | 0.00/10.7k [00:00<?, ?B/s]"
      ]
     },
     "metadata": {},
     "output_type": "display_data"
    },
    {
     "data": {
      "application/vnd.jupyter.widget-view+json": {
       "model_id": "efd03b7f72ad442ea51ca3f9c70c2ac0",
       "version_major": 2,
       "version_minor": 0
      },
      "text/plain": [
       "skqhg.png:   0%|          | 0.00/24.6k [00:00<?, ?B/s]"
      ]
     },
     "metadata": {},
     "output_type": "display_data"
    },
    {
     "data": {
      "application/vnd.jupyter.widget-view+json": {
       "model_id": "ed71e0fa254443a3a8b7dfe2199e2bd0",
       "version_major": 2,
       "version_minor": 0
      },
      "text/plain": [
       "siisg.png:   0%|          | 0.00/14.7k [00:00<?, ?B/s]"
      ]
     },
     "metadata": {},
     "output_type": "display_data"
    },
    {
     "data": {
      "application/vnd.jupyter.widget-view+json": {
       "model_id": "c46b608b05d44f839bff15857c65ed3a",
       "version_major": 2,
       "version_minor": 0
      },
      "text/plain": [
       "qtudi.png:   0%|          | 0.00/30.1k [00:00<?, ?B/s]"
      ]
     },
     "metadata": {},
     "output_type": "display_data"
    },
    {
     "data": {
      "application/vnd.jupyter.widget-view+json": {
       "model_id": "8ed251fbf08645078a574e317d08081b",
       "version_major": 2,
       "version_minor": 0
      },
      "text/plain": [
       "uyjad.png:   0%|          | 0.00/21.2k [00:00<?, ?B/s]"
      ]
     },
     "metadata": {},
     "output_type": "display_data"
    },
    {
     "data": {
      "application/vnd.jupyter.widget-view+json": {
       "model_id": "350d73467a54478fb9f16a5dbdc08d63",
       "version_major": 2,
       "version_minor": 0
      },
      "text/plain": [
       "ukwfg.png:   0%|          | 0.00/16.0k [00:00<?, ?B/s]"
      ]
     },
     "metadata": {},
     "output_type": "display_data"
    },
    {
     "data": {
      "application/vnd.jupyter.widget-view+json": {
       "model_id": "96e3c35053394ba7b2705ca23d05e8fa",
       "version_major": 2,
       "version_minor": 0
      },
      "text/plain": [
       "vcnst.png:   0%|          | 0.00/28.8k [00:00<?, ?B/s]"
      ]
     },
     "metadata": {},
     "output_type": "display_data"
    },
    {
     "data": {
      "application/vnd.jupyter.widget-view+json": {
       "model_id": "be8e66e8befa406dae0772e3a401416d",
       "version_major": 2,
       "version_minor": 0
      },
      "text/plain": [
       "wvbsi.png:   0%|          | 0.00/28.7k [00:00<?, ?B/s]"
      ]
     },
     "metadata": {},
     "output_type": "display_data"
    },
    {
     "data": {
      "application/vnd.jupyter.widget-view+json": {
       "model_id": "cdfec7777dec4fa29f6f74a57be10383",
       "version_major": 2,
       "version_minor": 0
      },
      "text/plain": [
       "yjglq.png:   0%|          | 0.00/15.2k [00:00<?, ?B/s]"
      ]
     },
     "metadata": {},
     "output_type": "display_data"
    },
    {
     "data": {
      "application/vnd.jupyter.widget-view+json": {
       "model_id": "05122c71eb0b4c9ea9bbde47231cab56",
       "version_major": 2,
       "version_minor": 0
      },
      "text/plain": [
       "yzaxb.png:   0%|          | 0.00/23.3k [00:00<?, ?B/s]"
      ]
     },
     "metadata": {},
     "output_type": "display_data"
    },
    {
     "data": {
      "application/vnd.jupyter.widget-view+json": {
       "model_id": "e967c58f39ff4d95aa236d10fc864f70",
       "version_major": 2,
       "version_minor": 0
      },
      "text/plain": [
       "yracw.png:   0%|          | 0.00/17.2k [00:00<?, ?B/s]"
      ]
     },
     "metadata": {},
     "output_type": "display_data"
    },
    {
     "data": {
      "application/vnd.jupyter.widget-view+json": {
       "model_id": "1117a9088c2e4bbf85025512e9651804",
       "version_major": 2,
       "version_minor": 0
      },
      "text/plain": [
       "xvhbx.png:   0%|          | 0.00/11.6k [00:00<?, ?B/s]"
      ]
     },
     "metadata": {},
     "output_type": "display_data"
    },
    {
     "data": {
      "application/vnd.jupyter.widget-view+json": {
       "model_id": "7b871f87cf094777824a145f5c551b7c",
       "version_major": 2,
       "version_minor": 0
      },
      "text/plain": [
       "wtdvm.png:   0%|          | 0.00/16.1k [00:00<?, ?B/s]"
      ]
     },
     "metadata": {},
     "output_type": "display_data"
    },
    {
     "data": {
      "application/vnd.jupyter.widget-view+json": {
       "model_id": "a53cccdb263747b585bf6c3eaf322c89",
       "version_major": 2,
       "version_minor": 0
      },
      "text/plain": [
       "wakcc.png:   0%|          | 0.00/30.5k [00:00<?, ?B/s]"
      ]
     },
     "metadata": {},
     "output_type": "display_data"
    },
    {
     "data": {
      "application/vnd.jupyter.widget-view+json": {
       "model_id": "22c3f916f1fe4ae0af1b1869422f1427",
       "version_major": 2,
       "version_minor": 0
      },
      "text/plain": [
       "zivsv.png:   0%|          | 0.00/10.4k [00:00<?, ?B/s]"
      ]
     },
     "metadata": {},
     "output_type": "display_data"
    },
    {
     "data": {
      "application/vnd.jupyter.widget-view+json": {
       "model_id": "bcdc8d28c21c4539b671d19678df52b2",
       "version_major": 2,
       "version_minor": 0
      },
      "text/plain": [
       "zjxrd.png:   0%|          | 0.00/23.2k [00:00<?, ?B/s]"
      ]
     },
     "metadata": {},
     "output_type": "display_data"
    },
    {
     "data": {
      "application/vnd.jupyter.widget-view+json": {
       "model_id": "4c6a21c349504027a93ccebb1cac3e23",
       "version_major": 2,
       "version_minor": 0
      },
      "text/plain": [
       "zluym.png:   0%|          | 0.00/24.4k [00:00<?, ?B/s]"
      ]
     },
     "metadata": {},
     "output_type": "display_data"
    },
    {
     "data": {
      "application/vnd.jupyter.widget-view+json": {
       "model_id": "f2a7bf06bdc24f7ebdd24c499069afbc",
       "version_major": 2,
       "version_minor": 0
      },
      "text/plain": [
       "rc.png:   0%|          | 0.00/2.11M [00:00<?, ?B/s]"
      ]
     },
     "metadata": {},
     "output_type": "display_data"
    },
    {
     "data": {
      "application/vnd.jupyter.widget-view+json": {
       "model_id": "02271c1aa33d4600b6716e8b0ca43534",
       "version_major": 2,
       "version_minor": 0
      },
      "text/plain": [
       "zqqan.png:   0%|          | 0.00/19.4k [00:00<?, ?B/s]"
      ]
     },
     "metadata": {},
     "output_type": "display_data"
    },
    {
     "data": {
      "application/vnd.jupyter.widget-view+json": {
       "model_id": "b5ecd7f6a9c5459fb30eef278e02a102",
       "version_major": 2,
       "version_minor": 0
      },
      "text/plain": [
       "bapif.png:   0%|          | 0.00/16.0k [00:00<?, ?B/s]"
      ]
     },
     "metadata": {},
     "output_type": "display_data"
    },
    {
     "data": {
      "application/vnd.jupyter.widget-view+json": {
       "model_id": "8a7f99e0cff346f0918202121fe0a85f",
       "version_major": 2,
       "version_minor": 0
      },
      "text/plain": [
       "bfvcs.png:   0%|          | 0.00/18.8k [00:00<?, ?B/s]"
      ]
     },
     "metadata": {},
     "output_type": "display_data"
    },
    {
     "data": {
      "application/vnd.jupyter.widget-view+json": {
       "model_id": "5b97f5df101f48aea1cd9c1e034fd160",
       "version_major": 2,
       "version_minor": 0
      },
      "text/plain": [
       "axmqi.png:   0%|          | 0.00/17.9k [00:00<?, ?B/s]"
      ]
     },
     "metadata": {},
     "output_type": "display_data"
    },
    {
     "data": {
      "application/vnd.jupyter.widget-view+json": {
       "model_id": "10d187b7d4e64e92815a97be6737d0c9",
       "version_major": 2,
       "version_minor": 0
      },
      "text/plain": [
       "crzdd.png:   0%|          | 0.00/40.8k [00:00<?, ?B/s]"
      ]
     },
     "metadata": {},
     "output_type": "display_data"
    },
    {
     "data": {
      "application/vnd.jupyter.widget-view+json": {
       "model_id": "75591bd12f8a42258c6dce1cd5c11519",
       "version_major": 2,
       "version_minor": 0
      },
      "text/plain": [
       "cscli.png:   0%|          | 0.00/18.5k [00:00<?, ?B/s]"
      ]
     },
     "metadata": {},
     "output_type": "display_data"
    },
    {
     "data": {
      "application/vnd.jupyter.widget-view+json": {
       "model_id": "032361dd0c31449cb20c5f87613b1908",
       "version_major": 2,
       "version_minor": 0
      },
      "text/plain": [
       "bycwu.png:   0%|          | 0.00/17.8k [00:00<?, ?B/s]"
      ]
     },
     "metadata": {},
     "output_type": "display_data"
    },
    {
     "data": {
      "application/vnd.jupyter.widget-view+json": {
       "model_id": "4dbc7d86280945a78cab779055d0ef96",
       "version_major": 2,
       "version_minor": 0
      },
      "text/plain": [
       "eloyb.png:   0%|          | 0.00/21.8k [00:00<?, ?B/s]"
      ]
     },
     "metadata": {},
     "output_type": "display_data"
    },
    {
     "data": {
      "application/vnd.jupyter.widget-view+json": {
       "model_id": "8cc8f17a4d164724933fe8609b4de60f",
       "version_major": 2,
       "version_minor": 0
      },
      "text/plain": [
       "eiukk.png:   0%|          | 0.00/12.2k [00:00<?, ?B/s]"
      ]
     },
     "metadata": {},
     "output_type": "display_data"
    },
    {
     "data": {
      "application/vnd.jupyter.widget-view+json": {
       "model_id": "5e2dbcf85a8947828b25f922f6af6f36",
       "version_major": 2,
       "version_minor": 0
      },
      "text/plain": [
       "etckt.png:   0%|          | 0.00/13.4k [00:00<?, ?B/s]"
      ]
     },
     "metadata": {},
     "output_type": "display_data"
    },
    {
     "data": {
      "application/vnd.jupyter.widget-view+json": {
       "model_id": "7a5f23dc9247418baedeab2180a088d0",
       "version_major": 2,
       "version_minor": 0
      },
      "text/plain": [
       "ewqup.png:   0%|          | 0.00/25.8k [00:00<?, ?B/s]"
      ]
     },
     "metadata": {},
     "output_type": "display_data"
    },
    {
     "data": {
      "application/vnd.jupyter.widget-view+json": {
       "model_id": "1d35d739b54d4d2b9dcc758567fcf899",
       "version_major": 2,
       "version_minor": 0
      },
      "text/plain": [
       "flzyt.png:   0%|          | 0.00/16.0k [00:00<?, ?B/s]"
      ]
     },
     "metadata": {},
     "output_type": "display_data"
    },
    {
     "data": {
      "application/vnd.jupyter.widget-view+json": {
       "model_id": "d95e48cb86bb46a4a67d7b1219799726",
       "version_major": 2,
       "version_minor": 0
      },
      "text/plain": [
       "fingp.png:   0%|          | 0.00/21.2k [00:00<?, ?B/s]"
      ]
     },
     "metadata": {},
     "output_type": "display_data"
    },
    {
     "data": {
      "application/vnd.jupyter.widget-view+json": {
       "model_id": "ba03c49df7fc41828241b6a41d86631c",
       "version_major": 2,
       "version_minor": 0
      },
      "text/plain": [
       "hmfij.png:   0%|          | 0.00/14.8k [00:00<?, ?B/s]"
      ]
     },
     "metadata": {},
     "output_type": "display_data"
    },
    {
     "data": {
      "application/vnd.jupyter.widget-view+json": {
       "model_id": "67eefe55278148a19b911f6433b504cd",
       "version_major": 2,
       "version_minor": 0
      },
      "text/plain": [
       "gugeq.png:   0%|          | 0.00/20.1k [00:00<?, ?B/s]"
      ]
     },
     "metadata": {},
     "output_type": "display_data"
    },
    {
     "data": {
      "application/vnd.jupyter.widget-view+json": {
       "model_id": "647597bb69b34da5a943ce50128aa3b8",
       "version_major": 2,
       "version_minor": 0
      },
      "text/plain": [
       "iafbj.png:   0%|          | 0.00/13.9k [00:00<?, ?B/s]"
      ]
     },
     "metadata": {},
     "output_type": "display_data"
    },
    {
     "data": {
      "application/vnd.jupyter.widget-view+json": {
       "model_id": "8c0ecb7da3154c9d9622893c156e7626",
       "version_major": 2,
       "version_minor": 0
      },
      "text/plain": [
       "ihzgr.png:   0%|          | 0.00/17.2k [00:00<?, ?B/s]"
      ]
     },
     "metadata": {},
     "output_type": "display_data"
    },
    {
     "data": {
      "application/vnd.jupyter.widget-view+json": {
       "model_id": "4a7920bb4f3a4bed9be240ff6019cc31",
       "version_major": 2,
       "version_minor": 0
      },
      "text/plain": [
       "mwtnv.png:   0%|          | 0.00/17.2k [00:00<?, ?B/s]"
      ]
     },
     "metadata": {},
     "output_type": "display_data"
    },
    {
     "data": {
      "application/vnd.jupyter.widget-view+json": {
       "model_id": "59a68aa0f4254f66afe42a4f8792b448",
       "version_major": 2,
       "version_minor": 0
      },
      "text/plain": [
       "gtsoa.png:   0%|          | 0.00/11.1k [00:00<?, ?B/s]"
      ]
     },
     "metadata": {},
     "output_type": "display_data"
    },
    {
     "data": {
      "application/vnd.jupyter.widget-view+json": {
       "model_id": "ebdb255976db4f9fa208261027cbe8b4",
       "version_major": 2,
       "version_minor": 0
      },
      "text/plain": [
       "nztjt.png:   0%|          | 0.00/15.9k [00:00<?, ?B/s]"
      ]
     },
     "metadata": {},
     "output_type": "display_data"
    },
    {
     "data": {
      "application/vnd.jupyter.widget-view+json": {
       "model_id": "9880659912fd4888b466b1bb992a4788",
       "version_major": 2,
       "version_minor": 0
      },
      "text/plain": [
       "nrcsj.png:   0%|          | 0.00/15.8k [00:00<?, ?B/s]"
      ]
     },
     "metadata": {},
     "output_type": "display_data"
    },
    {
     "data": {
      "application/vnd.jupyter.widget-view+json": {
       "model_id": "2fc721dafeee4d0ba8a692a5297efcbc",
       "version_major": 2,
       "version_minor": 0
      },
      "text/plain": [
       "oflqt.png:   0%|          | 0.00/14.7k [00:00<?, ?B/s]"
      ]
     },
     "metadata": {},
     "output_type": "display_data"
    },
    {
     "data": {
      "application/vnd.jupyter.widget-view+json": {
       "model_id": "eb898c197b6e420e9f16f43e9482eee1",
       "version_major": 2,
       "version_minor": 0
      },
      "text/plain": [
       "npnbr.png:   0%|          | 0.00/19.1k [00:00<?, ?B/s]"
      ]
     },
     "metadata": {},
     "output_type": "display_data"
    },
    {
     "data": {
      "application/vnd.jupyter.widget-view+json": {
       "model_id": "a9084b27829b49bdb086a2339e725297",
       "version_major": 2,
       "version_minor": 0
      },
      "text/plain": [
       "rrjcf.png:   0%|          | 0.00/14.2k [00:00<?, ?B/s]"
      ]
     },
     "metadata": {},
     "output_type": "display_data"
    },
    {
     "data": {
      "application/vnd.jupyter.widget-view+json": {
       "model_id": "50b468df143e473fb38fccb19951994b",
       "version_major": 2,
       "version_minor": 0
      },
      "text/plain": [
       "qpuna.png:   0%|          | 0.00/21.6k [00:00<?, ?B/s]"
      ]
     },
     "metadata": {},
     "output_type": "display_data"
    },
    {
     "data": {
      "application/vnd.jupyter.widget-view+json": {
       "model_id": "88926b44b6c64577a7d71d017537cff4",
       "version_major": 2,
       "version_minor": 0
      },
      "text/plain": [
       "jcexq.png:   0%|          | 0.00/22.6k [00:00<?, ?B/s]"
      ]
     },
     "metadata": {},
     "output_type": "display_data"
    },
    {
     "data": {
      "application/vnd.jupyter.widget-view+json": {
       "model_id": "aaf0f88755764526b7ce305d305ef092",
       "version_major": 2,
       "version_minor": 0
      },
      "text/plain": [
       "ptuwg.png:   0%|          | 0.00/22.2k [00:00<?, ?B/s]"
      ]
     },
     "metadata": {},
     "output_type": "display_data"
    },
    {
     "data": {
      "application/vnd.jupyter.widget-view+json": {
       "model_id": "e772c3c5490040419808eb9681d24867",
       "version_major": 2,
       "version_minor": 0
      },
      "text/plain": [
       "vcpqm.png:   0%|          | 0.00/23.0k [00:00<?, ?B/s]"
      ]
     },
     "metadata": {},
     "output_type": "display_data"
    },
    {
     "data": {
      "application/vnd.jupyter.widget-view+json": {
       "model_id": "debf28f5f3a94708bba7d1231b55eb5c",
       "version_major": 2,
       "version_minor": 0
      },
      "text/plain": [
       "xpkkn.png:   0%|          | 0.00/12.5k [00:00<?, ?B/s]"
      ]
     },
     "metadata": {},
     "output_type": "display_data"
    },
    {
     "data": {
      "application/vnd.jupyter.widget-view+json": {
       "model_id": "dedabd7890fb49ab8ebb96f789d69c17",
       "version_major": 2,
       "version_minor": 0
      },
      "text/plain": [
       "umtth.png:   0%|          | 0.00/11.1k [00:00<?, ?B/s]"
      ]
     },
     "metadata": {},
     "output_type": "display_data"
    },
    {
     "data": {
      "application/vnd.jupyter.widget-view+json": {
       "model_id": "b4dbe840e9cf4a6992a0e6dbe0933298",
       "version_major": 2,
       "version_minor": 0
      },
      "text/plain": [
       "yalyq.png:   0%|          | 0.00/26.2k [00:00<?, ?B/s]"
      ]
     },
     "metadata": {},
     "output_type": "display_data"
    },
    {
     "data": {
      "application/vnd.jupyter.widget-view+json": {
       "model_id": "9e245d517b644684bd16ee9b4c298cc0",
       "version_major": 2,
       "version_minor": 0
      },
      "text/plain": [
       "luqem.png:   0%|          | 0.00/20.1k [00:00<?, ?B/s]"
      ]
     },
     "metadata": {},
     "output_type": "display_data"
    },
    {
     "data": {
      "application/vnd.jupyter.widget-view+json": {
       "model_id": "29d94ea423cc49b099f03c6d85a26b1b",
       "version_major": 2,
       "version_minor": 0
      },
      "text/plain": [
       "qjidg.png:   0%|          | 0.00/25.3k [00:00<?, ?B/s]"
      ]
     },
     "metadata": {},
     "output_type": "display_data"
    },
    {
     "data": {
      "application/vnd.jupyter.widget-view+json": {
       "model_id": "2b4c27b8ec9f48fe9e58bd52848b1651",
       "version_major": 2,
       "version_minor": 0
      },
      "text/plain": [
       "oldfo.png:   0%|          | 0.00/9.86k [00:00<?, ?B/s]"
      ]
     },
     "metadata": {},
     "output_type": "display_data"
    },
    {
     "data": {
      "application/vnd.jupyter.widget-view+json": {
       "model_id": "d6770cf735d9405a9790b7ceb3154c29",
       "version_major": 2,
       "version_minor": 0
      },
      "text/plain": [
       "cseng.png:   0%|          | 0.00/17.6k [00:00<?, ?B/s]"
      ]
     },
     "metadata": {},
     "output_type": "display_data"
    },
    {
     "data": {
      "application/vnd.jupyter.widget-view+json": {
       "model_id": "40ee0fc2f33749f7b50f10d48d78bf8f",
       "version_major": 2,
       "version_minor": 0
      },
      "text/plain": [
       "wngod.png:   0%|          | 0.00/15.8k [00:00<?, ?B/s]"
      ]
     },
     "metadata": {},
     "output_type": "display_data"
    },
    {
     "data": {
      "application/vnd.jupyter.widget-view+json": {
       "model_id": "df4d1c26c4194866b72e5aefbda29ab0",
       "version_major": 2,
       "version_minor": 0
      },
      "text/plain": [
       "cguak.png:   0%|          | 0.00/9.76k [00:00<?, ?B/s]"
      ]
     },
     "metadata": {},
     "output_type": "display_data"
    },
    {
     "data": {
      "application/vnd.jupyter.widget-view+json": {
       "model_id": "c815aa4ffda04d4aa00742d403804f02",
       "version_major": 2,
       "version_minor": 0
      },
      "text/plain": [
       "cszlx.png:   0%|          | 0.00/16.8k [00:00<?, ?B/s]"
      ]
     },
     "metadata": {},
     "output_type": "display_data"
    },
    {
     "data": {
      "application/vnd.jupyter.widget-view+json": {
       "model_id": "f542c73c81f34603bf78810229875297",
       "version_major": 2,
       "version_minor": 0
      },
      "text/plain": [
       "eogbz.png:   0%|          | 0.00/15.2k [00:00<?, ?B/s]"
      ]
     },
     "metadata": {},
     "output_type": "display_data"
    },
    {
     "data": {
      "application/vnd.jupyter.widget-view+json": {
       "model_id": "4d5d186c677944a4b9fb5d804b27b3e9",
       "version_major": 2,
       "version_minor": 0
      },
      "text/plain": [
       "fcapa.png:   0%|          | 0.00/14.6k [00:00<?, ?B/s]"
      ]
     },
     "metadata": {},
     "output_type": "display_data"
    },
    {
     "data": {
      "application/vnd.jupyter.widget-view+json": {
       "model_id": "0536972a77ee404190a3898b48f9b7b7",
       "version_major": 2,
       "version_minor": 0
      },
      "text/plain": [
       "npxve.png:   0%|          | 0.00/16.7k [00:00<?, ?B/s]"
      ]
     },
     "metadata": {},
     "output_type": "display_data"
    },
    {
     "data": {
      "application/vnd.jupyter.widget-view+json": {
       "model_id": "59680abc57de4a7486d92c854d2294b0",
       "version_major": 2,
       "version_minor": 0
      },
      "text/plain": [
       "habim.png:   0%|          | 0.00/11.8k [00:00<?, ?B/s]"
      ]
     },
     "metadata": {},
     "output_type": "display_data"
    },
    {
     "data": {
      "application/vnd.jupyter.widget-view+json": {
       "model_id": "a0e6bbf76ce8429eb30ab7d4a17b4c5e",
       "version_major": 2,
       "version_minor": 0
      },
      "text/plain": [
       "hboqz.png:   0%|          | 0.00/13.4k [00:00<?, ?B/s]"
      ]
     },
     "metadata": {},
     "output_type": "display_data"
    },
    {
     "data": {
      "application/vnd.jupyter.widget-view+json": {
       "model_id": "184d615c60d84a2cbf16be36e146d5cf",
       "version_major": 2,
       "version_minor": 0
      },
      "text/plain": [
       "stfpp.png:   0%|          | 0.00/17.9k [00:00<?, ?B/s]"
      ]
     },
     "metadata": {},
     "output_type": "display_data"
    },
    {
     "data": {
      "application/vnd.jupyter.widget-view+json": {
       "model_id": "7a16277f12fb44119be10939b25381b6",
       "version_major": 2,
       "version_minor": 0
      },
      "text/plain": [
       "udywe.png:   0%|          | 0.00/12.6k [00:00<?, ?B/s]"
      ]
     },
     "metadata": {},
     "output_type": "display_data"
    },
    {
     "data": {
      "application/vnd.jupyter.widget-view+json": {
       "model_id": "49345f3344fb475589ecb8742618ca97",
       "version_major": 2,
       "version_minor": 0
      },
      "text/plain": [
       "nfdis.png:   0%|          | 0.00/36.7k [00:00<?, ?B/s]"
      ]
     },
     "metadata": {},
     "output_type": "display_data"
    },
    {
     "data": {
      "application/vnd.jupyter.widget-view+json": {
       "model_id": "8b5ae41664514ffdade07e44654fe266",
       "version_major": 2,
       "version_minor": 0
      },
      "text/plain": [
       "qqedc.png:   0%|          | 0.00/27.8k [00:00<?, ?B/s]"
      ]
     },
     "metadata": {},
     "output_type": "display_data"
    },
    {
     "data": {
      "application/vnd.jupyter.widget-view+json": {
       "model_id": "0106d8eae88040be8a37cc81c8e4c708",
       "version_major": 2,
       "version_minor": 0
      },
      "text/plain": [
       "queqw.png:   0%|          | 0.00/34.5k [00:00<?, ?B/s]"
      ]
     },
     "metadata": {},
     "output_type": "display_data"
    },
    {
     "data": {
      "application/vnd.jupyter.widget-view+json": {
       "model_id": "e443df6b00e14512a2ed9911bf684080",
       "version_major": 2,
       "version_minor": 0
      },
      "text/plain": [
       "rknmq.png:   0%|          | 0.00/30.8k [00:00<?, ?B/s]"
      ]
     },
     "metadata": {},
     "output_type": "display_data"
    },
    {
     "data": {
      "application/vnd.jupyter.widget-view+json": {
       "model_id": "bb41b1936573400ab886c8b51a898fd3",
       "version_major": 2,
       "version_minor": 0
      },
      "text/plain": [
       "veyrp.png:   0%|          | 0.00/32.4k [00:00<?, ?B/s]"
      ]
     },
     "metadata": {},
     "output_type": "display_data"
    },
    {
     "data": {
      "application/vnd.jupyter.widget-view+json": {
       "model_id": "eb68939960364bbbb90b34f4f6719588",
       "version_major": 2,
       "version_minor": 0
      },
      "text/plain": [
       "tbxmd.png:   0%|          | 0.00/16.7k [00:00<?, ?B/s]"
      ]
     },
     "metadata": {},
     "output_type": "display_data"
    },
    {
     "data": {
      "application/vnd.jupyter.widget-view+json": {
       "model_id": "db6394d8b10d40b1b76eb9cbca3a3e96",
       "version_major": 2,
       "version_minor": 0
      },
      "text/plain": [
       "wuibt.png:   0%|          | 0.00/33.0k [00:00<?, ?B/s]"
      ]
     },
     "metadata": {},
     "output_type": "display_data"
    },
    {
     "data": {
      "application/vnd.jupyter.widget-view+json": {
       "model_id": "98a3dcc6386d4335a4a696ac88965455",
       "version_major": 2,
       "version_minor": 0
      },
      "text/plain": [
       "yuysg.png:   0%|          | 0.00/31.5k [00:00<?, ?B/s]"
      ]
     },
     "metadata": {},
     "output_type": "display_data"
    },
    {
     "data": {
      "application/vnd.jupyter.widget-view+json": {
       "model_id": "35f43b98e9df4bf38a069d93621ddf5a",
       "version_major": 2,
       "version_minor": 0
      },
      "text/plain": [
       "zghgx.png:   0%|          | 0.00/33.5k [00:00<?, ?B/s]"
      ]
     },
     "metadata": {},
     "output_type": "display_data"
    },
    {
     "data": {
      "application/vnd.jupyter.widget-view+json": {
       "model_id": "8db9e21f71a24de1b6d95e7bdf4ad73b",
       "version_major": 2,
       "version_minor": 0
      },
      "text/plain": [
       "aczhc.png:   0%|          | 0.00/19.4k [00:00<?, ?B/s]"
      ]
     },
     "metadata": {},
     "output_type": "display_data"
    },
    {
     "data": {
      "application/vnd.jupyter.widget-view+json": {
       "model_id": "6e6fd0847c374deb9718c45a8f58d60f",
       "version_major": 2,
       "version_minor": 0
      },
      "text/plain": [
       "xhmvz.png:   0%|          | 0.00/20.8k [00:00<?, ?B/s]"
      ]
     },
     "metadata": {},
     "output_type": "display_data"
    },
    {
     "data": {
      "application/vnd.jupyter.widget-view+json": {
       "model_id": "3255e6c1a39e4efe99a57a9a76216d9d",
       "version_major": 2,
       "version_minor": 0
      },
      "text/plain": [
       "yzuwt.png:   0%|          | 0.00/29.4k [00:00<?, ?B/s]"
      ]
     },
     "metadata": {},
     "output_type": "display_data"
    },
    {
     "data": {
      "application/vnd.jupyter.widget-view+json": {
       "model_id": "1b7242c54cff46bcbb4cef0ce489fe8a",
       "version_major": 2,
       "version_minor": 0
      },
      "text/plain": [
       "lrlgc.png:   0%|          | 0.00/27.3k [00:00<?, ?B/s]"
      ]
     },
     "metadata": {},
     "output_type": "display_data"
    },
    {
     "data": {
      "application/vnd.jupyter.widget-view+json": {
       "model_id": "dd73f9cb12e74697a14e71b0ac012305",
       "version_major": 2,
       "version_minor": 0
      },
      "text/plain": [
       "mllfl.png:   0%|          | 0.00/15.9k [00:00<?, ?B/s]"
      ]
     },
     "metadata": {},
     "output_type": "display_data"
    },
    {
     "data": {
      "application/vnd.jupyter.widget-view+json": {
       "model_id": "9f9b1b2f77b5482d83c6c219e8156a03",
       "version_major": 2,
       "version_minor": 0
      },
      "text/plain": [
       "dauab.png:   0%|          | 0.00/15.6k [00:00<?, ?B/s]"
      ]
     },
     "metadata": {},
     "output_type": "display_data"
    },
    {
     "data": {
      "application/vnd.jupyter.widget-view+json": {
       "model_id": "86c1208c973248838836ceb8917c053c",
       "version_major": 2,
       "version_minor": 0
      },
      "text/plain": [
       "qwnyk.png:   0%|          | 0.00/9.27k [00:00<?, ?B/s]"
      ]
     },
     "metadata": {},
     "output_type": "display_data"
    },
    {
     "data": {
      "application/vnd.jupyter.widget-view+json": {
       "model_id": "4306991f92ca4a68a0ed27e487f5cd49",
       "version_major": 2,
       "version_minor": 0
      },
      "text/plain": [
       "qnfma.png:   0%|          | 0.00/11.1k [00:00<?, ?B/s]"
      ]
     },
     "metadata": {},
     "output_type": "display_data"
    },
    {
     "data": {
      "application/vnd.jupyter.widget-view+json": {
       "model_id": "28bdb6f8d22141d79f511ced295e6ffd",
       "version_major": 2,
       "version_minor": 0
      },
      "text/plain": [
       "simtj.png:   0%|          | 0.00/17.4k [00:00<?, ?B/s]"
      ]
     },
     "metadata": {},
     "output_type": "display_data"
    },
    {
     "data": {
      "application/vnd.jupyter.widget-view+json": {
       "model_id": "4aa3f4d6fd4d4103be6592bfdc7841f9",
       "version_major": 2,
       "version_minor": 0
      },
      "text/plain": [
       "rhkiq.png:   0%|          | 0.00/26.5k [00:00<?, ?B/s]"
      ]
     },
     "metadata": {},
     "output_type": "display_data"
    },
    {
     "data": {
      "application/vnd.jupyter.widget-view+json": {
       "model_id": "aced239192084e748c222ee2cf557699",
       "version_major": 2,
       "version_minor": 0
      },
      "text/plain": [
       "psktg.png:   0%|          | 0.00/16.6k [00:00<?, ?B/s]"
      ]
     },
     "metadata": {},
     "output_type": "display_data"
    },
    {
     "data": {
      "application/vnd.jupyter.widget-view+json": {
       "model_id": "1d786eb97cfb4248977a219f429290ac",
       "version_major": 2,
       "version_minor": 0
      },
      "text/plain": [
       "yiwxa.png:   0%|          | 0.00/30.3k [00:00<?, ?B/s]"
      ]
     },
     "metadata": {},
     "output_type": "display_data"
    },
    {
     "data": {
      "application/vnd.jupyter.widget-view+json": {
       "model_id": "3b06c680f3184ed7bd87116f1e8763c9",
       "version_major": 2,
       "version_minor": 0
      },
      "text/plain": [
       "aqxqh.png:   0%|          | 0.00/13.7k [00:00<?, ?B/s]"
      ]
     },
     "metadata": {},
     "output_type": "display_data"
    },
    {
     "data": {
      "application/vnd.jupyter.widget-view+json": {
       "model_id": "7eff1edd508b4518b7aec17784fe30f8",
       "version_major": 2,
       "version_minor": 0
      },
      "text/plain": [
       "bglkg.png:   0%|          | 0.00/24.5k [00:00<?, ?B/s]"
      ]
     },
     "metadata": {},
     "output_type": "display_data"
    },
    {
     "data": {
      "application/vnd.jupyter.widget-view+json": {
       "model_id": "f7d5629c1b7f4c4ebba4b6e6194288b1",
       "version_major": 2,
       "version_minor": 0
      },
      "text/plain": [
       "mtumw.png:   0%|          | 0.00/23.5k [00:00<?, ?B/s]"
      ]
     },
     "metadata": {},
     "output_type": "display_data"
    },
    {
     "data": {
      "application/vnd.jupyter.widget-view+json": {
       "model_id": "4be2bf811e924712bd98b6478bc9f144",
       "version_major": 2,
       "version_minor": 0
      },
      "text/plain": [
       "knfjq.png:   0%|          | 0.00/38.3k [00:00<?, ?B/s]"
      ]
     },
     "metadata": {},
     "output_type": "display_data"
    },
    {
     "data": {
      "application/vnd.jupyter.widget-view+json": {
       "model_id": "7494a7299a2e4de6b68aa84ba4b8da82",
       "version_major": 2,
       "version_minor": 0
      },
      "text/plain": [
       "cxfcm.png:   0%|          | 0.00/22.3k [00:00<?, ?B/s]"
      ]
     },
     "metadata": {},
     "output_type": "display_data"
    },
    {
     "data": {
      "application/vnd.jupyter.widget-view+json": {
       "model_id": "da34c06be5984c7f8f6b7f6f313e537d",
       "version_major": 2,
       "version_minor": 0
      },
      "text/plain": [
       "ezais.png:   0%|          | 0.00/14.5k [00:00<?, ?B/s]"
      ]
     },
     "metadata": {},
     "output_type": "display_data"
    },
    {
     "data": {
      "application/vnd.jupyter.widget-view+json": {
       "model_id": "0430211bc331418aa6a2d1ee998b1544",
       "version_major": 2,
       "version_minor": 0
      },
      "text/plain": [
       "oftxx.png:   0%|          | 0.00/13.7k [00:00<?, ?B/s]"
      ]
     },
     "metadata": {},
     "output_type": "display_data"
    },
    {
     "data": {
      "application/vnd.jupyter.widget-view+json": {
       "model_id": "77d431b537494b63907b09a251ce1857",
       "version_major": 2,
       "version_minor": 0
      },
      "text/plain": [
       "qqvns.png:   0%|          | 0.00/29.3k [00:00<?, ?B/s]"
      ]
     },
     "metadata": {},
     "output_type": "display_data"
    },
    {
     "data": {
      "application/vnd.jupyter.widget-view+json": {
       "model_id": "1be08ce16b954f1f81bf873bf4ca8db8",
       "version_major": 2,
       "version_minor": 0
      },
      "text/plain": [
       "dqwmb.png:   0%|          | 0.00/21.4k [00:00<?, ?B/s]"
      ]
     },
     "metadata": {},
     "output_type": "display_data"
    },
    {
     "data": {
      "application/vnd.jupyter.widget-view+json": {
       "model_id": "af76b6cdf8df44a9abe60e8bc9b356de",
       "version_major": 2,
       "version_minor": 0
      },
      "text/plain": [
       "qwjfp.png:   0%|          | 0.00/26.2k [00:00<?, ?B/s]"
      ]
     },
     "metadata": {},
     "output_type": "display_data"
    },
    {
     "data": {
      "application/vnd.jupyter.widget-view+json": {
       "model_id": "de70787d4de74cada5fd596726cfeadb",
       "version_major": 2,
       "version_minor": 0
      },
      "text/plain": [
       "rpqps.png:   0%|          | 0.00/26.4k [00:00<?, ?B/s]"
      ]
     },
     "metadata": {},
     "output_type": "display_data"
    },
    {
     "data": {
      "application/vnd.jupyter.widget-view+json": {
       "model_id": "1855ca565539464991ca37ee3572266f",
       "version_major": 2,
       "version_minor": 0
      },
      "text/plain": [
       "rbiyw.png:   0%|          | 0.00/16.2k [00:00<?, ?B/s]"
      ]
     },
     "metadata": {},
     "output_type": "display_data"
    },
    {
     "data": {
      "application/vnd.jupyter.widget-view+json": {
       "model_id": "7c57535343824f9a81ca69cb0babbf50",
       "version_major": 2,
       "version_minor": 0
      },
      "text/plain": [
       "rhmnx.png:   0%|          | 0.00/15.9k [00:00<?, ?B/s]"
      ]
     },
     "metadata": {},
     "output_type": "display_data"
    },
    {
     "data": {
      "application/vnd.jupyter.widget-view+json": {
       "model_id": "d244be3ce17f46ddba348cf7fdf3a937",
       "version_major": 2,
       "version_minor": 0
      },
      "text/plain": [
       "whwpg.png:   0%|          | 0.00/20.8k [00:00<?, ?B/s]"
      ]
     },
     "metadata": {},
     "output_type": "display_data"
    },
    {
     "data": {
      "application/vnd.jupyter.widget-view+json": {
       "model_id": "06c31adeeef047df99574ca4f211d6e1",
       "version_major": 2,
       "version_minor": 0
      },
      "text/plain": [
       "voitc.png:   0%|          | 0.00/23.5k [00:00<?, ?B/s]"
      ]
     },
     "metadata": {},
     "output_type": "display_data"
    },
    {
     "data": {
      "application/vnd.jupyter.widget-view+json": {
       "model_id": "d45f804a70b845b2b1cc9a33643aa587",
       "version_major": 2,
       "version_minor": 0
      },
      "text/plain": [
       "rskdq.png:   0%|          | 0.00/25.6k [00:00<?, ?B/s]"
      ]
     },
     "metadata": {},
     "output_type": "display_data"
    },
    {
     "data": {
      "application/vnd.jupyter.widget-view+json": {
       "model_id": "8b9aa44ddd1c4d98a85e6b86cbe98ae6",
       "version_major": 2,
       "version_minor": 0
      },
      "text/plain": [
       "vkwsv.png:   0%|          | 0.00/22.6k [00:00<?, ?B/s]"
      ]
     },
     "metadata": {},
     "output_type": "display_data"
    },
    {
     "data": {
      "application/vnd.jupyter.widget-view+json": {
       "model_id": "96957bb0578e4a9ab976322daadd6297",
       "version_major": 2,
       "version_minor": 0
      },
      "text/plain": [
       "zrkau.png:   0%|          | 0.00/28.2k [00:00<?, ?B/s]"
      ]
     },
     "metadata": {},
     "output_type": "display_data"
    },
    {
     "data": {
      "application/vnd.jupyter.widget-view+json": {
       "model_id": "a7009d305ac847a1900819c29a87dc5c",
       "version_major": 2,
       "version_minor": 0
      },
      "text/plain": [
       "xrtfa.png:   0%|          | 0.00/27.0k [00:00<?, ?B/s]"
      ]
     },
     "metadata": {},
     "output_type": "display_data"
    },
    {
     "data": {
      "application/vnd.jupyter.widget-view+json": {
       "model_id": "99c3d709a5ff44f78fbf06fb5eb861f4",
       "version_major": 2,
       "version_minor": 0
      },
      "text/plain": [
       "ctuib.png:   0%|          | 0.00/11.3k [00:00<?, ?B/s]"
      ]
     },
     "metadata": {},
     "output_type": "display_data"
    },
    {
     "data": {
      "application/vnd.jupyter.widget-view+json": {
       "model_id": "35f93a1283dd45c69b16709efbab3d3e",
       "version_major": 2,
       "version_minor": 0
      },
      "text/plain": [
       "iihff.png:   0%|          | 0.00/18.3k [00:00<?, ?B/s]"
      ]
     },
     "metadata": {},
     "output_type": "display_data"
    },
    {
     "data": {
      "application/vnd.jupyter.widget-view+json": {
       "model_id": "40b86788c21a405592bae84e82b27cd9",
       "version_major": 2,
       "version_minor": 0
      },
      "text/plain": [
       "dwlzw.png:   0%|          | 0.00/17.9k [00:00<?, ?B/s]"
      ]
     },
     "metadata": {},
     "output_type": "display_data"
    },
    {
     "data": {
      "application/vnd.jupyter.widget-view+json": {
       "model_id": "9c08c66f8fa24e0590885cf8ec3ee50e",
       "version_major": 2,
       "version_minor": 0
      },
      "text/plain": [
       "hftpe.png:   0%|          | 0.00/15.0k [00:00<?, ?B/s]"
      ]
     },
     "metadata": {},
     "output_type": "display_data"
    },
    {
     "data": {
      "application/vnd.jupyter.widget-view+json": {
       "model_id": "dcad1a9da8df4747b4ce77e2cf17920c",
       "version_major": 2,
       "version_minor": 0
      },
      "text/plain": [
       "mrjdf.png:   0%|          | 0.00/18.2k [00:00<?, ?B/s]"
      ]
     },
     "metadata": {},
     "output_type": "display_data"
    },
    {
     "data": {
      "application/vnd.jupyter.widget-view+json": {
       "model_id": "9cc13c46a9bf4cd483a91ac013ee37b8",
       "version_major": 2,
       "version_minor": 0
      },
      "text/plain": [
       "kgvuk.png:   0%|          | 0.00/15.0k [00:00<?, ?B/s]"
      ]
     },
     "metadata": {},
     "output_type": "display_data"
    },
    {
     "data": {
      "application/vnd.jupyter.widget-view+json": {
       "model_id": "226555e4d873421e92c028260f70d7e2",
       "version_major": 2,
       "version_minor": 0
      },
      "text/plain": [
       "qvgro.png:   0%|          | 0.00/15.2k [00:00<?, ?B/s]"
      ]
     },
     "metadata": {},
     "output_type": "display_data"
    },
    {
     "data": {
      "application/vnd.jupyter.widget-view+json": {
       "model_id": "6873db9f5a15494fbd2ddec00599e73a",
       "version_major": 2,
       "version_minor": 0
      },
      "text/plain": [
       "uwnfm.png:   0%|          | 0.00/11.7k [00:00<?, ?B/s]"
      ]
     },
     "metadata": {},
     "output_type": "display_data"
    },
    {
     "data": {
      "application/vnd.jupyter.widget-view+json": {
       "model_id": "84545eb2e3764bad8f0bd4257dadb914",
       "version_major": 2,
       "version_minor": 0
      },
      "text/plain": [
       "ayqya.png:   0%|          | 0.00/11.0k [00:00<?, ?B/s]"
      ]
     },
     "metadata": {},
     "output_type": "display_data"
    },
    {
     "data": {
      "application/vnd.jupyter.widget-view+json": {
       "model_id": "eb83cd957ac643e4b56a30da83600e56",
       "version_major": 2,
       "version_minor": 0
      },
      "text/plain": [
       "uyxjv.png:   0%|          | 0.00/19.6k [00:00<?, ?B/s]"
      ]
     },
     "metadata": {},
     "output_type": "display_data"
    },
    {
     "data": {
      "application/vnd.jupyter.widget-view+json": {
       "model_id": "27bdfad4afaf4e829478dc6b3a961167",
       "version_major": 2,
       "version_minor": 0
      },
      "text/plain": [
       "biytn.png:   0%|          | 0.00/27.1k [00:00<?, ?B/s]"
      ]
     },
     "metadata": {},
     "output_type": "display_data"
    },
    {
     "data": {
      "application/vnd.jupyter.widget-view+json": {
       "model_id": "dd154c819af0435d88c085f61e0951b8",
       "version_major": 2,
       "version_minor": 0
      },
      "text/plain": [
       "bofgn.png:   0%|          | 0.00/15.4k [00:00<?, ?B/s]"
      ]
     },
     "metadata": {},
     "output_type": "display_data"
    },
    {
     "data": {
      "application/vnd.jupyter.widget-view+json": {
       "model_id": "fade0a5e81a34d3193b2d59eb6681066",
       "version_major": 2,
       "version_minor": 0
      },
      "text/plain": [
       "vvurv.png:   0%|          | 0.00/10.7k [00:00<?, ?B/s]"
      ]
     },
     "metadata": {},
     "output_type": "display_data"
    },
    {
     "data": {
      "application/vnd.jupyter.widget-view+json": {
       "model_id": "aa375dd8ac564972bb04c46d8a6799e6",
       "version_major": 2,
       "version_minor": 0
      },
      "text/plain": [
       "bwbag.png:   0%|          | 0.00/9.07k [00:00<?, ?B/s]"
      ]
     },
     "metadata": {},
     "output_type": "display_data"
    },
    {
     "data": {
      "application/vnd.jupyter.widget-view+json": {
       "model_id": "410b777ebd3e4669b3859a8fc772ef6f",
       "version_major": 2,
       "version_minor": 0
      },
      "text/plain": [
       "eojzc.png:   0%|          | 0.00/24.1k [00:00<?, ?B/s]"
      ]
     },
     "metadata": {},
     "output_type": "display_data"
    },
    {
     "data": {
      "application/vnd.jupyter.widget-view+json": {
       "model_id": "460920ea4cb5465493afda985497aeb2",
       "version_major": 2,
       "version_minor": 0
      },
      "text/plain": [
       "mbmcs.png:   0%|          | 0.00/8.98k [00:00<?, ?B/s]"
      ]
     },
     "metadata": {},
     "output_type": "display_data"
    },
    {
     "data": {
      "application/vnd.jupyter.widget-view+json": {
       "model_id": "5f19c9971b924ad599185a66f2a884d7",
       "version_major": 2,
       "version_minor": 0
      },
      "text/plain": [
       "mxlua.png:   0%|          | 0.00/10.4k [00:00<?, ?B/s]"
      ]
     },
     "metadata": {},
     "output_type": "display_data"
    },
    {
     "data": {
      "application/vnd.jupyter.widget-view+json": {
       "model_id": "389232bd0ed04afca3502481aec4a4ae",
       "version_major": 2,
       "version_minor": 0
      },
      "text/plain": [
       "swoto.png:   0%|          | 0.00/10.3k [00:00<?, ?B/s]"
      ]
     },
     "metadata": {},
     "output_type": "display_data"
    },
    {
     "data": {
      "application/vnd.jupyter.widget-view+json": {
       "model_id": "6f9b9060439d41f393a083abcc381732",
       "version_major": 2,
       "version_minor": 0
      },
      "text/plain": [
       "jzxsu.png:   0%|          | 0.00/20.8k [00:00<?, ?B/s]"
      ]
     },
     "metadata": {},
     "output_type": "display_data"
    },
    {
     "data": {
      "application/vnd.jupyter.widget-view+json": {
       "model_id": "8f8a0bf20c484ecd8ee7f98b5d23a115",
       "version_major": 2,
       "version_minor": 0
      },
      "text/plain": [
       "whqha.png:   0%|          | 0.00/10.8k [00:00<?, ?B/s]"
      ]
     },
     "metadata": {},
     "output_type": "display_data"
    },
    {
     "data": {
      "application/vnd.jupyter.widget-view+json": {
       "model_id": "4211edcaea82437499a9b5bc61f0a31f",
       "version_major": 2,
       "version_minor": 0
      },
      "text/plain": [
       "abwao.png:   0%|          | 0.00/11.3k [00:00<?, ?B/s]"
      ]
     },
     "metadata": {},
     "output_type": "display_data"
    },
    {
     "data": {
      "application/vnd.jupyter.widget-view+json": {
       "model_id": "17ee8f9fa78c41469236b69c5459eadc",
       "version_major": 2,
       "version_minor": 0
      },
      "text/plain": [
       "ayfuk.png:   0%|          | 0.00/12.5k [00:00<?, ?B/s]"
      ]
     },
     "metadata": {},
     "output_type": "display_data"
    },
    {
     "data": {
      "application/vnd.jupyter.widget-view+json": {
       "model_id": "32d57e3294fb4a5d81d03b494c00c177",
       "version_major": 2,
       "version_minor": 0
      },
      "text/plain": [
       "chuli.png:   0%|          | 0.00/14.2k [00:00<?, ?B/s]"
      ]
     },
     "metadata": {},
     "output_type": "display_data"
    },
    {
     "data": {
      "application/vnd.jupyter.widget-view+json": {
       "model_id": "126beed747c849fd8d143fc5506ddfa3",
       "version_major": 2,
       "version_minor": 0
      },
      "text/plain": [
       "zyzkp.png:   0%|          | 0.00/16.7k [00:00<?, ?B/s]"
      ]
     },
     "metadata": {},
     "output_type": "display_data"
    },
    {
     "data": {
      "application/vnd.jupyter.widget-view+json": {
       "model_id": "e9f2839884b248678355df9038ee8744",
       "version_major": 2,
       "version_minor": 0
      },
      "text/plain": [
       "cdhjj.png:   0%|          | 0.00/15.3k [00:00<?, ?B/s]"
      ]
     },
     "metadata": {},
     "output_type": "display_data"
    },
    {
     "data": {
      "application/vnd.jupyter.widget-view+json": {
       "model_id": "13557ed09ce4432ea4a0f67fe79992b2",
       "version_major": 2,
       "version_minor": 0
      },
      "text/plain": [
       "blkcv.png:   0%|          | 0.00/14.5k [00:00<?, ?B/s]"
      ]
     },
     "metadata": {},
     "output_type": "display_data"
    },
    {
     "data": {
      "application/vnd.jupyter.widget-view+json": {
       "model_id": "e760d529ffa64c1ca5d87cf2144f19f7",
       "version_major": 2,
       "version_minor": 0
      },
      "text/plain": [
       "bjtqd.png:   0%|          | 0.00/20.8k [00:00<?, ?B/s]"
      ]
     },
     "metadata": {},
     "output_type": "display_data"
    },
    {
     "data": {
      "application/vnd.jupyter.widget-view+json": {
       "model_id": "58c4ac2649b344cc84d11c7cb006ed82",
       "version_major": 2,
       "version_minor": 0
      },
      "text/plain": [
       "cfljo.png:   0%|          | 0.00/23.4k [00:00<?, ?B/s]"
      ]
     },
     "metadata": {},
     "output_type": "display_data"
    },
    {
     "data": {
      "application/vnd.jupyter.widget-view+json": {
       "model_id": "1b81c5836fed477d90ddf43a0fad49e8",
       "version_major": 2,
       "version_minor": 0
      },
      "text/plain": [
       "crsba.png:   0%|          | 0.00/24.5k [00:00<?, ?B/s]"
      ]
     },
     "metadata": {},
     "output_type": "display_data"
    },
    {
     "data": {
      "application/vnd.jupyter.widget-view+json": {
       "model_id": "8a69d2b93a454ff28ded63810bd27c6a",
       "version_major": 2,
       "version_minor": 0
      },
      "text/plain": [
       "cwlxa.png:   0%|          | 0.00/15.2k [00:00<?, ?B/s]"
      ]
     },
     "metadata": {},
     "output_type": "display_data"
    },
    {
     "data": {
      "application/vnd.jupyter.widget-view+json": {
       "model_id": "4b2731b4459e4608816a253f14814d08",
       "version_major": 2,
       "version_minor": 0
      },
      "text/plain": [
       "dgyzz.png:   0%|          | 0.00/14.4k [00:00<?, ?B/s]"
      ]
     },
     "metadata": {},
     "output_type": "display_data"
    },
    {
     "data": {
      "application/vnd.jupyter.widget-view+json": {
       "model_id": "c50596e7b4c5457886fd9df000a02dba",
       "version_major": 2,
       "version_minor": 0
      },
      "text/plain": [
       "dzads.png:   0%|          | 0.00/20.1k [00:00<?, ?B/s]"
      ]
     },
     "metadata": {},
     "output_type": "display_data"
    },
    {
     "data": {
      "application/vnd.jupyter.widget-view+json": {
       "model_id": "85e7c5cf63b04cfdb7de8bce225cfc88",
       "version_major": 2,
       "version_minor": 0
      },
      "text/plain": [
       "enupk.png:   0%|          | 0.00/26.4k [00:00<?, ?B/s]"
      ]
     },
     "metadata": {},
     "output_type": "display_data"
    },
    {
     "data": {
      "application/vnd.jupyter.widget-view+json": {
       "model_id": "508c649591524d0ca578e6d354a7e6d6",
       "version_major": 2,
       "version_minor": 0
      },
      "text/plain": [
       "ckwgc.png:   0%|          | 0.00/15.5k [00:00<?, ?B/s]"
      ]
     },
     "metadata": {},
     "output_type": "display_data"
    },
    {
     "data": {
      "application/vnd.jupyter.widget-view+json": {
       "model_id": "0504471a81eb424b993e7c2a79606e87",
       "version_major": 2,
       "version_minor": 0
      },
      "text/plain": [
       "dbfbw.png:   0%|          | 0.00/12.4k [00:00<?, ?B/s]"
      ]
     },
     "metadata": {},
     "output_type": "display_data"
    },
    {
     "data": {
      "application/vnd.jupyter.widget-view+json": {
       "model_id": "d8c8ae6a176c4876b48d487222b11631",
       "version_major": 2,
       "version_minor": 0
      },
      "text/plain": [
       "dwdyw.png:   0%|          | 0.00/21.6k [00:00<?, ?B/s]"
      ]
     },
     "metadata": {},
     "output_type": "display_data"
    },
    {
     "data": {
      "application/vnd.jupyter.widget-view+json": {
       "model_id": "a707c4fefdb645d6806f4608a6de7c2f",
       "version_major": 2,
       "version_minor": 0
      },
      "text/plain": [
       "erdnu.png:   0%|          | 0.00/13.6k [00:00<?, ?B/s]"
      ]
     },
     "metadata": {},
     "output_type": "display_data"
    },
    {
     "data": {
      "application/vnd.jupyter.widget-view+json": {
       "model_id": "5924b909117345bcaad92adbb577eb34",
       "version_major": 2,
       "version_minor": 0
      },
      "text/plain": [
       "gmyjt.png:   0%|          | 0.00/14.1k [00:00<?, ?B/s]"
      ]
     },
     "metadata": {},
     "output_type": "display_data"
    },
    {
     "data": {
      "application/vnd.jupyter.widget-view+json": {
       "model_id": "bbace2e8a4474ed9807ff9ae0732777b",
       "version_major": 2,
       "version_minor": 0
      },
      "text/plain": [
       "gpaln.png:   0%|          | 0.00/11.2k [00:00<?, ?B/s]"
      ]
     },
     "metadata": {},
     "output_type": "display_data"
    },
    {
     "data": {
      "application/vnd.jupyter.widget-view+json": {
       "model_id": "70130d009d2e49aaa311efc9ff0fd22c",
       "version_major": 2,
       "version_minor": 0
      },
      "text/plain": [
       "gyyyg.png:   0%|          | 0.00/10.5k [00:00<?, ?B/s]"
      ]
     },
     "metadata": {},
     "output_type": "display_data"
    },
    {
     "data": {
      "application/vnd.jupyter.widget-view+json": {
       "model_id": "d774c2aface64453afe50abf308b3882",
       "version_major": 2,
       "version_minor": 0
      },
      "text/plain": [
       "fomcc.png:   0%|          | 0.00/32.8k [00:00<?, ?B/s]"
      ]
     },
     "metadata": {},
     "output_type": "display_data"
    },
    {
     "data": {
      "application/vnd.jupyter.widget-view+json": {
       "model_id": "165e3fbb836e4b5c97c20c263b423dff",
       "version_major": 2,
       "version_minor": 0
      },
      "text/plain": [
       "gvaob.png:   0%|          | 0.00/19.9k [00:00<?, ?B/s]"
      ]
     },
     "metadata": {},
     "output_type": "display_data"
    },
    {
     "data": {
      "application/vnd.jupyter.widget-view+json": {
       "model_id": "434d98c19b5043b7af11f55800d70083",
       "version_major": 2,
       "version_minor": 0
      },
      "text/plain": [
       "fqeqx.png:   0%|          | 0.00/18.3k [00:00<?, ?B/s]"
      ]
     },
     "metadata": {},
     "output_type": "display_data"
    },
    {
     "data": {
      "application/vnd.jupyter.widget-view+json": {
       "model_id": "01b71d667cbe444eb8449b80c7f4dd4c",
       "version_major": 2,
       "version_minor": 0
      },
      "text/plain": [
       "hhvof.png:   0%|          | 0.00/14.3k [00:00<?, ?B/s]"
      ]
     },
     "metadata": {},
     "output_type": "display_data"
    },
    {
     "data": {
      "application/vnd.jupyter.widget-view+json": {
       "model_id": "2cb0823b59d844758e88a92dab49999b",
       "version_major": 2,
       "version_minor": 0
      },
      "text/plain": [
       "hpgol.png:   0%|          | 0.00/28.4k [00:00<?, ?B/s]"
      ]
     },
     "metadata": {},
     "output_type": "display_data"
    },
    {
     "data": {
      "application/vnd.jupyter.widget-view+json": {
       "model_id": "300477ab928c4ab08968efca49484865",
       "version_major": 2,
       "version_minor": 0
      },
      "text/plain": [
       "ieslf.png:   0%|          | 0.00/23.3k [00:00<?, ?B/s]"
      ]
     },
     "metadata": {},
     "output_type": "display_data"
    },
    {
     "data": {
      "application/vnd.jupyter.widget-view+json": {
       "model_id": "3c6e548cec204af09979c7b52da98852",
       "version_major": 2,
       "version_minor": 0
      },
      "text/plain": [
       "iriyx.png:   0%|          | 0.00/15.1k [00:00<?, ?B/s]"
      ]
     },
     "metadata": {},
     "output_type": "display_data"
    },
    {
     "data": {
      "application/vnd.jupyter.widget-view+json": {
       "model_id": "b97a72aee26046ad93959a1e868dc730",
       "version_major": 2,
       "version_minor": 0
      },
      "text/plain": [
       "irewh.png:   0%|          | 0.00/21.0k [00:00<?, ?B/s]"
      ]
     },
     "metadata": {},
     "output_type": "display_data"
    },
    {
     "data": {
      "application/vnd.jupyter.widget-view+json": {
       "model_id": "cfe0815ffcd140de84962d3ba13339ad",
       "version_major": 2,
       "version_minor": 0
      },
      "text/plain": [
       "ietpa.png:   0%|          | 0.00/14.9k [00:00<?, ?B/s]"
      ]
     },
     "metadata": {},
     "output_type": "display_data"
    },
    {
     "data": {
      "application/vnd.jupyter.widget-view+json": {
       "model_id": "876dc871dabe4ec29618160fcbdd1e2a",
       "version_major": 2,
       "version_minor": 0
      },
      "text/plain": [
       "inbpm.png:   0%|          | 0.00/15.0k [00:00<?, ?B/s]"
      ]
     },
     "metadata": {},
     "output_type": "display_data"
    },
    {
     "data": {
      "application/vnd.jupyter.widget-view+json": {
       "model_id": "5ae305cefaa14aabbc86b4bb1cec8d9d",
       "version_major": 2,
       "version_minor": 0
      },
      "text/plain": [
       "huqqo.png:   0%|          | 0.00/15.0k [00:00<?, ?B/s]"
      ]
     },
     "metadata": {},
     "output_type": "display_data"
    },
    {
     "data": {
      "application/vnd.jupyter.widget-view+json": {
       "model_id": "f9a18246370c4e64897e65b143e0a887",
       "version_major": 2,
       "version_minor": 0
      },
      "text/plain": [
       "jicxi.png:   0%|          | 0.00/22.8k [00:00<?, ?B/s]"
      ]
     },
     "metadata": {},
     "output_type": "display_data"
    },
    {
     "data": {
      "application/vnd.jupyter.widget-view+json": {
       "model_id": "405128930e95469380b542b056893822",
       "version_major": 2,
       "version_minor": 0
      },
      "text/plain": [
       "kjhak.png:   0%|          | 0.00/18.8k [00:00<?, ?B/s]"
      ]
     },
     "metadata": {},
     "output_type": "display_data"
    },
    {
     "data": {
      "application/vnd.jupyter.widget-view+json": {
       "model_id": "c0fb09edadea46efae9e2bb892f3cf6c",
       "version_major": 2,
       "version_minor": 0
      },
      "text/plain": [
       "klylr.png:   0%|          | 0.00/14.6k [00:00<?, ?B/s]"
      ]
     },
     "metadata": {},
     "output_type": "display_data"
    },
    {
     "data": {
      "application/vnd.jupyter.widget-view+json": {
       "model_id": "c6758afdacec43cda24b6e3a0731eeeb",
       "version_major": 2,
       "version_minor": 0
      },
      "text/plain": [
       "kzpgy.png:   0%|          | 0.00/21.7k [00:00<?, ?B/s]"
      ]
     },
     "metadata": {},
     "output_type": "display_data"
    },
    {
     "data": {
      "application/vnd.jupyter.widget-view+json": {
       "model_id": "b860b0923abe479e9999ffa95613af2a",
       "version_major": 2,
       "version_minor": 0
      },
      "text/plain": [
       "jrhui.png:   0%|          | 0.00/18.1k [00:00<?, ?B/s]"
      ]
     },
     "metadata": {},
     "output_type": "display_data"
    },
    {
     "data": {
      "application/vnd.jupyter.widget-view+json": {
       "model_id": "be0a88ab60c041e39eea0133bbf3e98b",
       "version_major": 2,
       "version_minor": 0
      },
      "text/plain": [
       "lpzml.png:   0%|          | 0.00/24.2k [00:00<?, ?B/s]"
      ]
     },
     "metadata": {},
     "output_type": "display_data"
    },
    {
     "data": {
      "application/vnd.jupyter.widget-view+json": {
       "model_id": "3a7c8da038674c3fb98ce4c81a200cc1",
       "version_major": 2,
       "version_minor": 0
      },
      "text/plain": [
       "ltqjc.png:   0%|          | 0.00/16.2k [00:00<?, ?B/s]"
      ]
     },
     "metadata": {},
     "output_type": "display_data"
    },
    {
     "data": {
      "application/vnd.jupyter.widget-view+json": {
       "model_id": "d74c862dd1dd42bbbea85cf07a4ee05c",
       "version_major": 2,
       "version_minor": 0
      },
      "text/plain": [
       "lqitx.png:   0%|          | 0.00/12.6k [00:00<?, ?B/s]"
      ]
     },
     "metadata": {},
     "output_type": "display_data"
    },
    {
     "data": {
      "application/vnd.jupyter.widget-view+json": {
       "model_id": "c7cbf561f0dc435c9a55273675300efc",
       "version_major": 2,
       "version_minor": 0
      },
      "text/plain": [
       "kjmwb.png:   0%|          | 0.00/22.5k [00:00<?, ?B/s]"
      ]
     },
     "metadata": {},
     "output_type": "display_data"
    },
    {
     "data": {
      "application/vnd.jupyter.widget-view+json": {
       "model_id": "9aa0fd23ce254ee8a2a2b55d2b633826",
       "version_major": 2,
       "version_minor": 0
      },
      "text/plain": [
       "luagv.png:   0%|          | 0.00/20.1k [00:00<?, ?B/s]"
      ]
     },
     "metadata": {},
     "output_type": "display_data"
    },
    {
     "data": {
      "application/vnd.jupyter.widget-view+json": {
       "model_id": "75c0e01df4be40feac56d5f4dcb0022d",
       "version_major": 2,
       "version_minor": 0
      },
      "text/plain": [
       "lvdrn.png:   0%|          | 0.00/20.3k [00:00<?, ?B/s]"
      ]
     },
     "metadata": {},
     "output_type": "display_data"
    },
    {
     "data": {
      "application/vnd.jupyter.widget-view+json": {
       "model_id": "772a101ecc60435091c1ec92c2fd2d59",
       "version_major": 2,
       "version_minor": 0
      },
      "text/plain": [
       "mdhgu.png:   0%|          | 0.00/19.0k [00:00<?, ?B/s]"
      ]
     },
     "metadata": {},
     "output_type": "display_data"
    },
    {
     "data": {
      "application/vnd.jupyter.widget-view+json": {
       "model_id": "4b003b9b66c44d20bf3a659d61552758",
       "version_major": 2,
       "version_minor": 0
      },
      "text/plain": [
       "nipjm.png:   0%|          | 0.00/18.5k [00:00<?, ?B/s]"
      ]
     },
     "metadata": {},
     "output_type": "display_data"
    },
    {
     "data": {
      "application/vnd.jupyter.widget-view+json": {
       "model_id": "c5d6bda9c1d94381b5facc0f500ef018",
       "version_major": 2,
       "version_minor": 0
      },
      "text/plain": [
       "njcxx.png:   0%|          | 0.00/24.7k [00:00<?, ?B/s]"
      ]
     },
     "metadata": {},
     "output_type": "display_data"
    },
    {
     "data": {
      "application/vnd.jupyter.widget-view+json": {
       "model_id": "ee5729407ac14c55bb867da8f781e34d",
       "version_major": 2,
       "version_minor": 0
      },
      "text/plain": [
       "mfooq.png:   0%|          | 0.00/13.2k [00:00<?, ?B/s]"
      ]
     },
     "metadata": {},
     "output_type": "display_data"
    },
    {
     "data": {
      "application/vnd.jupyter.widget-view+json": {
       "model_id": "5a7e6118f080484cac6a0af4efc0aaa3",
       "version_major": 2,
       "version_minor": 0
      },
      "text/plain": [
       "mdrco.png:   0%|          | 0.00/13.0k [00:00<?, ?B/s]"
      ]
     },
     "metadata": {},
     "output_type": "display_data"
    },
    {
     "data": {
      "application/vnd.jupyter.widget-view+json": {
       "model_id": "e65a980f2f8f49d2b7e7ea857055a754",
       "version_major": 2,
       "version_minor": 0
      },
      "text/plain": [
       "lubgd.png:   0%|          | 0.00/14.4k [00:00<?, ?B/s]"
      ]
     },
     "metadata": {},
     "output_type": "display_data"
    },
    {
     "data": {
      "application/vnd.jupyter.widget-view+json": {
       "model_id": "a0a3719e3f2141cb9798ea7f5b276815",
       "version_major": 2,
       "version_minor": 0
      },
      "text/plain": [
       "nokmk.png:   0%|          | 0.00/17.6k [00:00<?, ?B/s]"
      ]
     },
     "metadata": {},
     "output_type": "display_data"
    },
    {
     "data": {
      "application/vnd.jupyter.widget-view+json": {
       "model_id": "6dba2d2264c84bb691efded15ae2beb8",
       "version_major": 2,
       "version_minor": 0
      },
      "text/plain": [
       "nrrik.png:   0%|          | 0.00/15.5k [00:00<?, ?B/s]"
      ]
     },
     "metadata": {},
     "output_type": "display_data"
    },
    {
     "data": {
      "application/vnd.jupyter.widget-view+json": {
       "model_id": "6b82dc311a984c6586fb0dd36cf94ffd",
       "version_major": 2,
       "version_minor": 0
      },
      "text/plain": [
       "nsxkv.png:   0%|          | 0.00/19.7k [00:00<?, ?B/s]"
      ]
     },
     "metadata": {},
     "output_type": "display_data"
    },
    {
     "data": {
      "application/vnd.jupyter.widget-view+json": {
       "model_id": "2810a11638044180a4329f2d638c21a8",
       "version_major": 2,
       "version_minor": 0
      },
      "text/plain": [
       "ojchs.png:   0%|          | 0.00/14.4k [00:00<?, ?B/s]"
      ]
     },
     "metadata": {},
     "output_type": "display_data"
    },
    {
     "data": {
      "application/vnd.jupyter.widget-view+json": {
       "model_id": "a7ccff1e75e64452b3113a84f33b9890",
       "version_major": 2,
       "version_minor": 0
      },
      "text/plain": [
       "nzzcp.png:   0%|          | 0.00/13.6k [00:00<?, ?B/s]"
      ]
     },
     "metadata": {},
     "output_type": "display_data"
    },
    {
     "data": {
      "application/vnd.jupyter.widget-view+json": {
       "model_id": "2b4fd6c0176d4df4b5a79979f16058ab",
       "version_major": 2,
       "version_minor": 0
      },
      "text/plain": [
       "orlqm.png:   0%|          | 0.00/22.5k [00:00<?, ?B/s]"
      ]
     },
     "metadata": {},
     "output_type": "display_data"
    },
    {
     "data": {
      "application/vnd.jupyter.widget-view+json": {
       "model_id": "245c5809e0e84c6cb27451fe8e762917",
       "version_major": 2,
       "version_minor": 0
      },
      "text/plain": [
       "orwat.png:   0%|          | 0.00/11.7k [00:00<?, ?B/s]"
      ]
     },
     "metadata": {},
     "output_type": "display_data"
    },
    {
     "data": {
      "application/vnd.jupyter.widget-view+json": {
       "model_id": "d2c08b0af2354d4995a67d9be25389ff",
       "version_major": 2,
       "version_minor": 0
      },
      "text/plain": [
       "pcqcc.png:   0%|          | 0.00/13.0k [00:00<?, ?B/s]"
      ]
     },
     "metadata": {},
     "output_type": "display_data"
    },
    {
     "data": {
      "application/vnd.jupyter.widget-view+json": {
       "model_id": "3afc3ae7c0804415a3df2b22795f8586",
       "version_major": 2,
       "version_minor": 0
      },
      "text/plain": [
       "pgexp.png:   0%|          | 0.00/24.8k [00:00<?, ?B/s]"
      ]
     },
     "metadata": {},
     "output_type": "display_data"
    },
    {
     "data": {
      "application/vnd.jupyter.widget-view+json": {
       "model_id": "da03c267d09c45c0bfc8ffe2f817068a",
       "version_major": 2,
       "version_minor": 0
      },
      "text/plain": [
       "pntjh.png:   0%|          | 0.00/13.8k [00:00<?, ?B/s]"
      ]
     },
     "metadata": {},
     "output_type": "display_data"
    },
    {
     "data": {
      "application/vnd.jupyter.widget-view+json": {
       "model_id": "1594b57ab364494bb054f449e4a19eac",
       "version_major": 2,
       "version_minor": 0
      },
      "text/plain": [
       "qbaqg.png:   0%|          | 0.00/14.5k [00:00<?, ?B/s]"
      ]
     },
     "metadata": {},
     "output_type": "display_data"
    },
    {
     "data": {
      "application/vnd.jupyter.widget-view+json": {
       "model_id": "f2c44ae8f72645cc92313af82ae3248f",
       "version_major": 2,
       "version_minor": 0
      },
      "text/plain": [
       "qiofx.png:   0%|          | 0.00/10.7k [00:00<?, ?B/s]"
      ]
     },
     "metadata": {},
     "output_type": "display_data"
    },
    {
     "data": {
      "application/vnd.jupyter.widget-view+json": {
       "model_id": "d5a12f6dd8d94d968b677f755b559fbb",
       "version_major": 2,
       "version_minor": 0
      },
      "text/plain": [
       "pxhuw.png:   0%|          | 0.00/21.1k [00:00<?, ?B/s]"
      ]
     },
     "metadata": {},
     "output_type": "display_data"
    },
    {
     "data": {
      "application/vnd.jupyter.widget-view+json": {
       "model_id": "a6a5680f7873442b845e9268f826133a",
       "version_major": 2,
       "version_minor": 0
      },
      "text/plain": [
       "ptnub.png:   0%|          | 0.00/25.1k [00:00<?, ?B/s]"
      ]
     },
     "metadata": {},
     "output_type": "display_data"
    },
    {
     "data": {
      "application/vnd.jupyter.widget-view+json": {
       "model_id": "4ba932b0ed154db688019e81538e8a58",
       "version_major": 2,
       "version_minor": 0
      },
      "text/plain": [
       "qidsu.png:   0%|          | 0.00/25.3k [00:00<?, ?B/s]"
      ]
     },
     "metadata": {},
     "output_type": "display_data"
    },
    {
     "data": {
      "application/vnd.jupyter.widget-view+json": {
       "model_id": "3935ed8042304b77ba9733ebbee601f0",
       "version_major": 2,
       "version_minor": 0
      },
      "text/plain": [
       "qitgc.png:   0%|          | 0.00/24.3k [00:00<?, ?B/s]"
      ]
     },
     "metadata": {},
     "output_type": "display_data"
    },
    {
     "data": {
      "application/vnd.jupyter.widget-view+json": {
       "model_id": "9b2d801815b64054a028643f262abe3b",
       "version_major": 2,
       "version_minor": 0
      },
      "text/plain": [
       "qwwpp.png:   0%|          | 0.00/23.9k [00:00<?, ?B/s]"
      ]
     },
     "metadata": {},
     "output_type": "display_data"
    },
    {
     "data": {
      "application/vnd.jupyter.widget-view+json": {
       "model_id": "30cfe55d727449e3b218e4aee24ce71a",
       "version_major": 2,
       "version_minor": 0
      },
      "text/plain": [
       "reszq.png:   0%|          | 0.00/13.4k [00:00<?, ?B/s]"
      ]
     },
     "metadata": {},
     "output_type": "display_data"
    },
    {
     "data": {
      "application/vnd.jupyter.widget-view+json": {
       "model_id": "642621f6138e4f2ea8ed992c4a19d922",
       "version_major": 2,
       "version_minor": 0
      },
      "text/plain": [
       "rfqlb.png:   0%|          | 0.00/16.1k [00:00<?, ?B/s]"
      ]
     },
     "metadata": {},
     "output_type": "display_data"
    },
    {
     "data": {
      "application/vnd.jupyter.widget-view+json": {
       "model_id": "7c75bfe13269441990465d938140dc55",
       "version_major": 2,
       "version_minor": 0
      },
      "text/plain": [
       "riftf.png:   0%|          | 0.00/27.8k [00:00<?, ?B/s]"
      ]
     },
     "metadata": {},
     "output_type": "display_data"
    },
    {
     "data": {
      "application/vnd.jupyter.widget-view+json": {
       "model_id": "ea911b02fbbf499796eab116ec6e9a96",
       "version_major": 2,
       "version_minor": 0
      },
      "text/plain": [
       "sdxml.png:   0%|          | 0.00/25.7k [00:00<?, ?B/s]"
      ]
     },
     "metadata": {},
     "output_type": "display_data"
    },
    {
     "data": {
      "application/vnd.jupyter.widget-view+json": {
       "model_id": "965bd73bc1614a1f9227671de2ab536c",
       "version_major": 2,
       "version_minor": 0
      },
      "text/plain": [
       "saiji.png:   0%|          | 0.00/16.0k [00:00<?, ?B/s]"
      ]
     },
     "metadata": {},
     "output_type": "display_data"
    },
    {
     "data": {
      "application/vnd.jupyter.widget-view+json": {
       "model_id": "181a6564a7364241ba3aef5426cb6c18",
       "version_major": 2,
       "version_minor": 0
      },
      "text/plain": [
       "srahu.png:   0%|          | 0.00/15.7k [00:00<?, ?B/s]"
      ]
     },
     "metadata": {},
     "output_type": "display_data"
    },
    {
     "data": {
      "application/vnd.jupyter.widget-view+json": {
       "model_id": "93ba26a263f04ca6a6b9dee67dcf45fd",
       "version_major": 2,
       "version_minor": 0
      },
      "text/plain": [
       "rvixf.png:   0%|          | 0.00/14.5k [00:00<?, ?B/s]"
      ]
     },
     "metadata": {},
     "output_type": "display_data"
    },
    {
     "data": {
      "application/vnd.jupyter.widget-view+json": {
       "model_id": "bff80ea7200f4ab1adf0241dcd744c5b",
       "version_major": 2,
       "version_minor": 0
      },
      "text/plain": [
       "tadyh.png:   0%|          | 0.00/14.2k [00:00<?, ?B/s]"
      ]
     },
     "metadata": {},
     "output_type": "display_data"
    },
    {
     "data": {
      "application/vnd.jupyter.widget-view+json": {
       "model_id": "d504eddbcf0d49e78f45669606f8ac9b",
       "version_major": 2,
       "version_minor": 0
      },
      "text/plain": [
       "snhmf.png:   0%|          | 0.00/20.5k [00:00<?, ?B/s]"
      ]
     },
     "metadata": {},
     "output_type": "display_data"
    },
    {
     "data": {
      "application/vnd.jupyter.widget-view+json": {
       "model_id": "8c9efa7a40314afbbff57335e73e8d24",
       "version_major": 2,
       "version_minor": 0
      },
      "text/plain": [
       "tmbuk.png:   0%|          | 0.00/27.1k [00:00<?, ?B/s]"
      ]
     },
     "metadata": {},
     "output_type": "display_data"
    },
    {
     "data": {
      "application/vnd.jupyter.widget-view+json": {
       "model_id": "864cb7140cae473f9e26e50707b81dec",
       "version_major": 2,
       "version_minor": 0
      },
      "text/plain": [
       "terii.png:   0%|          | 0.00/14.5k [00:00<?, ?B/s]"
      ]
     },
     "metadata": {},
     "output_type": "display_data"
    },
    {
     "data": {
      "application/vnd.jupyter.widget-view+json": {
       "model_id": "3cbcc6c9446546528c9e0e77166a3842",
       "version_major": 2,
       "version_minor": 0
      },
      "text/plain": [
       "upvxz.png:   0%|          | 0.00/19.3k [00:00<?, ?B/s]"
      ]
     },
     "metadata": {},
     "output_type": "display_data"
    },
    {
     "data": {
      "application/vnd.jupyter.widget-view+json": {
       "model_id": "004aaf70f1d146ca91c484c2b5530709",
       "version_major": 2,
       "version_minor": 0
      },
      "text/plain": [
       "vidvt.png:   0%|          | 0.00/14.3k [00:00<?, ?B/s]"
      ]
     },
     "metadata": {},
     "output_type": "display_data"
    },
    {
     "data": {
      "application/vnd.jupyter.widget-view+json": {
       "model_id": "ecf54b7e2191479e942fe617fa428a68",
       "version_major": 2,
       "version_minor": 0
      },
      "text/plain": [
       "uskbx.png:   0%|          | 0.00/28.1k [00:00<?, ?B/s]"
      ]
     },
     "metadata": {},
     "output_type": "display_data"
    },
    {
     "data": {
      "application/vnd.jupyter.widget-view+json": {
       "model_id": "0bd30d0c4ea44a3c84053eaae38c3a41",
       "version_major": 2,
       "version_minor": 0
      },
      "text/plain": [
       "tnqvp.png:   0%|          | 0.00/13.2k [00:00<?, ?B/s]"
      ]
     },
     "metadata": {},
     "output_type": "display_data"
    },
    {
     "data": {
      "application/vnd.jupyter.widget-view+json": {
       "model_id": "624af2b1ed654d3b83b5914b2a6b38d7",
       "version_major": 2,
       "version_minor": 0
      },
      "text/plain": [
       "upyyt.png:   0%|          | 0.00/20.4k [00:00<?, ?B/s]"
      ]
     },
     "metadata": {},
     "output_type": "display_data"
    },
    {
     "data": {
      "application/vnd.jupyter.widget-view+json": {
       "model_id": "063962ef3c6e4b74a18b22b8f84f24e3",
       "version_major": 2,
       "version_minor": 0
      },
      "text/plain": [
       "vwsuc.png:   0%|          | 0.00/15.0k [00:00<?, ?B/s]"
      ]
     },
     "metadata": {},
     "output_type": "display_data"
    },
    {
     "data": {
      "application/vnd.jupyter.widget-view+json": {
       "model_id": "d856b4f74147442eb2151d622a7a74ad",
       "version_major": 2,
       "version_minor": 0
      },
      "text/plain": [
       "vimxb.png:   0%|          | 0.00/12.6k [00:00<?, ?B/s]"
      ]
     },
     "metadata": {},
     "output_type": "display_data"
    },
    {
     "data": {
      "application/vnd.jupyter.widget-view+json": {
       "model_id": "bdc1e504708a49508d3c7bad6f03e05a",
       "version_major": 2,
       "version_minor": 0
      },
      "text/plain": [
       "vjzxd.png:   0%|          | 0.00/12.5k [00:00<?, ?B/s]"
      ]
     },
     "metadata": {},
     "output_type": "display_data"
    },
    {
     "data": {
      "application/vnd.jupyter.widget-view+json": {
       "model_id": "7d301883e0dd4c59bf0a70020aca798b",
       "version_major": 2,
       "version_minor": 0
      },
      "text/plain": [
       "wcllq.png:   0%|          | 0.00/12.8k [00:00<?, ?B/s]"
      ]
     },
     "metadata": {},
     "output_type": "display_data"
    },
    {
     "data": {
      "application/vnd.jupyter.widget-view+json": {
       "model_id": "204e9d58d4404344bc3785518fcc3258",
       "version_major": 2,
       "version_minor": 0
      },
      "text/plain": [
       "wooch.png:   0%|          | 0.00/16.4k [00:00<?, ?B/s]"
      ]
     },
     "metadata": {},
     "output_type": "display_data"
    },
    {
     "data": {
      "application/vnd.jupyter.widget-view+json": {
       "model_id": "5014a9547a5b44a0a45f31b19990ed4f",
       "version_major": 2,
       "version_minor": 0
      },
      "text/plain": [
       "xducx.png:   0%|          | 0.00/11.9k [00:00<?, ?B/s]"
      ]
     },
     "metadata": {},
     "output_type": "display_data"
    },
    {
     "data": {
      "application/vnd.jupyter.widget-view+json": {
       "model_id": "6caa80d853a046a99fa2bfc97b56011b",
       "version_major": 2,
       "version_minor": 0
      },
      "text/plain": [
       "xhfvq.png:   0%|          | 0.00/14.5k [00:00<?, ?B/s]"
      ]
     },
     "metadata": {},
     "output_type": "display_data"
    },
    {
     "data": {
      "application/vnd.jupyter.widget-view+json": {
       "model_id": "63db9dde9f224f76b937f02630726a3a",
       "version_major": 2,
       "version_minor": 0
      },
      "text/plain": [
       "xgwui.png:   0%|          | 0.00/12.4k [00:00<?, ?B/s]"
      ]
     },
     "metadata": {},
     "output_type": "display_data"
    },
    {
     "data": {
      "application/vnd.jupyter.widget-view+json": {
       "model_id": "22f0b1bcc637421c90fc037716666c01",
       "version_major": 2,
       "version_minor": 0
      },
      "text/plain": [
       "xjnhk.png:   0%|          | 0.00/23.6k [00:00<?, ?B/s]"
      ]
     },
     "metadata": {},
     "output_type": "display_data"
    },
    {
     "data": {
      "application/vnd.jupyter.widget-view+json": {
       "model_id": "5237abb6f4fa4e9aa1f2a76ae39708fc",
       "version_major": 2,
       "version_minor": 0
      },
      "text/plain": [
       "xmspp.png:   0%|          | 0.00/17.6k [00:00<?, ?B/s]"
      ]
     },
     "metadata": {},
     "output_type": "display_data"
    },
    {
     "data": {
      "application/vnd.jupyter.widget-view+json": {
       "model_id": "49c18e7a1c624aa6b1accd1d60d0a79c",
       "version_major": 2,
       "version_minor": 0
      },
      "text/plain": [
       "xkndu.png:   0%|          | 0.00/13.1k [00:00<?, ?B/s]"
      ]
     },
     "metadata": {},
     "output_type": "display_data"
    },
    {
     "data": {
      "application/vnd.jupyter.widget-view+json": {
       "model_id": "7f176afe94334a7ba9fc893ed36d8032",
       "version_major": 2,
       "version_minor": 0
      },
      "text/plain": [
       "xwxrr.png:   0%|          | 0.00/12.8k [00:00<?, ?B/s]"
      ]
     },
     "metadata": {},
     "output_type": "display_data"
    },
    {
     "data": {
      "application/vnd.jupyter.widget-view+json": {
       "model_id": "1983308c28bc443dad5c62d7972287c5",
       "version_major": 2,
       "version_minor": 0
      },
      "text/plain": [
       "xxkmv.png:   0%|          | 0.00/12.4k [00:00<?, ?B/s]"
      ]
     },
     "metadata": {},
     "output_type": "display_data"
    },
    {
     "data": {
      "application/vnd.jupyter.widget-view+json": {
       "model_id": "8e8853bb8d9841398bde98d0c0496ad1",
       "version_major": 2,
       "version_minor": 0
      },
      "text/plain": [
       "yfptw.png:   0%|          | 0.00/22.9k [00:00<?, ?B/s]"
      ]
     },
     "metadata": {},
     "output_type": "display_data"
    },
    {
     "data": {
      "application/vnd.jupyter.widget-view+json": {
       "model_id": "2c6650e06a0149e09a0a1eaa26bba4ca",
       "version_major": 2,
       "version_minor": 0
      },
      "text/plain": [
       "yqpbg.png:   0%|          | 0.00/15.3k [00:00<?, ?B/s]"
      ]
     },
     "metadata": {},
     "output_type": "display_data"
    },
    {
     "data": {
      "application/vnd.jupyter.widget-view+json": {
       "model_id": "3406dfe122e1410f9054f7f6f0cae6c3",
       "version_major": 2,
       "version_minor": 0
      },
      "text/plain": [
       "yfczt.png:   0%|          | 0.00/34.2k [00:00<?, ?B/s]"
      ]
     },
     "metadata": {},
     "output_type": "display_data"
    },
    {
     "data": {
      "application/vnd.jupyter.widget-view+json": {
       "model_id": "de6d723cbc6e4500b83e4a4100335dbc",
       "version_major": 2,
       "version_minor": 0
      },
      "text/plain": [
       "ytuft.png:   0%|          | 0.00/19.8k [00:00<?, ?B/s]"
      ]
     },
     "metadata": {},
     "output_type": "display_data"
    },
    {
     "data": {
      "application/vnd.jupyter.widget-view+json": {
       "model_id": "4a05381b230d4c2e8dbb6328144a9b41",
       "version_major": 2,
       "version_minor": 0
      },
      "text/plain": [
       "xiuxh.png:   0%|          | 0.00/15.7k [00:00<?, ?B/s]"
      ]
     },
     "metadata": {},
     "output_type": "display_data"
    },
    {
     "data": {
      "application/vnd.jupyter.widget-view+json": {
       "model_id": "c1da951257b24a608eb9a1a184a96bbf",
       "version_major": 2,
       "version_minor": 0
      },
      "text/plain": [
       "bupih.png:   0%|          | 0.00/19.1k [00:00<?, ?B/s]"
      ]
     },
     "metadata": {},
     "output_type": "display_data"
    },
    {
     "data": {
      "application/vnd.jupyter.widget-view+json": {
       "model_id": "f303504487f9474f91d253a9df68f3be",
       "version_major": 2,
       "version_minor": 0
      },
      "text/plain": [
       "byqli.png:   0%|          | 0.00/8.90k [00:00<?, ?B/s]"
      ]
     },
     "metadata": {},
     "output_type": "display_data"
    },
    {
     "data": {
      "application/vnd.jupyter.widget-view+json": {
       "model_id": "5b981ee6be364cf6990a754e4bdc8d95",
       "version_major": 2,
       "version_minor": 0
      },
      "text/plain": [
       "yyzfd.png:   0%|          | 0.00/13.8k [00:00<?, ?B/s]"
      ]
     },
     "metadata": {},
     "output_type": "display_data"
    },
    {
     "data": {
      "application/vnd.jupyter.widget-view+json": {
       "model_id": "261b1c28539d4b6d8b9c0a48e835f630",
       "version_major": 2,
       "version_minor": 0
      },
      "text/plain": [
       "atocs.png:   0%|          | 0.00/36.5k [00:00<?, ?B/s]"
      ]
     },
     "metadata": {},
     "output_type": "display_data"
    },
    {
     "data": {
      "application/vnd.jupyter.widget-view+json": {
       "model_id": "38485d82d31f41b9b878137e4ecd3cb2",
       "version_major": 2,
       "version_minor": 0
      },
      "text/plain": [
       "erjcc.png:   0%|          | 0.00/15.3k [00:00<?, ?B/s]"
      ]
     },
     "metadata": {},
     "output_type": "display_data"
    },
    {
     "data": {
      "application/vnd.jupyter.widget-view+json": {
       "model_id": "71e9c327299e4261a76ba56f7d756b1f",
       "version_major": 2,
       "version_minor": 0
      },
      "text/plain": [
       "dfjtv.png:   0%|          | 0.00/15.3k [00:00<?, ?B/s]"
      ]
     },
     "metadata": {},
     "output_type": "display_data"
    },
    {
     "data": {
      "application/vnd.jupyter.widget-view+json": {
       "model_id": "38539102256b4acea0044a1ba8fd1ea5",
       "version_major": 2,
       "version_minor": 0
      },
      "text/plain": [
       "yqsna.png:   0%|          | 0.00/17.1k [00:00<?, ?B/s]"
      ]
     },
     "metadata": {},
     "output_type": "display_data"
    },
    {
     "data": {
      "application/vnd.jupyter.widget-view+json": {
       "model_id": "4d2e402caaac4e8db56b04265b726115",
       "version_major": 2,
       "version_minor": 0
      },
      "text/plain": [
       "fbxef.png:   0%|          | 0.00/15.1k [00:00<?, ?B/s]"
      ]
     },
     "metadata": {},
     "output_type": "display_data"
    },
    {
     "data": {
      "application/vnd.jupyter.widget-view+json": {
       "model_id": "30867f5b388143df993a559726f7e567",
       "version_major": 2,
       "version_minor": 0
      },
      "text/plain": [
       "fgoim.png:   0%|          | 0.00/15.3k [00:00<?, ?B/s]"
      ]
     },
     "metadata": {},
     "output_type": "display_data"
    },
    {
     "data": {
      "application/vnd.jupyter.widget-view+json": {
       "model_id": "ecdf6306993e44418f80ad8af46c0cf6",
       "version_major": 2,
       "version_minor": 0
      },
      "text/plain": [
       "gftxo.png:   0%|          | 0.00/29.6k [00:00<?, ?B/s]"
      ]
     },
     "metadata": {},
     "output_type": "display_data"
    },
    {
     "data": {
      "application/vnd.jupyter.widget-view+json": {
       "model_id": "0e545588d4c24181b73ff568540e915c",
       "version_major": 2,
       "version_minor": 0
      },
      "text/plain": [
       "hygvu.png:   0%|          | 0.00/26.8k [00:00<?, ?B/s]"
      ]
     },
     "metadata": {},
     "output_type": "display_data"
    },
    {
     "data": {
      "application/vnd.jupyter.widget-view+json": {
       "model_id": "0bb31fc33e474593a649c90fb971819d",
       "version_major": 2,
       "version_minor": 0
      },
      "text/plain": [
       "nrcok.png:   0%|          | 0.00/22.7k [00:00<?, ?B/s]"
      ]
     },
     "metadata": {},
     "output_type": "display_data"
    },
    {
     "data": {
      "application/vnd.jupyter.widget-view+json": {
       "model_id": "b11c7c1b6e0d4ce49b1f43a9e31db53d",
       "version_major": 2,
       "version_minor": 0
      },
      "text/plain": [
       "iwhyu.png:   0%|          | 0.00/12.8k [00:00<?, ?B/s]"
      ]
     },
     "metadata": {},
     "output_type": "display_data"
    },
    {
     "data": {
      "application/vnd.jupyter.widget-view+json": {
       "model_id": "ff243f943eab4725b55a3662bbe357d9",
       "version_major": 2,
       "version_minor": 0
      },
      "text/plain": [
       "hhjqu.png:   0%|          | 0.00/14.9k [00:00<?, ?B/s]"
      ]
     },
     "metadata": {},
     "output_type": "display_data"
    },
    {
     "data": {
      "application/vnd.jupyter.widget-view+json": {
       "model_id": "acdeee1189c0411fa587bdc9bf7e36f4",
       "version_major": 2,
       "version_minor": 0
      },
      "text/plain": [
       "nooei.png:   0%|          | 0.00/28.2k [00:00<?, ?B/s]"
      ]
     },
     "metadata": {},
     "output_type": "display_data"
    },
    {
     "data": {
      "application/vnd.jupyter.widget-view+json": {
       "model_id": "4749a9177011418ea31ab7737a1fd0c3",
       "version_major": 2,
       "version_minor": 0
      },
      "text/plain": [
       "qmxgf.png:   0%|          | 0.00/20.3k [00:00<?, ?B/s]"
      ]
     },
     "metadata": {},
     "output_type": "display_data"
    },
    {
     "data": {
      "application/vnd.jupyter.widget-view+json": {
       "model_id": "7d48864466d5498d933e862e95311743",
       "version_major": 2,
       "version_minor": 0
      },
      "text/plain": [
       "pwelo.png:   0%|          | 0.00/13.9k [00:00<?, ?B/s]"
      ]
     },
     "metadata": {},
     "output_type": "display_data"
    },
    {
     "data": {
      "application/vnd.jupyter.widget-view+json": {
       "model_id": "0f2751f19b1f4a538815d319ab0b202f",
       "version_major": 2,
       "version_minor": 0
      },
      "text/plain": [
       "rvrmp.png:   0%|          | 0.00/12.5k [00:00<?, ?B/s]"
      ]
     },
     "metadata": {},
     "output_type": "display_data"
    },
    {
     "data": {
      "application/vnd.jupyter.widget-view+json": {
       "model_id": "b3fe34bfa14e450a913cf6f2c713cc35",
       "version_major": 2,
       "version_minor": 0
      },
      "text/plain": [
       "ssftf.png:   0%|          | 0.00/16.9k [00:00<?, ?B/s]"
      ]
     },
     "metadata": {},
     "output_type": "display_data"
    },
    {
     "data": {
      "application/vnd.jupyter.widget-view+json": {
       "model_id": "8acfc138ec89407c90f5da824e277754",
       "version_major": 2,
       "version_minor": 0
      },
      "text/plain": [
       "sjnmm.png:   0%|          | 0.00/31.8k [00:00<?, ?B/s]"
      ]
     },
     "metadata": {},
     "output_type": "display_data"
    },
    {
     "data": {
      "application/vnd.jupyter.widget-view+json": {
       "model_id": "29e2174f86f546708c4d39c62e65a9e9",
       "version_major": 2,
       "version_minor": 0
      },
      "text/plain": [
       "vlclt.png:   0%|          | 0.00/12.5k [00:00<?, ?B/s]"
      ]
     },
     "metadata": {},
     "output_type": "display_data"
    },
    {
     "data": {
      "application/vnd.jupyter.widget-view+json": {
       "model_id": "70304ba11c354dc4834c15ff7aa0e1db",
       "version_major": 2,
       "version_minor": 0
      },
      "text/plain": [
       "tnnbh.png:   0%|          | 0.00/11.6k [00:00<?, ?B/s]"
      ]
     },
     "metadata": {},
     "output_type": "display_data"
    },
    {
     "data": {
      "application/vnd.jupyter.widget-view+json": {
       "model_id": "ce7e899e24e64ef4b2f6d3279977829b",
       "version_major": 2,
       "version_minor": 0
      },
      "text/plain": [
       "wpkuy.png:   0%|          | 0.00/38.7k [00:00<?, ?B/s]"
      ]
     },
     "metadata": {},
     "output_type": "display_data"
    },
    {
     "data": {
      "application/vnd.jupyter.widget-view+json": {
       "model_id": "80dfb95efe164099aabbfd441b8c91f7",
       "version_major": 2,
       "version_minor": 0
      },
      "text/plain": [
       "srznz.png:   0%|          | 0.00/15.1k [00:00<?, ?B/s]"
      ]
     },
     "metadata": {},
     "output_type": "display_data"
    },
    {
     "data": {
      "application/vnd.jupyter.widget-view+json": {
       "model_id": "25cea6a1a4a549f6b4aaae346381a284",
       "version_major": 2,
       "version_minor": 0
      },
      "text/plain": [
       "srnii.png:   0%|          | 0.00/27.1k [00:00<?, ?B/s]"
      ]
     },
     "metadata": {},
     "output_type": "display_data"
    },
    {
     "data": {
      "application/vnd.jupyter.widget-view+json": {
       "model_id": "0cffdcf4e2ba403598a20b052930aa4e",
       "version_major": 2,
       "version_minor": 0
      },
      "text/plain": [
       "wwoas.png:   0%|          | 0.00/24.6k [00:00<?, ?B/s]"
      ]
     },
     "metadata": {},
     "output_type": "display_data"
    },
    {
     "data": {
      "application/vnd.jupyter.widget-view+json": {
       "model_id": "444602be06f54a54841046759dd8517e",
       "version_major": 2,
       "version_minor": 0
      },
      "text/plain": [
       "zunxu.png:   0%|          | 0.00/30.6k [00:00<?, ?B/s]"
      ]
     },
     "metadata": {},
     "output_type": "display_data"
    },
    {
     "data": {
      "application/vnd.jupyter.widget-view+json": {
       "model_id": "da9dbc7a312140faa6dc42bb55caf9d3",
       "version_major": 2,
       "version_minor": 0
      },
      "text/plain": [
       "ajoub.png:   0%|          | 0.00/34.2k [00:00<?, ?B/s]"
      ]
     },
     "metadata": {},
     "output_type": "display_data"
    },
    {
     "data": {
      "application/vnd.jupyter.widget-view+json": {
       "model_id": "2c8e43c4cbc74ae383ad0c7154cdb01e",
       "version_major": 2,
       "version_minor": 0
      },
      "text/plain": [
       "aymwj.png:   0%|          | 0.00/26.6k [00:00<?, ?B/s]"
      ]
     },
     "metadata": {},
     "output_type": "display_data"
    },
    {
     "data": {
      "application/vnd.jupyter.widget-view+json": {
       "model_id": "f7d78d3c32a043bfac1374b1cad2ab3c",
       "version_major": 2,
       "version_minor": 0
      },
      "text/plain": [
       "akytm.png:   0%|          | 0.00/25.9k [00:00<?, ?B/s]"
      ]
     },
     "metadata": {},
     "output_type": "display_data"
    },
    {
     "data": {
      "application/vnd.jupyter.widget-view+json": {
       "model_id": "c9b793f8e8eb43f193f612681d8b6087",
       "version_major": 2,
       "version_minor": 0
      },
      "text/plain": [
       "bamib.png:   0%|          | 0.00/12.6k [00:00<?, ?B/s]"
      ]
     },
     "metadata": {},
     "output_type": "display_data"
    },
    {
     "data": {
      "application/vnd.jupyter.widget-view+json": {
       "model_id": "fd26171f1f2247fdab63cf1c9350a671",
       "version_major": 2,
       "version_minor": 0
      },
      "text/plain": [
       "bszgg.png:   0%|          | 0.00/17.4k [00:00<?, ?B/s]"
      ]
     },
     "metadata": {},
     "output_type": "display_data"
    },
    {
     "data": {
      "application/vnd.jupyter.widget-view+json": {
       "model_id": "b16e0202e0404f26aaa63c441b452d72",
       "version_major": 2,
       "version_minor": 0
      },
      "text/plain": [
       "awwcz.png:   0%|          | 0.00/14.5k [00:00<?, ?B/s]"
      ]
     },
     "metadata": {},
     "output_type": "display_data"
    },
    {
     "data": {
      "application/vnd.jupyter.widget-view+json": {
       "model_id": "56d98cdd6f0d4d48b609413050af71ae",
       "version_major": 2,
       "version_minor": 0
      },
      "text/plain": [
       "crjgd.png:   0%|          | 0.00/25.9k [00:00<?, ?B/s]"
      ]
     },
     "metadata": {},
     "output_type": "display_data"
    },
    {
     "data": {
      "application/vnd.jupyter.widget-view+json": {
       "model_id": "e7f96e1cec584d7b94fe28df353e93af",
       "version_major": 2,
       "version_minor": 0
      },
      "text/plain": [
       "ctigj.png:   0%|          | 0.00/16.4k [00:00<?, ?B/s]"
      ]
     },
     "metadata": {},
     "output_type": "display_data"
    },
    {
     "data": {
      "application/vnd.jupyter.widget-view+json": {
       "model_id": "9f7aa8c053a4436eb0a31dd9acf1f873",
       "version_major": 2,
       "version_minor": 0
      },
      "text/plain": [
       "eaekn.png:   0%|          | 0.00/13.9k [00:00<?, ?B/s]"
      ]
     },
     "metadata": {},
     "output_type": "display_data"
    },
    {
     "data": {
      "application/vnd.jupyter.widget-view+json": {
       "model_id": "8b8c596b03574107b0c4e68ba192a31c",
       "version_major": 2,
       "version_minor": 0
      },
      "text/plain": [
       "cybud.png:   0%|          | 0.00/28.7k [00:00<?, ?B/s]"
      ]
     },
     "metadata": {},
     "output_type": "display_data"
    },
    {
     "data": {
      "application/vnd.jupyter.widget-view+json": {
       "model_id": "78d795e002ac4fefa75da4b3ac43d3d9",
       "version_major": 2,
       "version_minor": 0
      },
      "text/plain": [
       "ewdck.png:   0%|          | 0.00/23.6k [00:00<?, ?B/s]"
      ]
     },
     "metadata": {},
     "output_type": "display_data"
    },
    {
     "data": {
      "application/vnd.jupyter.widget-view+json": {
       "model_id": "1c14ad8083324b729a971acc240dc43f",
       "version_major": 2,
       "version_minor": 0
      },
      "text/plain": [
       "dxvxt.png:   0%|          | 0.00/16.6k [00:00<?, ?B/s]"
      ]
     },
     "metadata": {},
     "output_type": "display_data"
    },
    {
     "data": {
      "application/vnd.jupyter.widget-view+json": {
       "model_id": "d75f0ccf52a04630b93bf40a52d79ae3",
       "version_major": 2,
       "version_minor": 0
      },
      "text/plain": [
       "dvett.png:   0%|          | 0.00/25.4k [00:00<?, ?B/s]"
      ]
     },
     "metadata": {},
     "output_type": "display_data"
    },
    {
     "data": {
      "application/vnd.jupyter.widget-view+json": {
       "model_id": "2e2af570e21b4125b710f80a740340fd",
       "version_major": 2,
       "version_minor": 0
      },
      "text/plain": [
       "fivfg.png:   0%|          | 0.00/25.6k [00:00<?, ?B/s]"
      ]
     },
     "metadata": {},
     "output_type": "display_data"
    },
    {
     "data": {
      "application/vnd.jupyter.widget-view+json": {
       "model_id": "093ba7c5e25640cd8d9ae9fc9d538055",
       "version_major": 2,
       "version_minor": 0
      },
      "text/plain": [
       "fmeyh.png:   0%|          | 0.00/29.8k [00:00<?, ?B/s]"
      ]
     },
     "metadata": {},
     "output_type": "display_data"
    },
    {
     "data": {
      "application/vnd.jupyter.widget-view+json": {
       "model_id": "54892e4a28d84453987d989194f5f453",
       "version_major": 2,
       "version_minor": 0
      },
      "text/plain": [
       "hbdvq.png:   0%|          | 0.00/26.0k [00:00<?, ?B/s]"
      ]
     },
     "metadata": {},
     "output_type": "display_data"
    },
    {
     "data": {
      "application/vnd.jupyter.widget-view+json": {
       "model_id": "1f04b3b39a8645ceb0a308329bf6d9f0",
       "version_major": 2,
       "version_minor": 0
      },
      "text/plain": [
       "hgosg.png:   0%|          | 0.00/9.03k [00:00<?, ?B/s]"
      ]
     },
     "metadata": {},
     "output_type": "display_data"
    },
    {
     "data": {
      "application/vnd.jupyter.widget-view+json": {
       "model_id": "6fde370d369449cca896c13ef131723e",
       "version_major": 2,
       "version_minor": 0
      },
      "text/plain": [
       "hvhgh.png:   0%|          | 0.00/11.6k [00:00<?, ?B/s]"
      ]
     },
     "metadata": {},
     "output_type": "display_data"
    },
    {
     "data": {
      "application/vnd.jupyter.widget-view+json": {
       "model_id": "82c45582c1a0462aacc4212259f5dd85",
       "version_major": 2,
       "version_minor": 0
      },
      "text/plain": [
       "kfudw.png:   0%|          | 0.00/22.5k [00:00<?, ?B/s]"
      ]
     },
     "metadata": {},
     "output_type": "display_data"
    },
    {
     "data": {
      "application/vnd.jupyter.widget-view+json": {
       "model_id": "f277ca74b20c4728b8a1f0cabb4750b9",
       "version_major": 2,
       "version_minor": 0
      },
      "text/plain": [
       "jceai.png:   0%|          | 0.00/28.1k [00:00<?, ?B/s]"
      ]
     },
     "metadata": {},
     "output_type": "display_data"
    },
    {
     "data": {
      "application/vnd.jupyter.widget-view+json": {
       "model_id": "d9557a28dfcc44ca9f96f2e490a71507",
       "version_major": 2,
       "version_minor": 0
      },
      "text/plain": [
       "lqhjr.png:   0%|          | 0.00/20.3k [00:00<?, ?B/s]"
      ]
     },
     "metadata": {},
     "output_type": "display_data"
    },
    {
     "data": {
      "application/vnd.jupyter.widget-view+json": {
       "model_id": "bbd0c0b7fc5c49d1bbe0dcb0d190b595",
       "version_major": 2,
       "version_minor": 0
      },
      "text/plain": [
       "ibuay.png:   0%|          | 0.00/17.5k [00:00<?, ?B/s]"
      ]
     },
     "metadata": {},
     "output_type": "display_data"
    },
    {
     "data": {
      "application/vnd.jupyter.widget-view+json": {
       "model_id": "0ba761cc841d4596b9c2297501322ce1",
       "version_major": 2,
       "version_minor": 0
      },
      "text/plain": [
       "nbjwz.png:   0%|          | 0.00/27.0k [00:00<?, ?B/s]"
      ]
     },
     "metadata": {},
     "output_type": "display_data"
    },
    {
     "data": {
      "application/vnd.jupyter.widget-view+json": {
       "model_id": "4d94ba69d0d24a1a998ee0c5f3e4b1f4",
       "version_major": 2,
       "version_minor": 0
      },
      "text/plain": [
       "ntqaj.png:   0%|          | 0.00/14.4k [00:00<?, ?B/s]"
      ]
     },
     "metadata": {},
     "output_type": "display_data"
    },
    {
     "data": {
      "application/vnd.jupyter.widget-view+json": {
       "model_id": "efff0bcb45ef4aad99b46a85a3c615ef",
       "version_major": 2,
       "version_minor": 0
      },
      "text/plain": [
       "nizmy.png:   0%|          | 0.00/27.4k [00:00<?, ?B/s]"
      ]
     },
     "metadata": {},
     "output_type": "display_data"
    },
    {
     "data": {
      "application/vnd.jupyter.widget-view+json": {
       "model_id": "b9efd98943584f92bee5bcaeb5b555d1",
       "version_major": 2,
       "version_minor": 0
      },
      "text/plain": [
       "nzgec.png:   0%|          | 0.00/10.0k [00:00<?, ?B/s]"
      ]
     },
     "metadata": {},
     "output_type": "display_data"
    },
    {
     "data": {
      "application/vnd.jupyter.widget-view+json": {
       "model_id": "e09df3e62ced401295161c5b915a1d34",
       "version_major": 2,
       "version_minor": 0
      },
      "text/plain": [
       "oaszv.png:   0%|          | 0.00/14.9k [00:00<?, ?B/s]"
      ]
     },
     "metadata": {},
     "output_type": "display_data"
    },
    {
     "data": {
      "application/vnd.jupyter.widget-view+json": {
       "model_id": "3d674fa0577c4b48b2c43cf29be298aa",
       "version_major": 2,
       "version_minor": 0
      },
      "text/plain": [
       "tkxek.png:   0%|          | 0.00/30.5k [00:00<?, ?B/s]"
      ]
     },
     "metadata": {},
     "output_type": "display_data"
    },
    {
     "data": {
      "application/vnd.jupyter.widget-view+json": {
       "model_id": "08d8943c37864a91ab0fcf0db65c64a7",
       "version_major": 2,
       "version_minor": 0
      },
      "text/plain": [
       "oljfy.png:   0%|          | 0.00/15.9k [00:00<?, ?B/s]"
      ]
     },
     "metadata": {},
     "output_type": "display_data"
    },
    {
     "data": {
      "application/vnd.jupyter.widget-view+json": {
       "model_id": "0c5484c6a8864f44881165fdd673eeb5",
       "version_major": 2,
       "version_minor": 0
      },
      "text/plain": [
       "oraee.png:   0%|          | 0.00/12.3k [00:00<?, ?B/s]"
      ]
     },
     "metadata": {},
     "output_type": "display_data"
    },
    {
     "data": {
      "application/vnd.jupyter.widget-view+json": {
       "model_id": "3ecc5728167d47e791cbace2f6901153",
       "version_major": 2,
       "version_minor": 0
      },
      "text/plain": [
       "qrflk.png:   0%|          | 0.00/16.0k [00:00<?, ?B/s]"
      ]
     },
     "metadata": {},
     "output_type": "display_data"
    },
    {
     "data": {
      "application/vnd.jupyter.widget-view+json": {
       "model_id": "2feb0fe2d3fa48e484866135e9962642",
       "version_major": 2,
       "version_minor": 0
      },
      "text/plain": [
       "twjus.png:   0%|          | 0.00/24.3k [00:00<?, ?B/s]"
      ]
     },
     "metadata": {},
     "output_type": "display_data"
    },
    {
     "data": {
      "application/vnd.jupyter.widget-view+json": {
       "model_id": "2871c632c57940a2903a1f4f987d8b26",
       "version_major": 2,
       "version_minor": 0
      },
      "text/plain": [
       "ujffg.png:   0%|          | 0.00/28.5k [00:00<?, ?B/s]"
      ]
     },
     "metadata": {},
     "output_type": "display_data"
    },
    {
     "data": {
      "application/vnd.jupyter.widget-view+json": {
       "model_id": "8f61e4df19604481a95c6ecebc66570a",
       "version_major": 2,
       "version_minor": 0
      },
      "text/plain": [
       "vhkkn.png:   0%|          | 0.00/23.4k [00:00<?, ?B/s]"
      ]
     },
     "metadata": {},
     "output_type": "display_data"
    },
    {
     "data": {
      "application/vnd.jupyter.widget-view+json": {
       "model_id": "599844c44e4e4ce78251b0c0f81604a0",
       "version_major": 2,
       "version_minor": 0
      },
      "text/plain": [
       "yhomm.png:   0%|          | 0.00/15.6k [00:00<?, ?B/s]"
      ]
     },
     "metadata": {},
     "output_type": "display_data"
    },
    {
     "data": {
      "application/vnd.jupyter.widget-view+json": {
       "model_id": "6cc2e45cecd64134bbe0cb2c838e10dc",
       "version_major": 2,
       "version_minor": 0
      },
      "text/plain": [
       "abipn.png:   0%|          | 0.00/33.2k [00:00<?, ?B/s]"
      ]
     },
     "metadata": {},
     "output_type": "display_data"
    },
    {
     "data": {
      "application/vnd.jupyter.widget-view+json": {
       "model_id": "3a5396155e274672a9b3afe46e7fa5fa",
       "version_major": 2,
       "version_minor": 0
      },
      "text/plain": [
       "zqmpq.png:   0%|          | 0.00/12.1k [00:00<?, ?B/s]"
      ]
     },
     "metadata": {},
     "output_type": "display_data"
    },
    {
     "data": {
      "application/vnd.jupyter.widget-view+json": {
       "model_id": "5f7e4fd4c6714b9f8b31e8b39601c631",
       "version_major": 2,
       "version_minor": 0
      },
      "text/plain": [
       "yiisj.png:   0%|          | 0.00/22.8k [00:00<?, ?B/s]"
      ]
     },
     "metadata": {},
     "output_type": "display_data"
    },
    {
     "data": {
      "application/vnd.jupyter.widget-view+json": {
       "model_id": "79b3950b462c4557a308ee7f9ad18750",
       "version_major": 2,
       "version_minor": 0
      },
      "text/plain": [
       "acbop.png:   0%|          | 0.00/31.1k [00:00<?, ?B/s]"
      ]
     },
     "metadata": {},
     "output_type": "display_data"
    },
    {
     "data": {
      "application/vnd.jupyter.widget-view+json": {
       "model_id": "3f4d3778a86a46a08cfe52a17e8912f1",
       "version_major": 2,
       "version_minor": 0
      },
      "text/plain": [
       "ailnc.png:   0%|          | 0.00/31.6k [00:00<?, ?B/s]"
      ]
     },
     "metadata": {},
     "output_type": "display_data"
    },
    {
     "data": {
      "application/vnd.jupyter.widget-view+json": {
       "model_id": "97503151f25d4a9a8d0b34a157bfbd29",
       "version_major": 2,
       "version_minor": 0
      },
      "text/plain": [
       "bwifd.png:   0%|          | 0.00/28.5k [00:00<?, ?B/s]"
      ]
     },
     "metadata": {},
     "output_type": "display_data"
    },
    {
     "data": {
      "application/vnd.jupyter.widget-view+json": {
       "model_id": "f57b182a3a164356bfb1208cadd316e1",
       "version_major": 2,
       "version_minor": 0
      },
      "text/plain": [
       "awvzv.png:   0%|          | 0.00/39.0k [00:00<?, ?B/s]"
      ]
     },
     "metadata": {},
     "output_type": "display_data"
    },
    {
     "data": {
      "application/vnd.jupyter.widget-view+json": {
       "model_id": "92f51b9a59cc424baaf6e07fd3e32010",
       "version_major": 2,
       "version_minor": 0
      },
      "text/plain": [
       "cacmo.png:   0%|          | 0.00/30.9k [00:00<?, ?B/s]"
      ]
     },
     "metadata": {},
     "output_type": "display_data"
    },
    {
     "data": {
      "application/vnd.jupyter.widget-view+json": {
       "model_id": "5b286e6d29aa4834ba770d119feaf88e",
       "version_major": 2,
       "version_minor": 0
      },
      "text/plain": [
       "dkdnz.png:   0%|          | 0.00/30.5k [00:00<?, ?B/s]"
      ]
     },
     "metadata": {},
     "output_type": "display_data"
    },
    {
     "data": {
      "application/vnd.jupyter.widget-view+json": {
       "model_id": "3c4108a87b034faea4b4bb837f994d59",
       "version_major": 2,
       "version_minor": 0
      },
      "text/plain": [
       "hatug.png:   0%|          | 0.00/27.3k [00:00<?, ?B/s]"
      ]
     },
     "metadata": {},
     "output_type": "display_data"
    },
    {
     "data": {
      "application/vnd.jupyter.widget-view+json": {
       "model_id": "bb18cfec61e241d99d004e62f0a71ce9",
       "version_major": 2,
       "version_minor": 0
      },
      "text/plain": [
       "hqmbn.png:   0%|          | 0.00/31.2k [00:00<?, ?B/s]"
      ]
     },
     "metadata": {},
     "output_type": "display_data"
    },
    {
     "data": {
      "application/vnd.jupyter.widget-view+json": {
       "model_id": "9f8e7640a4d2424dbd39930c62ea3f84",
       "version_major": 2,
       "version_minor": 0
      },
      "text/plain": [
       "cdfir.png:   0%|          | 0.00/25.8k [00:00<?, ?B/s]"
      ]
     },
     "metadata": {},
     "output_type": "display_data"
    },
    {
     "data": {
      "application/vnd.jupyter.widget-view+json": {
       "model_id": "2a7b0a88d0fe4f7d87faeb39cad7c3dc",
       "version_major": 2,
       "version_minor": 0
      },
      "text/plain": [
       "fmmrg.png:   0%|          | 0.00/32.0k [00:00<?, ?B/s]"
      ]
     },
     "metadata": {},
     "output_type": "display_data"
    },
    {
     "data": {
      "application/vnd.jupyter.widget-view+json": {
       "model_id": "38b8864e04e0464f8ca78e9731a24dd2",
       "version_major": 2,
       "version_minor": 0
      },
      "text/plain": [
       "jplro.png:   0%|          | 0.00/29.1k [00:00<?, ?B/s]"
      ]
     },
     "metadata": {},
     "output_type": "display_data"
    },
    {
     "data": {
      "application/vnd.jupyter.widget-view+json": {
       "model_id": "78de74948bfe40059d0e850f7e53afb3",
       "version_major": 2,
       "version_minor": 0
      },
      "text/plain": [
       "ifnqd.png:   0%|          | 0.00/17.0k [00:00<?, ?B/s]"
      ]
     },
     "metadata": {},
     "output_type": "display_data"
    },
    {
     "data": {
      "application/vnd.jupyter.widget-view+json": {
       "model_id": "217b33830ae0427c94cb5f769f516764",
       "version_major": 2,
       "version_minor": 0
      },
      "text/plain": [
       "kbfnm.png:   0%|          | 0.00/28.1k [00:00<?, ?B/s]"
      ]
     },
     "metadata": {},
     "output_type": "display_data"
    },
    {
     "data": {
      "application/vnd.jupyter.widget-view+json": {
       "model_id": "733255b79de2432387a78b125620a54a",
       "version_major": 2,
       "version_minor": 0
      },
      "text/plain": [
       "lknyc.png:   0%|          | 0.00/34.0k [00:00<?, ?B/s]"
      ]
     },
     "metadata": {},
     "output_type": "display_data"
    },
    {
     "data": {
      "application/vnd.jupyter.widget-view+json": {
       "model_id": "453c371704974d92ae655a420ee9e2cc",
       "version_major": 2,
       "version_minor": 0
      },
      "text/plain": [
       "naqeo.png:   0%|          | 0.00/26.3k [00:00<?, ?B/s]"
      ]
     },
     "metadata": {},
     "output_type": "display_data"
    },
    {
     "data": {
      "application/vnd.jupyter.widget-view+json": {
       "model_id": "85fc9db74ea34657b188daaaab99be9a",
       "version_major": 2,
       "version_minor": 0
      },
      "text/plain": [
       "jpmhy.png:   0%|          | 0.00/23.4k [00:00<?, ?B/s]"
      ]
     },
     "metadata": {},
     "output_type": "display_data"
    },
    {
     "data": {
      "application/vnd.jupyter.widget-view+json": {
       "model_id": "32d355c810e24cd8ae9c0611bb3bf19c",
       "version_major": 2,
       "version_minor": 0
      },
      "text/plain": [
       "ncawe.png:   0%|          | 0.00/29.8k [00:00<?, ?B/s]"
      ]
     },
     "metadata": {},
     "output_type": "display_data"
    },
    {
     "data": {
      "application/vnd.jupyter.widget-view+json": {
       "model_id": "580fafaddc124277854cde92713d9605",
       "version_major": 2,
       "version_minor": 0
      },
      "text/plain": [
       "myxoa.png:   0%|          | 0.00/32.0k [00:00<?, ?B/s]"
      ]
     },
     "metadata": {},
     "output_type": "display_data"
    },
    {
     "data": {
      "application/vnd.jupyter.widget-view+json": {
       "model_id": "8861a07b335e48278814da95c14ffb9a",
       "version_major": 2,
       "version_minor": 0
      },
      "text/plain": [
       "nhxxa.png:   0%|          | 0.00/35.1k [00:00<?, ?B/s]"
      ]
     },
     "metadata": {},
     "output_type": "display_data"
    },
    {
     "data": {
      "application/vnd.jupyter.widget-view+json": {
       "model_id": "88ebbafa2827410ab0d56a8c07b8e039",
       "version_major": 2,
       "version_minor": 0
      },
      "text/plain": [
       "nfkoy.png:   0%|          | 0.00/23.9k [00:00<?, ?B/s]"
      ]
     },
     "metadata": {},
     "output_type": "display_data"
    },
    {
     "data": {
      "application/vnd.jupyter.widget-view+json": {
       "model_id": "6f44145ab3484ddd856cb4ed23473b01",
       "version_major": 2,
       "version_minor": 0
      },
      "text/plain": [
       "okgww.png:   0%|          | 0.00/15.3k [00:00<?, ?B/s]"
      ]
     },
     "metadata": {},
     "output_type": "display_data"
    },
    {
     "data": {
      "application/vnd.jupyter.widget-view+json": {
       "model_id": "7946d2789f1549819c8efc886b18b715",
       "version_major": 2,
       "version_minor": 0
      },
      "text/plain": [
       "oilux.png:   0%|          | 0.00/34.4k [00:00<?, ?B/s]"
      ]
     },
     "metadata": {},
     "output_type": "display_data"
    },
    {
     "data": {
      "application/vnd.jupyter.widget-view+json": {
       "model_id": "f7a49d25d38b4ac3abf266f3e1238287",
       "version_major": 2,
       "version_minor": 0
      },
      "text/plain": [
       "nwcbd.png:   0%|          | 0.00/27.4k [00:00<?, ?B/s]"
      ]
     },
     "metadata": {},
     "output_type": "display_data"
    },
    {
     "data": {
      "application/vnd.jupyter.widget-view+json": {
       "model_id": "91b8d29644714794abcd83e7c3275303",
       "version_major": 2,
       "version_minor": 0
      },
      "text/plain": [
       "onoca.png:   0%|          | 0.00/29.4k [00:00<?, ?B/s]"
      ]
     },
     "metadata": {},
     "output_type": "display_data"
    },
    {
     "data": {
      "application/vnd.jupyter.widget-view+json": {
       "model_id": "8f52b55417594d30b4456bbb0d08be2b",
       "version_major": 2,
       "version_minor": 0
      },
      "text/plain": [
       "orncv.png:   0%|          | 0.00/19.5k [00:00<?, ?B/s]"
      ]
     },
     "metadata": {},
     "output_type": "display_data"
    },
    {
     "data": {
      "application/vnd.jupyter.widget-view+json": {
       "model_id": "756165426a8a408193f123a3db9ac64c",
       "version_major": 2,
       "version_minor": 0
      },
      "text/plain": [
       "pwjrt.png:   0%|          | 0.00/29.9k [00:00<?, ?B/s]"
      ]
     },
     "metadata": {},
     "output_type": "display_data"
    },
    {
     "data": {
      "application/vnd.jupyter.widget-view+json": {
       "model_id": "a42f25714fe840eea7983c8338917d46",
       "version_major": 2,
       "version_minor": 0
      },
      "text/plain": [
       "pagzu.png:   0%|          | 0.00/30.3k [00:00<?, ?B/s]"
      ]
     },
     "metadata": {},
     "output_type": "display_data"
    },
    {
     "data": {
      "application/vnd.jupyter.widget-view+json": {
       "model_id": "0684ccc7517c446997baf25705c3722f",
       "version_major": 2,
       "version_minor": 0
      },
      "text/plain": [
       "qjztk.png:   0%|          | 0.00/35.0k [00:00<?, ?B/s]"
      ]
     },
     "metadata": {},
     "output_type": "display_data"
    },
    {
     "data": {
      "application/vnd.jupyter.widget-view+json": {
       "model_id": "4e87e9184f764e4f8867bb628df0c5a8",
       "version_major": 2,
       "version_minor": 0
      },
      "text/plain": [
       "przgc.png:   0%|          | 0.00/22.0k [00:00<?, ?B/s]"
      ]
     },
     "metadata": {},
     "output_type": "display_data"
    },
    {
     "data": {
      "application/vnd.jupyter.widget-view+json": {
       "model_id": "403ef6c4d35d4f5b9cc5e79c35965cfd",
       "version_major": 2,
       "version_minor": 0
      },
      "text/plain": [
       "pzpia.png:   0%|          | 0.00/29.6k [00:00<?, ?B/s]"
      ]
     },
     "metadata": {},
     "output_type": "display_data"
    },
    {
     "data": {
      "application/vnd.jupyter.widget-view+json": {
       "model_id": "fe71b5b505bc4f79b991999d56a47f5a",
       "version_major": 2,
       "version_minor": 0
      },
      "text/plain": [
       "prcoc.png:   0%|          | 0.00/33.8k [00:00<?, ?B/s]"
      ]
     },
     "metadata": {},
     "output_type": "display_data"
    },
    {
     "data": {
      "application/vnd.jupyter.widget-view+json": {
       "model_id": "1ce94e024ff140fbb3f2c1ad7849e1ea",
       "version_major": 2,
       "version_minor": 0
      },
      "text/plain": [
       "qizzx.png:   0%|          | 0.00/33.8k [00:00<?, ?B/s]"
      ]
     },
     "metadata": {},
     "output_type": "display_data"
    },
    {
     "data": {
      "application/vnd.jupyter.widget-view+json": {
       "model_id": "92ecb3f0c0164588a8c14b118aca58c7",
       "version_major": 2,
       "version_minor": 0
      },
      "text/plain": [
       "tukji.png:   0%|          | 0.00/32.4k [00:00<?, ?B/s]"
      ]
     },
     "metadata": {},
     "output_type": "display_data"
    },
    {
     "data": {
      "application/vnd.jupyter.widget-view+json": {
       "model_id": "2efd3078f14e4367a1f9c2809c6d862d",
       "version_major": 2,
       "version_minor": 0
      },
      "text/plain": [
       "qqari.png:   0%|          | 0.00/31.3k [00:00<?, ?B/s]"
      ]
     },
     "metadata": {},
     "output_type": "display_data"
    },
    {
     "data": {
      "application/vnd.jupyter.widget-view+json": {
       "model_id": "8e6278c07e8c45fcb635390627af5450",
       "version_major": 2,
       "version_minor": 0
      },
      "text/plain": [
       "vrltr.png:   0%|          | 0.00/34.6k [00:00<?, ?B/s]"
      ]
     },
     "metadata": {},
     "output_type": "display_data"
    },
    {
     "data": {
      "application/vnd.jupyter.widget-view+json": {
       "model_id": "1d4bb974d7b14747ae869e273d89ca80",
       "version_major": 2,
       "version_minor": 0
      },
      "text/plain": [
       "qtual.png:   0%|          | 0.00/28.8k [00:00<?, ?B/s]"
      ]
     },
     "metadata": {},
     "output_type": "display_data"
    },
    {
     "data": {
      "application/vnd.jupyter.widget-view+json": {
       "model_id": "60967eb65fdb4dee916828b640878a53",
       "version_major": 2,
       "version_minor": 0
      },
      "text/plain": [
       "wfftt.png:   0%|          | 0.00/20.8k [00:00<?, ?B/s]"
      ]
     },
     "metadata": {},
     "output_type": "display_data"
    },
    {
     "data": {
      "application/vnd.jupyter.widget-view+json": {
       "model_id": "abd7a861a59846e488cab80ef4e322a2",
       "version_major": 2,
       "version_minor": 0
      },
      "text/plain": [
       "wuely.png:   0%|          | 0.00/34.8k [00:00<?, ?B/s]"
      ]
     },
     "metadata": {},
     "output_type": "display_data"
    },
    {
     "data": {
      "application/vnd.jupyter.widget-view+json": {
       "model_id": "a2b6a8b482f64201838e04b894c90208",
       "version_major": 2,
       "version_minor": 0
      },
      "text/plain": [
       "umbvl.png:   0%|          | 0.00/22.5k [00:00<?, ?B/s]"
      ]
     },
     "metadata": {},
     "output_type": "display_data"
    },
    {
     "data": {
      "application/vnd.jupyter.widget-view+json": {
       "model_id": "1f1a3706c360468985a8dc1c23dab981",
       "version_major": 2,
       "version_minor": 0
      },
      "text/plain": [
       "xxmpc.png:   0%|          | 0.00/31.2k [00:00<?, ?B/s]"
      ]
     },
     "metadata": {},
     "output_type": "display_data"
    },
    {
     "data": {
      "application/vnd.jupyter.widget-view+json": {
       "model_id": "7736aa75c7c248e297281627cd3a1d06",
       "version_major": 2,
       "version_minor": 0
      },
      "text/plain": [
       "yggop.png:   0%|          | 0.00/31.2k [00:00<?, ?B/s]"
      ]
     },
     "metadata": {},
     "output_type": "display_data"
    },
    {
     "data": {
      "application/vnd.jupyter.widget-view+json": {
       "model_id": "170172d3e7464b29bbc62cba64baa67a",
       "version_major": 2,
       "version_minor": 0
      },
      "text/plain": [
       "dxhoo.png:   0%|          | 0.00/33.4k [00:00<?, ?B/s]"
      ]
     },
     "metadata": {},
     "output_type": "display_data"
    },
    {
     "data": {
      "application/vnd.jupyter.widget-view+json": {
       "model_id": "9a82e3037b974f1286a3804d0810e6b7",
       "version_major": 2,
       "version_minor": 0
      },
      "text/plain": [
       "bppwj.png:   0%|          | 0.00/30.6k [00:00<?, ?B/s]"
      ]
     },
     "metadata": {},
     "output_type": "display_data"
    },
    {
     "data": {
      "application/vnd.jupyter.widget-view+json": {
       "model_id": "74ce1172e36d4c4c84be0b86c12c0c65",
       "version_major": 2,
       "version_minor": 0
      },
      "text/plain": [
       "ygvxh.png:   0%|          | 0.00/24.5k [00:00<?, ?B/s]"
      ]
     },
     "metadata": {},
     "output_type": "display_data"
    },
    {
     "data": {
      "application/vnd.jupyter.widget-view+json": {
       "model_id": "5f860b61365a460f91b1b754fc064793",
       "version_major": 2,
       "version_minor": 0
      },
      "text/plain": [
       "eraaq.png:   0%|          | 0.00/10.4k [00:00<?, ?B/s]"
      ]
     },
     "metadata": {},
     "output_type": "display_data"
    },
    {
     "data": {
      "application/vnd.jupyter.widget-view+json": {
       "model_id": "be4e3f09639645a1a4c2056dcd4c18bd",
       "version_major": 2,
       "version_minor": 0
      },
      "text/plain": [
       "cnuyw.png:   0%|          | 0.00/16.3k [00:00<?, ?B/s]"
      ]
     },
     "metadata": {},
     "output_type": "display_data"
    },
    {
     "data": {
      "application/vnd.jupyter.widget-view+json": {
       "model_id": "2aadb4e21eeb4864b0c7e0669fc7c2e5",
       "version_major": 2,
       "version_minor": 0
      },
      "text/plain": [
       "ceefd.png:   0%|          | 0.00/16.0k [00:00<?, ?B/s]"
      ]
     },
     "metadata": {},
     "output_type": "display_data"
    },
    {
     "data": {
      "application/vnd.jupyter.widget-view+json": {
       "model_id": "906738b5b23044258c88a3c23ade2e88",
       "version_major": 2,
       "version_minor": 0
      },
      "text/plain": [
       "ervui.png:   0%|          | 0.00/19.7k [00:00<?, ?B/s]"
      ]
     },
     "metadata": {},
     "output_type": "display_data"
    },
    {
     "data": {
      "application/vnd.jupyter.widget-view+json": {
       "model_id": "1cc413c830c2431a8361fa9cd48f232a",
       "version_major": 2,
       "version_minor": 0
      },
      "text/plain": [
       "euugv.png:   0%|          | 0.00/16.6k [00:00<?, ?B/s]"
      ]
     },
     "metadata": {},
     "output_type": "display_data"
    },
    {
     "data": {
      "application/vnd.jupyter.widget-view+json": {
       "model_id": "1a6b0b04d1324abd843d686a049d8145",
       "version_major": 2,
       "version_minor": 0
      },
      "text/plain": [
       "fefbd.png:   0%|          | 0.00/28.6k [00:00<?, ?B/s]"
      ]
     },
     "metadata": {},
     "output_type": "display_data"
    },
    {
     "data": {
      "application/vnd.jupyter.widget-view+json": {
       "model_id": "3d60568927d345eda4f2b9b0e503be70",
       "version_major": 2,
       "version_minor": 0
      },
      "text/plain": [
       "fzubn.png:   0%|          | 0.00/15.2k [00:00<?, ?B/s]"
      ]
     },
     "metadata": {},
     "output_type": "display_data"
    },
    {
     "data": {
      "application/vnd.jupyter.widget-view+json": {
       "model_id": "d4bad11c5377491794d1bceeb4ebb225",
       "version_major": 2,
       "version_minor": 0
      },
      "text/plain": [
       "ftpaf.png:   0%|          | 0.00/20.2k [00:00<?, ?B/s]"
      ]
     },
     "metadata": {},
     "output_type": "display_data"
    },
    {
     "data": {
      "application/vnd.jupyter.widget-view+json": {
       "model_id": "8ad631bdfe87469e8a73f31809721bd7",
       "version_major": 2,
       "version_minor": 0
      },
      "text/plain": [
       "ezudx.png:   0%|          | 0.00/24.7k [00:00<?, ?B/s]"
      ]
     },
     "metadata": {},
     "output_type": "display_data"
    },
    {
     "data": {
      "application/vnd.jupyter.widget-view+json": {
       "model_id": "616df757672f40c891b036e7a1a51cb4",
       "version_major": 2,
       "version_minor": 0
      },
      "text/plain": [
       "fusrs.png:   0%|          | 0.00/13.0k [00:00<?, ?B/s]"
      ]
     },
     "metadata": {},
     "output_type": "display_data"
    },
    {
     "data": {
      "application/vnd.jupyter.widget-view+json": {
       "model_id": "110fea4365ac49488738ab3ab1fb6d2c",
       "version_major": 2,
       "version_minor": 0
      },
      "text/plain": [
       "exajh.png:   0%|          | 0.00/10.4k [00:00<?, ?B/s]"
      ]
     },
     "metadata": {},
     "output_type": "display_data"
    },
    {
     "data": {
      "application/vnd.jupyter.widget-view+json": {
       "model_id": "d88d6375fb37425f8ad3bf3ef7d771ff",
       "version_major": 2,
       "version_minor": 0
      },
      "text/plain": [
       "evtsx.png:   0%|          | 0.00/16.7k [00:00<?, ?B/s]"
      ]
     },
     "metadata": {},
     "output_type": "display_data"
    },
    {
     "data": {
      "application/vnd.jupyter.widget-view+json": {
       "model_id": "59edc837b4674e14b8be8e738f086dae",
       "version_major": 2,
       "version_minor": 0
      },
      "text/plain": [
       "gtizq.png:   0%|          | 0.00/15.8k [00:00<?, ?B/s]"
      ]
     },
     "metadata": {},
     "output_type": "display_data"
    },
    {
     "data": {
      "application/vnd.jupyter.widget-view+json": {
       "model_id": "7406faa7da9045acaa91412cc52f2e6a",
       "version_major": 2,
       "version_minor": 0
      },
      "text/plain": [
       "hlkxy.png:   0%|          | 0.00/20.8k [00:00<?, ?B/s]"
      ]
     },
     "metadata": {},
     "output_type": "display_data"
    },
    {
     "data": {
      "application/vnd.jupyter.widget-view+json": {
       "model_id": "4e177f45c5e94c608ad27119bc922b62",
       "version_major": 2,
       "version_minor": 0
      },
      "text/plain": [
       "iewcs.png:   0%|          | 0.00/16.1k [00:00<?, ?B/s]"
      ]
     },
     "metadata": {},
     "output_type": "display_data"
    },
    {
     "data": {
      "application/vnd.jupyter.widget-view+json": {
       "model_id": "ab20451efd63490e9c27a0e97ff4a2ca",
       "version_major": 2,
       "version_minor": 0
      },
      "text/plain": [
       "kazvl.png:   0%|          | 0.00/19.0k [00:00<?, ?B/s]"
      ]
     },
     "metadata": {},
     "output_type": "display_data"
    },
    {
     "data": {
      "application/vnd.jupyter.widget-view+json": {
       "model_id": "8325a641793b4d9b97c8b476929cef3e",
       "version_major": 2,
       "version_minor": 0
      },
      "text/plain": [
       "irjzm.png:   0%|          | 0.00/10.5k [00:00<?, ?B/s]"
      ]
     },
     "metadata": {},
     "output_type": "display_data"
    },
    {
     "data": {
      "application/vnd.jupyter.widget-view+json": {
       "model_id": "cdc0bb2574dd4cd1a875cbc41574c068",
       "version_major": 2,
       "version_minor": 0
      },
      "text/plain": [
       "kftgd.png:   0%|          | 0.00/10.2k [00:00<?, ?B/s]"
      ]
     },
     "metadata": {},
     "output_type": "display_data"
    },
    {
     "data": {
      "application/vnd.jupyter.widget-view+json": {
       "model_id": "a7abaebb42e34a89897702592561e425",
       "version_major": 2,
       "version_minor": 0
      },
      "text/plain": [
       "kajga.png:   0%|          | 0.00/14.6k [00:00<?, ?B/s]"
      ]
     },
     "metadata": {},
     "output_type": "display_data"
    },
    {
     "data": {
      "application/vnd.jupyter.widget-view+json": {
       "model_id": "9f60190e23934b6ca5bc512a24f963e7",
       "version_major": 2,
       "version_minor": 0
      },
      "text/plain": [
       "ikjkm.png:   0%|          | 0.00/17.7k [00:00<?, ?B/s]"
      ]
     },
     "metadata": {},
     "output_type": "display_data"
    },
    {
     "data": {
      "application/vnd.jupyter.widget-view+json": {
       "model_id": "222b577cbf50417491c575d237fddc4b",
       "version_major": 2,
       "version_minor": 0
      },
      "text/plain": [
       "krkfm.png:   0%|          | 0.00/9.49k [00:00<?, ?B/s]"
      ]
     },
     "metadata": {},
     "output_type": "display_data"
    },
    {
     "data": {
      "application/vnd.jupyter.widget-view+json": {
       "model_id": "c7006c939a1440d0b74979b5a14f18ea",
       "version_major": 2,
       "version_minor": 0
      },
      "text/plain": [
       "lmikh.png:   0%|          | 0.00/12.1k [00:00<?, ?B/s]"
      ]
     },
     "metadata": {},
     "output_type": "display_data"
    },
    {
     "data": {
      "application/vnd.jupyter.widget-view+json": {
       "model_id": "211a7da4725347aea96c295e98fa017c",
       "version_major": 2,
       "version_minor": 0
      },
      "text/plain": [
       "llnjf.png:   0%|          | 0.00/31.5k [00:00<?, ?B/s]"
      ]
     },
     "metadata": {},
     "output_type": "display_data"
    },
    {
     "data": {
      "application/vnd.jupyter.widget-view+json": {
       "model_id": "d7d30fad88e243298fe458ca8951ff9e",
       "version_major": 2,
       "version_minor": 0
      },
      "text/plain": [
       "luiol.png:   0%|          | 0.00/17.6k [00:00<?, ?B/s]"
      ]
     },
     "metadata": {},
     "output_type": "display_data"
    },
    {
     "data": {
      "application/vnd.jupyter.widget-view+json": {
       "model_id": "5d95ac33fc104c78aa6391c76322a40a",
       "version_major": 2,
       "version_minor": 0
      },
      "text/plain": [
       "nbxvs.png:   0%|          | 0.00/26.5k [00:00<?, ?B/s]"
      ]
     },
     "metadata": {},
     "output_type": "display_data"
    },
    {
     "data": {
      "application/vnd.jupyter.widget-view+json": {
       "model_id": "8d01f90a49e34a668a62f97b0f977eec",
       "version_major": 2,
       "version_minor": 0
      },
      "text/plain": [
       "mdtvf.png:   0%|          | 0.00/23.9k [00:00<?, ?B/s]"
      ]
     },
     "metadata": {},
     "output_type": "display_data"
    },
    {
     "data": {
      "application/vnd.jupyter.widget-view+json": {
       "model_id": "a324ff9ea71c46fe855499b987fb0156",
       "version_major": 2,
       "version_minor": 0
      },
      "text/plain": [
       "pqgwn.png:   0%|          | 0.00/17.0k [00:00<?, ?B/s]"
      ]
     },
     "metadata": {},
     "output_type": "display_data"
    },
    {
     "data": {
      "application/vnd.jupyter.widget-view+json": {
       "model_id": "70a0cd0a507549ffa8373e602a392b19",
       "version_major": 2,
       "version_minor": 0
      },
      "text/plain": [
       "nidbm.png:   0%|          | 0.00/15.2k [00:00<?, ?B/s]"
      ]
     },
     "metadata": {},
     "output_type": "display_data"
    },
    {
     "data": {
      "application/vnd.jupyter.widget-view+json": {
       "model_id": "ec75c29725de406db427b351035cf5d6",
       "version_major": 2,
       "version_minor": 0
      },
      "text/plain": [
       "nyhyx.png:   0%|          | 0.00/14.2k [00:00<?, ?B/s]"
      ]
     },
     "metadata": {},
     "output_type": "display_data"
    },
    {
     "data": {
      "application/vnd.jupyter.widget-view+json": {
       "model_id": "9c47a642263d45a2a730508a3b710a51",
       "version_major": 2,
       "version_minor": 0
      },
      "text/plain": [
       "qdxvd.png:   0%|          | 0.00/15.4k [00:00<?, ?B/s]"
      ]
     },
     "metadata": {},
     "output_type": "display_data"
    },
    {
     "data": {
      "application/vnd.jupyter.widget-view+json": {
       "model_id": "e9ea676222264c008efb5437d6606f8f",
       "version_major": 2,
       "version_minor": 0
      },
      "text/plain": [
       "qwpdx.png:   0%|          | 0.00/10.8k [00:00<?, ?B/s]"
      ]
     },
     "metadata": {},
     "output_type": "display_data"
    },
    {
     "data": {
      "application/vnd.jupyter.widget-view+json": {
       "model_id": "308aa792be3f413ca60d81b3851bcc6c",
       "version_major": 2,
       "version_minor": 0
      },
      "text/plain": [
       "qprgj.png:   0%|          | 0.00/13.7k [00:00<?, ?B/s]"
      ]
     },
     "metadata": {},
     "output_type": "display_data"
    },
    {
     "data": {
      "application/vnd.jupyter.widget-view+json": {
       "model_id": "e8fe5334d4eb45d78a8bf37d93df7faf",
       "version_major": 2,
       "version_minor": 0
      },
      "text/plain": [
       "txosr.png:   0%|          | 0.00/27.0k [00:00<?, ?B/s]"
      ]
     },
     "metadata": {},
     "output_type": "display_data"
    },
    {
     "data": {
      "application/vnd.jupyter.widget-view+json": {
       "model_id": "ae358362ed2b4c6cbf2412eec505fce4",
       "version_major": 2,
       "version_minor": 0
      },
      "text/plain": [
       "sssyc.png:   0%|          | 0.00/32.0k [00:00<?, ?B/s]"
      ]
     },
     "metadata": {},
     "output_type": "display_data"
    },
    {
     "data": {
      "application/vnd.jupyter.widget-view+json": {
       "model_id": "0f7068e6735449ff8db9f4c1a7f61513",
       "version_major": 2,
       "version_minor": 0
      },
      "text/plain": [
       "ssacm.png:   0%|          | 0.00/11.2k [00:00<?, ?B/s]"
      ]
     },
     "metadata": {},
     "output_type": "display_data"
    },
    {
     "data": {
      "application/vnd.jupyter.widget-view+json": {
       "model_id": "7f275afafbd341e79bab388dfdbce81b",
       "version_major": 2,
       "version_minor": 0
      },
      "text/plain": [
       "soder.png:   0%|          | 0.00/14.1k [00:00<?, ?B/s]"
      ]
     },
     "metadata": {},
     "output_type": "display_data"
    },
    {
     "data": {
      "application/vnd.jupyter.widget-view+json": {
       "model_id": "fbccc6faa4ef40d9b5f90115c46bc50c",
       "version_major": 2,
       "version_minor": 0
      },
      "text/plain": [
       "umzaq.png:   0%|          | 0.00/11.6k [00:00<?, ?B/s]"
      ]
     },
     "metadata": {},
     "output_type": "display_data"
    },
    {
     "data": {
      "application/vnd.jupyter.widget-view+json": {
       "model_id": "d207004d3e144cf089cfd3031dc34844",
       "version_major": 2,
       "version_minor": 0
      },
      "text/plain": [
       "vdzqw.png:   0%|          | 0.00/24.3k [00:00<?, ?B/s]"
      ]
     },
     "metadata": {},
     "output_type": "display_data"
    },
    {
     "data": {
      "application/vnd.jupyter.widget-view+json": {
       "model_id": "23b0aa6fa28e4e03944f61d2d741e96b",
       "version_major": 2,
       "version_minor": 0
      },
      "text/plain": [
       "usgyy.png:   0%|          | 0.00/35.6k [00:00<?, ?B/s]"
      ]
     },
     "metadata": {},
     "output_type": "display_data"
    },
    {
     "data": {
      "application/vnd.jupyter.widget-view+json": {
       "model_id": "6fd5ed80c3f64f56a964152b8d6e6a15",
       "version_major": 2,
       "version_minor": 0
      },
      "text/plain": [
       "ylpdc.png:   0%|          | 0.00/20.2k [00:00<?, ?B/s]"
      ]
     },
     "metadata": {},
     "output_type": "display_data"
    },
    {
     "data": {
      "application/vnd.jupyter.widget-view+json": {
       "model_id": "cca6def23fc7494ebeeb1ff04c7f9397",
       "version_major": 2,
       "version_minor": 0
      },
      "text/plain": [
       "uzwpw.png:   0%|          | 0.00/11.2k [00:00<?, ?B/s]"
      ]
     },
     "metadata": {},
     "output_type": "display_data"
    },
    {
     "data": {
      "application/vnd.jupyter.widget-view+json": {
       "model_id": "2c874cb4080f42ccb326f74ae14703b1",
       "version_major": 2,
       "version_minor": 0
      },
      "text/plain": [
       "zpzyn.png:   0%|          | 0.00/30.0k [00:00<?, ?B/s]"
      ]
     },
     "metadata": {},
     "output_type": "display_data"
    },
    {
     "data": {
      "application/vnd.jupyter.widget-view+json": {
       "model_id": "40c065c6249d46d9a934e16515f85671",
       "version_major": 2,
       "version_minor": 0
      },
      "text/plain": [
       "aihol.png:   0%|          | 0.00/11.3k [00:00<?, ?B/s]"
      ]
     },
     "metadata": {},
     "output_type": "display_data"
    },
    {
     "data": {
      "application/vnd.jupyter.widget-view+json": {
       "model_id": "bbc0a598a3b345d3821bb334c3e5635d",
       "version_major": 2,
       "version_minor": 0
      },
      "text/plain": [
       "abhkh.png:   0%|          | 0.00/16.9k [00:00<?, ?B/s]"
      ]
     },
     "metadata": {},
     "output_type": "display_data"
    },
    {
     "data": {
      "application/vnd.jupyter.widget-view+json": {
       "model_id": "041bcc5a39a043e2b82487a8dc3993aa",
       "version_major": 2,
       "version_minor": 0
      },
      "text/plain": [
       "azkkv.png:   0%|          | 0.00/18.6k [00:00<?, ?B/s]"
      ]
     },
     "metadata": {},
     "output_type": "display_data"
    },
    {
     "data": {
      "application/vnd.jupyter.widget-view+json": {
       "model_id": "6da17cf6024f44769ea163ddb00c656f",
       "version_major": 2,
       "version_minor": 0
      },
      "text/plain": [
       "baryc.png:   0%|          | 0.00/23.0k [00:00<?, ?B/s]"
      ]
     },
     "metadata": {},
     "output_type": "display_data"
    },
    {
     "data": {
      "application/vnd.jupyter.widget-view+json": {
       "model_id": "4bd9ec714fc9481f80b0c458fdcae285",
       "version_major": 2,
       "version_minor": 0
      },
      "text/plain": [
       "bcwbb.png:   0%|          | 0.00/24.0k [00:00<?, ?B/s]"
      ]
     },
     "metadata": {},
     "output_type": "display_data"
    },
    {
     "data": {
      "application/vnd.jupyter.widget-view+json": {
       "model_id": "67ee8b83d8dd47c084e5b0d77c61c781",
       "version_major": 2,
       "version_minor": 0
      },
      "text/plain": [
       "bfjbq.png:   0%|          | 0.00/29.8k [00:00<?, ?B/s]"
      ]
     },
     "metadata": {},
     "output_type": "display_data"
    },
    {
     "data": {
      "application/vnd.jupyter.widget-view+json": {
       "model_id": "838c7ac92cc640a4997df6e76e93f084",
       "version_major": 2,
       "version_minor": 0
      },
      "text/plain": [
       "buinb.png:   0%|          | 0.00/34.0k [00:00<?, ?B/s]"
      ]
     },
     "metadata": {},
     "output_type": "display_data"
    },
    {
     "data": {
      "application/vnd.jupyter.widget-view+json": {
       "model_id": "4aab8a7a345d4d458f80826a481b0f96",
       "version_major": 2,
       "version_minor": 0
      },
      "text/plain": [
       "bypzf.png:   0%|          | 0.00/25.7k [00:00<?, ?B/s]"
      ]
     },
     "metadata": {},
     "output_type": "display_data"
    },
    {
     "data": {
      "application/vnd.jupyter.widget-view+json": {
       "model_id": "e948d2a3170c416394bc38f14af712e9",
       "version_major": 2,
       "version_minor": 0
      },
      "text/plain": [
       "bvmkj.png:   0%|          | 0.00/24.1k [00:00<?, ?B/s]"
      ]
     },
     "metadata": {},
     "output_type": "display_data"
    },
    {
     "data": {
      "application/vnd.jupyter.widget-view+json": {
       "model_id": "af1fc1161bad472f8fbb8fa185804248",
       "version_major": 2,
       "version_minor": 0
      },
      "text/plain": [
       "bzxzx.png:   0%|          | 0.00/18.2k [00:00<?, ?B/s]"
      ]
     },
     "metadata": {},
     "output_type": "display_data"
    },
    {
     "data": {
      "application/vnd.jupyter.widget-view+json": {
       "model_id": "97600011e75e42dcbd2987a3811636bf",
       "version_major": 2,
       "version_minor": 0
      },
      "text/plain": [
       "byzgu.png:   0%|          | 0.00/27.9k [00:00<?, ?B/s]"
      ]
     },
     "metadata": {},
     "output_type": "display_data"
    },
    {
     "data": {
      "application/vnd.jupyter.widget-view+json": {
       "model_id": "e5000def2daf4cf98787813c2a8593cd",
       "version_major": 2,
       "version_minor": 0
      },
      "text/plain": [
       "cansc.png:   0%|          | 0.00/17.7k [00:00<?, ?B/s]"
      ]
     },
     "metadata": {},
     "output_type": "display_data"
    },
    {
     "data": {
      "application/vnd.jupyter.widget-view+json": {
       "model_id": "f0ac3958c139474db446ce6c6113e3f2",
       "version_major": 2,
       "version_minor": 0
      },
      "text/plain": [
       "bmzsi.png:   0%|          | 0.00/14.1k [00:00<?, ?B/s]"
      ]
     },
     "metadata": {},
     "output_type": "display_data"
    },
    {
     "data": {
      "application/vnd.jupyter.widget-view+json": {
       "model_id": "3de30637f89045e693e8d163aadf2e7c",
       "version_major": 2,
       "version_minor": 0
      },
      "text/plain": [
       "cfbex.png:   0%|          | 0.00/20.0k [00:00<?, ?B/s]"
      ]
     },
     "metadata": {},
     "output_type": "display_data"
    },
    {
     "data": {
      "application/vnd.jupyter.widget-view+json": {
       "model_id": "cffbb484cc994b89be076192ece2b2ec",
       "version_major": 2,
       "version_minor": 0
      },
      "text/plain": [
       "clnsr.png:   0%|          | 0.00/24.1k [00:00<?, ?B/s]"
      ]
     },
     "metadata": {},
     "output_type": "display_data"
    },
    {
     "data": {
      "application/vnd.jupyter.widget-view+json": {
       "model_id": "34cc7c38325a4f10b642d1d96764aefa",
       "version_major": 2,
       "version_minor": 0
      },
      "text/plain": [
       "ctfxs.png:   0%|          | 0.00/23.7k [00:00<?, ?B/s]"
      ]
     },
     "metadata": {},
     "output_type": "display_data"
    },
    {
     "data": {
      "application/vnd.jupyter.widget-view+json": {
       "model_id": "b389706679714b85a40dc7d08aafe99d",
       "version_major": 2,
       "version_minor": 0
      },
      "text/plain": [
       "dzcpy.png:   0%|          | 0.00/23.3k [00:00<?, ?B/s]"
      ]
     },
     "metadata": {},
     "output_type": "display_data"
    },
    {
     "data": {
      "application/vnd.jupyter.widget-view+json": {
       "model_id": "2df2cf7f056d4aa2bb7d5353a6a0f49f",
       "version_major": 2,
       "version_minor": 0
      },
      "text/plain": [
       "drbab.png:   0%|          | 0.00/25.8k [00:00<?, ?B/s]"
      ]
     },
     "metadata": {},
     "output_type": "display_data"
    },
    {
     "data": {
      "application/vnd.jupyter.widget-view+json": {
       "model_id": "f31f794ea0464d22849ac7ea923d88bc",
       "version_major": 2,
       "version_minor": 0
      },
      "text/plain": [
       "fbxbn.png:   0%|          | 0.00/21.3k [00:00<?, ?B/s]"
      ]
     },
     "metadata": {},
     "output_type": "display_data"
    },
    {
     "data": {
      "application/vnd.jupyter.widget-view+json": {
       "model_id": "6d17342a56584559be8d491879b2c49b",
       "version_major": 2,
       "version_minor": 0
      },
      "text/plain": [
       "cezxp.png:   0%|          | 0.00/26.9k [00:00<?, ?B/s]"
      ]
     },
     "metadata": {},
     "output_type": "display_data"
    },
    {
     "data": {
      "application/vnd.jupyter.widget-view+json": {
       "model_id": "4b377100f20f41b5833008767aeb2604",
       "version_major": 2,
       "version_minor": 0
      },
      "text/plain": [
       "cwntn.png:   0%|          | 0.00/24.6k [00:00<?, ?B/s]"
      ]
     },
     "metadata": {},
     "output_type": "display_data"
    },
    {
     "data": {
      "application/vnd.jupyter.widget-view+json": {
       "model_id": "d45958a1d21c4ae38d3601c0bceb5b6c",
       "version_major": 2,
       "version_minor": 0
      },
      "text/plain": [
       "fpfbd.png:   0%|          | 0.00/20.3k [00:00<?, ?B/s]"
      ]
     },
     "metadata": {},
     "output_type": "display_data"
    },
    {
     "data": {
      "application/vnd.jupyter.widget-view+json": {
       "model_id": "59da0b32a8d14d03a7b5983f47f0c2dc",
       "version_major": 2,
       "version_minor": 0
      },
      "text/plain": [
       "fgepq.png:   0%|          | 0.00/24.4k [00:00<?, ?B/s]"
      ]
     },
     "metadata": {},
     "output_type": "display_data"
    },
    {
     "data": {
      "application/vnd.jupyter.widget-view+json": {
       "model_id": "f145a937392143b9b03011b7846288f0",
       "version_major": 2,
       "version_minor": 0
      },
      "text/plain": [
       "ftkls.png:   0%|          | 0.00/23.8k [00:00<?, ?B/s]"
      ]
     },
     "metadata": {},
     "output_type": "display_data"
    },
    {
     "data": {
      "application/vnd.jupyter.widget-view+json": {
       "model_id": "a33355e65ebe40c0b19f23f7b98ebb49",
       "version_major": 2,
       "version_minor": 0
      },
      "text/plain": [
       "hbmah.png:   0%|          | 0.00/21.9k [00:00<?, ?B/s]"
      ]
     },
     "metadata": {},
     "output_type": "display_data"
    },
    {
     "data": {
      "application/vnd.jupyter.widget-view+json": {
       "model_id": "c9a47a29b84c413594d50e850059ef62",
       "version_major": 2,
       "version_minor": 0
      },
      "text/plain": [
       "hifgn.png:   0%|          | 0.00/17.9k [00:00<?, ?B/s]"
      ]
     },
     "metadata": {},
     "output_type": "display_data"
    },
    {
     "data": {
      "application/vnd.jupyter.widget-view+json": {
       "model_id": "923b5d5b51c141348cf14321881aaed6",
       "version_major": 2,
       "version_minor": 0
      },
      "text/plain": [
       "gmrbe.png:   0%|          | 0.00/25.1k [00:00<?, ?B/s]"
      ]
     },
     "metadata": {},
     "output_type": "display_data"
    },
    {
     "data": {
      "application/vnd.jupyter.widget-view+json": {
       "model_id": "a2ca7c009d3f4c0286688bdf07149e07",
       "version_major": 2,
       "version_minor": 0
      },
      "text/plain": [
       "gzwak.png:   0%|          | 0.00/14.3k [00:00<?, ?B/s]"
      ]
     },
     "metadata": {},
     "output_type": "display_data"
    },
    {
     "data": {
      "application/vnd.jupyter.widget-view+json": {
       "model_id": "19150f73906a42fcac5036e1eb9aa664",
       "version_major": 2,
       "version_minor": 0
      },
      "text/plain": [
       "gknml.png:   0%|          | 0.00/26.6k [00:00<?, ?B/s]"
      ]
     },
     "metadata": {},
     "output_type": "display_data"
    },
    {
     "data": {
      "application/vnd.jupyter.widget-view+json": {
       "model_id": "2a6249dda90c4e42bebfa24acf3950ab",
       "version_major": 2,
       "version_minor": 0
      },
      "text/plain": [
       "gckai.png:   0%|          | 0.00/24.1k [00:00<?, ?B/s]"
      ]
     },
     "metadata": {},
     "output_type": "display_data"
    },
    {
     "data": {
      "application/vnd.jupyter.widget-view+json": {
       "model_id": "201c9bd489684751b62a14eb74fc46c1",
       "version_major": 2,
       "version_minor": 0
      },
      "text/plain": [
       "hkdki.png:   0%|          | 0.00/27.6k [00:00<?, ?B/s]"
      ]
     },
     "metadata": {},
     "output_type": "display_data"
    },
    {
     "data": {
      "application/vnd.jupyter.widget-view+json": {
       "model_id": "e68a5d55eeae4405a97683930097ff80",
       "version_major": 2,
       "version_minor": 0
      },
      "text/plain": [
       "hsqgq.png:   0%|          | 0.00/26.4k [00:00<?, ?B/s]"
      ]
     },
     "metadata": {},
     "output_type": "display_data"
    },
    {
     "data": {
      "application/vnd.jupyter.widget-view+json": {
       "model_id": "41dd03c6c91942b183cac80c70c83cbe",
       "version_major": 2,
       "version_minor": 0
      },
      "text/plain": [
       "ifnwv.png:   0%|          | 0.00/15.1k [00:00<?, ?B/s]"
      ]
     },
     "metadata": {},
     "output_type": "display_data"
    },
    {
     "data": {
      "application/vnd.jupyter.widget-view+json": {
       "model_id": "b9ea6912be6f48f2841560d62dfebfc4",
       "version_major": 2,
       "version_minor": 0
      },
      "text/plain": [
       "ixour.png:   0%|          | 0.00/17.3k [00:00<?, ?B/s]"
      ]
     },
     "metadata": {},
     "output_type": "display_data"
    },
    {
     "data": {
      "application/vnd.jupyter.widget-view+json": {
       "model_id": "ae0787b2c71449b39d867181e73f9d57",
       "version_major": 2,
       "version_minor": 0
      },
      "text/plain": [
       "jjzlt.png:   0%|          | 0.00/19.8k [00:00<?, ?B/s]"
      ]
     },
     "metadata": {},
     "output_type": "display_data"
    },
    {
     "data": {
      "application/vnd.jupyter.widget-view+json": {
       "model_id": "aed081b2c1e34993b1197032378df47e",
       "version_major": 2,
       "version_minor": 0
      },
      "text/plain": [
       "iwgku.png:   0%|          | 0.00/26.4k [00:00<?, ?B/s]"
      ]
     },
     "metadata": {},
     "output_type": "display_data"
    },
    {
     "data": {
      "application/vnd.jupyter.widget-view+json": {
       "model_id": "1e4be99543264de79abacd059a38f434",
       "version_major": 2,
       "version_minor": 0
      },
      "text/plain": [
       "iknzt.png:   0%|          | 0.00/16.2k [00:00<?, ?B/s]"
      ]
     },
     "metadata": {},
     "output_type": "display_data"
    },
    {
     "data": {
      "application/vnd.jupyter.widget-view+json": {
       "model_id": "fe181ade8f234a7382a379f99cfc31ab",
       "version_major": 2,
       "version_minor": 0
      },
      "text/plain": [
       "jwosi.png:   0%|          | 0.00/10.3k [00:00<?, ?B/s]"
      ]
     },
     "metadata": {},
     "output_type": "display_data"
    },
    {
     "data": {
      "application/vnd.jupyter.widget-view+json": {
       "model_id": "82eb018e057346e6be4116c31dc726bc",
       "version_major": 2,
       "version_minor": 0
      },
      "text/plain": [
       "koxhk.png:   0%|          | 0.00/23.3k [00:00<?, ?B/s]"
      ]
     },
     "metadata": {},
     "output_type": "display_data"
    },
    {
     "data": {
      "application/vnd.jupyter.widget-view+json": {
       "model_id": "75182e1d56584b6f824a5b26c67f98a5",
       "version_major": 2,
       "version_minor": 0
      },
      "text/plain": [
       "lhtcn.png:   0%|          | 0.00/16.3k [00:00<?, ?B/s]"
      ]
     },
     "metadata": {},
     "output_type": "display_data"
    },
    {
     "data": {
      "application/vnd.jupyter.widget-view+json": {
       "model_id": "138aebc8be884a6fbbf7268c1b269391",
       "version_major": 2,
       "version_minor": 0
      },
      "text/plain": [
       "kqdvq.png:   0%|          | 0.00/15.6k [00:00<?, ?B/s]"
      ]
     },
     "metadata": {},
     "output_type": "display_data"
    },
    {
     "data": {
      "application/vnd.jupyter.widget-view+json": {
       "model_id": "df7dbd7504ed48e0b33d8f53e025a06e",
       "version_major": 2,
       "version_minor": 0
      },
      "text/plain": [
       "lfjik.png:   0%|          | 0.00/14.0k [00:00<?, ?B/s]"
      ]
     },
     "metadata": {},
     "output_type": "display_data"
    },
    {
     "data": {
      "application/vnd.jupyter.widget-view+json": {
       "model_id": "488d23dcd9f847f5b2f28b49b25c0000",
       "version_major": 2,
       "version_minor": 0
      },
      "text/plain": [
       "kqfaq.png:   0%|          | 0.00/14.8k [00:00<?, ?B/s]"
      ]
     },
     "metadata": {},
     "output_type": "display_data"
    },
    {
     "data": {
      "application/vnd.jupyter.widget-view+json": {
       "model_id": "f97e4061048c4a15bcee7f438a29e937",
       "version_major": 2,
       "version_minor": 0
      },
      "text/plain": [
       "kpbrq.png:   0%|          | 0.00/14.1k [00:00<?, ?B/s]"
      ]
     },
     "metadata": {},
     "output_type": "display_data"
    },
    {
     "data": {
      "application/vnd.jupyter.widget-view+json": {
       "model_id": "03a35ab271e4439793d3f5ce178db13c",
       "version_major": 2,
       "version_minor": 0
      },
      "text/plain": [
       "menzv.png:   0%|          | 0.00/20.3k [00:00<?, ?B/s]"
      ]
     },
     "metadata": {},
     "output_type": "display_data"
    },
    {
     "data": {
      "application/vnd.jupyter.widget-view+json": {
       "model_id": "5343504e48074ad1857ca55b41753b4a",
       "version_major": 2,
       "version_minor": 0
      },
      "text/plain": [
       "lrakf.png:   0%|          | 0.00/25.1k [00:00<?, ?B/s]"
      ]
     },
     "metadata": {},
     "output_type": "display_data"
    },
    {
     "data": {
      "application/vnd.jupyter.widget-view+json": {
       "model_id": "f8a5b93f75fe4daabbc0f2a18fca698e",
       "version_major": 2,
       "version_minor": 0
      },
      "text/plain": [
       "mfheg.png:   0%|          | 0.00/23.6k [00:00<?, ?B/s]"
      ]
     },
     "metadata": {},
     "output_type": "display_data"
    },
    {
     "data": {
      "application/vnd.jupyter.widget-view+json": {
       "model_id": "61c5fbddda5a47a2862d4fa90d219262",
       "version_major": 2,
       "version_minor": 0
      },
      "text/plain": [
       "mfyor.png:   0%|          | 0.00/26.1k [00:00<?, ?B/s]"
      ]
     },
     "metadata": {},
     "output_type": "display_data"
    },
    {
     "data": {
      "application/vnd.jupyter.widget-view+json": {
       "model_id": "4c8ff2a682054d56a5655bcd3de02006",
       "version_major": 2,
       "version_minor": 0
      },
      "text/plain": [
       "mpoqp.png:   0%|          | 0.00/22.2k [00:00<?, ?B/s]"
      ]
     },
     "metadata": {},
     "output_type": "display_data"
    },
    {
     "data": {
      "application/vnd.jupyter.widget-view+json": {
       "model_id": "16ec0e190baa4462a9561e684708b865",
       "version_major": 2,
       "version_minor": 0
      },
      "text/plain": [
       "mjqqw.png:   0%|          | 0.00/17.8k [00:00<?, ?B/s]"
      ]
     },
     "metadata": {},
     "output_type": "display_data"
    },
    {
     "data": {
      "application/vnd.jupyter.widget-view+json": {
       "model_id": "0df784a035784be9acf3982eb68918db",
       "version_major": 2,
       "version_minor": 0
      },
      "text/plain": [
       "msfmd.png:   0%|          | 0.00/28.2k [00:00<?, ?B/s]"
      ]
     },
     "metadata": {},
     "output_type": "display_data"
    },
    {
     "data": {
      "application/vnd.jupyter.widget-view+json": {
       "model_id": "fd8b9b6c68394db9bb1a3e6ca14f78bf",
       "version_major": 2,
       "version_minor": 0
      },
      "text/plain": [
       "mzkxl.png:   0%|          | 0.00/18.1k [00:00<?, ?B/s]"
      ]
     },
     "metadata": {},
     "output_type": "display_data"
    },
    {
     "data": {
      "application/vnd.jupyter.widget-view+json": {
       "model_id": "ec23f57e9158445a8ee1f9364a37fef0",
       "version_major": 2,
       "version_minor": 0
      },
      "text/plain": [
       "mukcq.png:   0%|          | 0.00/27.0k [00:00<?, ?B/s]"
      ]
     },
     "metadata": {},
     "output_type": "display_data"
    },
    {
     "data": {
      "application/vnd.jupyter.widget-view+json": {
       "model_id": "1007b24b45864ea5be3c1a1a96cb26d4",
       "version_major": 2,
       "version_minor": 0
      },
      "text/plain": [
       "nxmgr.png:   0%|          | 0.00/23.2k [00:00<?, ?B/s]"
      ]
     },
     "metadata": {},
     "output_type": "display_data"
    },
    {
     "data": {
      "application/vnd.jupyter.widget-view+json": {
       "model_id": "527bfe500eab4ec3aad0e7ac043c9422",
       "version_major": 2,
       "version_minor": 0
      },
      "text/plain": [
       "ndvsg.png:   0%|          | 0.00/21.9k [00:00<?, ?B/s]"
      ]
     },
     "metadata": {},
     "output_type": "display_data"
    },
    {
     "data": {
      "application/vnd.jupyter.widget-view+json": {
       "model_id": "3425842644374906b04c1bad4e33c568",
       "version_major": 2,
       "version_minor": 0
      },
      "text/plain": [
       "nzxed.png:   0%|          | 0.00/17.7k [00:00<?, ?B/s]"
      ]
     },
     "metadata": {},
     "output_type": "display_data"
    },
    {
     "data": {
      "application/vnd.jupyter.widget-view+json": {
       "model_id": "9ab27fa4477049d98f88312ba805cc9e",
       "version_major": 2,
       "version_minor": 0
      },
      "text/plain": [
       "ofsbc.png:   0%|          | 0.00/34.4k [00:00<?, ?B/s]"
      ]
     },
     "metadata": {},
     "output_type": "display_data"
    },
    {
     "data": {
      "application/vnd.jupyter.widget-view+json": {
       "model_id": "7a86aec05a69430fa24cad0961c5864f",
       "version_major": 2,
       "version_minor": 0
      },
      "text/plain": [
       "oggtl.png:   0%|          | 0.00/31.3k [00:00<?, ?B/s]"
      ]
     },
     "metadata": {},
     "output_type": "display_data"
    },
    {
     "data": {
      "application/vnd.jupyter.widget-view+json": {
       "model_id": "e6416114168745b4bb3b4752be2183bd",
       "version_major": 2,
       "version_minor": 0
      },
      "text/plain": [
       "pcxfg.png:   0%|          | 0.00/16.2k [00:00<?, ?B/s]"
      ]
     },
     "metadata": {},
     "output_type": "display_data"
    },
    {
     "data": {
      "application/vnd.jupyter.widget-view+json": {
       "model_id": "e9762a0654d34306ba1a82b9f79b1ea3",
       "version_major": 2,
       "version_minor": 0
      },
      "text/plain": [
       "orvxr.png:   0%|          | 0.00/27.7k [00:00<?, ?B/s]"
      ]
     },
     "metadata": {},
     "output_type": "display_data"
    },
    {
     "data": {
      "application/vnd.jupyter.widget-view+json": {
       "model_id": "98c8e63e57ea4658a902108b54ccf18c",
       "version_major": 2,
       "version_minor": 0
      },
      "text/plain": [
       "puyrd.png:   0%|          | 0.00/18.2k [00:00<?, ?B/s]"
      ]
     },
     "metadata": {},
     "output_type": "display_data"
    },
    {
     "data": {
      "application/vnd.jupyter.widget-view+json": {
       "model_id": "43b0d7df6f4249698e5df989c2a1fc8c",
       "version_major": 2,
       "version_minor": 0
      },
      "text/plain": [
       "qfeoh.png:   0%|          | 0.00/23.8k [00:00<?, ?B/s]"
      ]
     },
     "metadata": {},
     "output_type": "display_data"
    },
    {
     "data": {
      "application/vnd.jupyter.widget-view+json": {
       "model_id": "4c99cc6789114d808500852ea35fca27",
       "version_major": 2,
       "version_minor": 0
      },
      "text/plain": [
       "qophx.png:   0%|          | 0.00/14.3k [00:00<?, ?B/s]"
      ]
     },
     "metadata": {},
     "output_type": "display_data"
    },
    {
     "data": {
      "application/vnd.jupyter.widget-view+json": {
       "model_id": "d32a6e919ed24245960b1986db9fd981",
       "version_major": 2,
       "version_minor": 0
      },
      "text/plain": [
       "rkkaj.png:   0%|          | 0.00/17.9k [00:00<?, ?B/s]"
      ]
     },
     "metadata": {},
     "output_type": "display_data"
    },
    {
     "data": {
      "application/vnd.jupyter.widget-view+json": {
       "model_id": "67374bd6a23c4df5b03309e1e0c77e7e",
       "version_major": 2,
       "version_minor": 0
      },
      "text/plain": [
       "rnxmg.png:   0%|          | 0.00/27.1k [00:00<?, ?B/s]"
      ]
     },
     "metadata": {},
     "output_type": "display_data"
    },
    {
     "data": {
      "application/vnd.jupyter.widget-view+json": {
       "model_id": "2dd351da044e47568bc920b2a5752e6a",
       "version_major": 2,
       "version_minor": 0
      },
      "text/plain": [
       "rncgb.png:   0%|          | 0.00/25.2k [00:00<?, ?B/s]"
      ]
     },
     "metadata": {},
     "output_type": "display_data"
    },
    {
     "data": {
      "application/vnd.jupyter.widget-view+json": {
       "model_id": "f9a657a492564359aa9d00b1b3b5a1cf",
       "version_major": 2,
       "version_minor": 0
      },
      "text/plain": [
       "rofvv.png:   0%|          | 0.00/23.1k [00:00<?, ?B/s]"
      ]
     },
     "metadata": {},
     "output_type": "display_data"
    },
    {
     "data": {
      "application/vnd.jupyter.widget-view+json": {
       "model_id": "29e8667901064031bd617300b0776bdf",
       "version_major": 2,
       "version_minor": 0
      },
      "text/plain": [
       "smfus.png:   0%|          | 0.00/29.3k [00:00<?, ?B/s]"
      ]
     },
     "metadata": {},
     "output_type": "display_data"
    },
    {
     "data": {
      "application/vnd.jupyter.widget-view+json": {
       "model_id": "a378780754034b4089723b449f9393ed",
       "version_major": 2,
       "version_minor": 0
      },
      "text/plain": [
       "symbi.png:   0%|          | 0.00/18.3k [00:00<?, ?B/s]"
      ]
     },
     "metadata": {},
     "output_type": "display_data"
    },
    {
     "data": {
      "application/vnd.jupyter.widget-view+json": {
       "model_id": "6fd7c4f9670f48f28a4b477dff606bf5",
       "version_major": 2,
       "version_minor": 0
      },
      "text/plain": [
       "tfsgh.png:   0%|          | 0.00/27.8k [00:00<?, ?B/s]"
      ]
     },
     "metadata": {},
     "output_type": "display_data"
    },
    {
     "data": {
      "application/vnd.jupyter.widget-view+json": {
       "model_id": "77d61b79c4f4499b8dbb6da920d80069",
       "version_major": 2,
       "version_minor": 0
      },
      "text/plain": [
       "rmhqx.png:   0%|          | 0.00/17.3k [00:00<?, ?B/s]"
      ]
     },
     "metadata": {},
     "output_type": "display_data"
    },
    {
     "data": {
      "application/vnd.jupyter.widget-view+json": {
       "model_id": "b807a8853c4a407ca1847b850de4c678",
       "version_major": 2,
       "version_minor": 0
      },
      "text/plain": [
       "tsegh.png:   0%|          | 0.00/27.0k [00:00<?, ?B/s]"
      ]
     },
     "metadata": {},
     "output_type": "display_data"
    },
    {
     "data": {
      "application/vnd.jupyter.widget-view+json": {
       "model_id": "c1b454a427ff48f18fec00ad9fe3b171",
       "version_major": 2,
       "version_minor": 0
      },
      "text/plain": [
       "uddfa.png:   0%|          | 0.00/25.6k [00:00<?, ?B/s]"
      ]
     },
     "metadata": {},
     "output_type": "display_data"
    },
    {
     "data": {
      "application/vnd.jupyter.widget-view+json": {
       "model_id": "66f8d5800ad94326abbc6fe5303e70bd",
       "version_major": 2,
       "version_minor": 0
      },
      "text/plain": [
       "tyicd.png:   0%|          | 0.00/18.1k [00:00<?, ?B/s]"
      ]
     },
     "metadata": {},
     "output_type": "display_data"
    },
    {
     "data": {
      "application/vnd.jupyter.widget-view+json": {
       "model_id": "d75ef228663342cfb5dbd1db660d0565",
       "version_major": 2,
       "version_minor": 0
      },
      "text/plain": [
       "tqjpo.png:   0%|          | 0.00/26.3k [00:00<?, ?B/s]"
      ]
     },
     "metadata": {},
     "output_type": "display_data"
    },
    {
     "data": {
      "application/vnd.jupyter.widget-view+json": {
       "model_id": "301baf093d5746b19a17504ef8220465",
       "version_major": 2,
       "version_minor": 0
      },
      "text/plain": [
       "stboq.png:   0%|          | 0.00/28.7k [00:00<?, ?B/s]"
      ]
     },
     "metadata": {},
     "output_type": "display_data"
    },
    {
     "data": {
      "application/vnd.jupyter.widget-view+json": {
       "model_id": "66fed4f761c441a8b56f77195316706c",
       "version_major": 2,
       "version_minor": 0
      },
      "text/plain": [
       "ujhuf.png:   0%|          | 0.00/31.5k [00:00<?, ?B/s]"
      ]
     },
     "metadata": {},
     "output_type": "display_data"
    },
    {
     "data": {
      "application/vnd.jupyter.widget-view+json": {
       "model_id": "c72623eeb36a4c4582a73080b0b2d9c5",
       "version_major": 2,
       "version_minor": 0
      },
      "text/plain": [
       "uupvq.png:   0%|          | 0.00/13.3k [00:00<?, ?B/s]"
      ]
     },
     "metadata": {},
     "output_type": "display_data"
    },
    {
     "data": {
      "application/vnd.jupyter.widget-view+json": {
       "model_id": "4493dd862cd04c309a121008fe7d378f",
       "version_major": 2,
       "version_minor": 0
      },
      "text/plain": [
       "uqoes.png:   0%|          | 0.00/23.3k [00:00<?, ?B/s]"
      ]
     },
     "metadata": {},
     "output_type": "display_data"
    },
    {
     "data": {
      "application/vnd.jupyter.widget-view+json": {
       "model_id": "12779bb46d43484998c911a7aaeef652",
       "version_major": 2,
       "version_minor": 0
      },
      "text/plain": [
       "vlijs.png:   0%|          | 0.00/21.0k [00:00<?, ?B/s]"
      ]
     },
     "metadata": {},
     "output_type": "display_data"
    },
    {
     "data": {
      "application/vnd.jupyter.widget-view+json": {
       "model_id": "d7e52b9ba26a41578a8db6bbc189f3a6",
       "version_major": 2,
       "version_minor": 0
      },
      "text/plain": [
       "vqbue.png:   0%|          | 0.00/31.3k [00:00<?, ?B/s]"
      ]
     },
     "metadata": {},
     "output_type": "display_data"
    },
    {
     "data": {
      "application/vnd.jupyter.widget-view+json": {
       "model_id": "8fc7827b6e79469c8369eaed2cdb9cfe",
       "version_major": 2,
       "version_minor": 0
      },
      "text/plain": [
       "vudfa.png:   0%|          | 0.00/23.6k [00:00<?, ?B/s]"
      ]
     },
     "metadata": {},
     "output_type": "display_data"
    },
    {
     "data": {
      "application/vnd.jupyter.widget-view+json": {
       "model_id": "ca4727a38d504b87adbc1dc0a3c74c62",
       "version_major": 2,
       "version_minor": 0
      },
      "text/plain": [
       "vqchl.png:   0%|          | 0.00/32.3k [00:00<?, ?B/s]"
      ]
     },
     "metadata": {},
     "output_type": "display_data"
    },
    {
     "data": {
      "application/vnd.jupyter.widget-view+json": {
       "model_id": "34d8bfb3a2644afc8ae3be344ad3b267",
       "version_major": 2,
       "version_minor": 0
      },
      "text/plain": [
       "viscx.png:   0%|          | 0.00/24.7k [00:00<?, ?B/s]"
      ]
     },
     "metadata": {},
     "output_type": "display_data"
    },
    {
     "data": {
      "application/vnd.jupyter.widget-view+json": {
       "model_id": "01c9d6ad513646bda83d22e4a84d2939",
       "version_major": 2,
       "version_minor": 0
      },
      "text/plain": [
       "uwvni.png:   0%|          | 0.00/28.1k [00:00<?, ?B/s]"
      ]
     },
     "metadata": {},
     "output_type": "display_data"
    },
    {
     "data": {
      "application/vnd.jupyter.widget-view+json": {
       "model_id": "b3b239d36e494c67a481cf9e3da5e79e",
       "version_major": 2,
       "version_minor": 0
      },
      "text/plain": [
       "vztac.png:   0%|          | 0.00/27.6k [00:00<?, ?B/s]"
      ]
     },
     "metadata": {},
     "output_type": "display_data"
    },
    {
     "data": {
      "application/vnd.jupyter.widget-view+json": {
       "model_id": "fb5093efe01b47f9b33a0791194f13c1",
       "version_major": 2,
       "version_minor": 0
      },
      "text/plain": [
       "vuqhn.png:   0%|          | 0.00/14.7k [00:00<?, ?B/s]"
      ]
     },
     "metadata": {},
     "output_type": "display_data"
    },
    {
     "data": {
      "application/vnd.jupyter.widget-view+json": {
       "model_id": "91221e41fb1649f096f1e78f6dd75a49",
       "version_major": 2,
       "version_minor": 0
      },
      "text/plain": [
       "vxxce.png:   0%|          | 0.00/14.7k [00:00<?, ?B/s]"
      ]
     },
     "metadata": {},
     "output_type": "display_data"
    },
    {
     "data": {
      "application/vnd.jupyter.widget-view+json": {
       "model_id": "752b742dc466465c9ab67325e09e1602",
       "version_major": 2,
       "version_minor": 0
      },
      "text/plain": [
       "wscui.png:   0%|          | 0.00/30.4k [00:00<?, ?B/s]"
      ]
     },
     "metadata": {},
     "output_type": "display_data"
    },
    {
     "data": {
      "application/vnd.jupyter.widget-view+json": {
       "model_id": "ea08fd9244a04125b793e27208a9ab8f",
       "version_major": 2,
       "version_minor": 0
      },
      "text/plain": [
       "wqnce.png:   0%|          | 0.00/17.1k [00:00<?, ?B/s]"
      ]
     },
     "metadata": {},
     "output_type": "display_data"
    },
    {
     "data": {
      "application/vnd.jupyter.widget-view+json": {
       "model_id": "b3b78fa8b2f24ccb80992e0f5fa15d7c",
       "version_major": 2,
       "version_minor": 0
      },
      "text/plain": [
       "wwbjx.png:   0%|          | 0.00/16.7k [00:00<?, ?B/s]"
      ]
     },
     "metadata": {},
     "output_type": "display_data"
    },
    {
     "data": {
      "application/vnd.jupyter.widget-view+json": {
       "model_id": "efd69b4cd0484845aa06db6918514f7f",
       "version_major": 2,
       "version_minor": 0
      },
      "text/plain": [
       "xduwo.png:   0%|          | 0.00/23.1k [00:00<?, ?B/s]"
      ]
     },
     "metadata": {},
     "output_type": "display_data"
    },
    {
     "data": {
      "application/vnd.jupyter.widget-view+json": {
       "model_id": "451078ea6095411c9e1d150e6da2dc9c",
       "version_major": 2,
       "version_minor": 0
      },
      "text/plain": [
       "xemnc.png:   0%|          | 0.00/17.0k [00:00<?, ?B/s]"
      ]
     },
     "metadata": {},
     "output_type": "display_data"
    },
    {
     "data": {
      "application/vnd.jupyter.widget-view+json": {
       "model_id": "70e8fc9817914998a20db644df556711",
       "version_major": 2,
       "version_minor": 0
      },
      "text/plain": [
       "xdgir.png:   0%|          | 0.00/15.5k [00:00<?, ?B/s]"
      ]
     },
     "metadata": {},
     "output_type": "display_data"
    },
    {
     "data": {
      "application/vnd.jupyter.widget-view+json": {
       "model_id": "436f6d1d94e0474198c792108104d94c",
       "version_major": 2,
       "version_minor": 0
      },
      "text/plain": [
       "xgchz.png:   0%|          | 0.00/31.1k [00:00<?, ?B/s]"
      ]
     },
     "metadata": {},
     "output_type": "display_data"
    },
    {
     "data": {
      "application/vnd.jupyter.widget-view+json": {
       "model_id": "03f9c06fc9db428f88718e21761ed601",
       "version_major": 2,
       "version_minor": 0
      },
      "text/plain": [
       "xohoz.png:   0%|          | 0.00/22.7k [00:00<?, ?B/s]"
      ]
     },
     "metadata": {},
     "output_type": "display_data"
    },
    {
     "data": {
      "application/vnd.jupyter.widget-view+json": {
       "model_id": "cd4dd4182eb94361a146c3e4397879cf",
       "version_major": 2,
       "version_minor": 0
      },
      "text/plain": [
       "zqtuk.png:   0%|          | 0.00/26.4k [00:00<?, ?B/s]"
      ]
     },
     "metadata": {},
     "output_type": "display_data"
    },
    {
     "data": {
      "application/vnd.jupyter.widget-view+json": {
       "model_id": "5a43561965a34fbd90aebb645f29e995",
       "version_major": 2,
       "version_minor": 0
      },
      "text/plain": [
       "zxngb.png:   0%|          | 0.00/15.3k [00:00<?, ?B/s]"
      ]
     },
     "metadata": {},
     "output_type": "display_data"
    },
    {
     "data": {
      "application/vnd.jupyter.widget-view+json": {
       "model_id": "f63cf07080d3458e99c66a400b7c8e67",
       "version_major": 2,
       "version_minor": 0
      },
      "text/plain": [
       "zgueu.png:   0%|          | 0.00/17.4k [00:00<?, ?B/s]"
      ]
     },
     "metadata": {},
     "output_type": "display_data"
    },
    {
     "data": {
      "application/vnd.jupyter.widget-view+json": {
       "model_id": "5ad420615072485c823f129459310280",
       "version_major": 2,
       "version_minor": 0
      },
      "text/plain": [
       "axvpj.png:   0%|          | 0.00/12.3k [00:00<?, ?B/s]"
      ]
     },
     "metadata": {},
     "output_type": "display_data"
    },
    {
     "data": {
      "application/vnd.jupyter.widget-view+json": {
       "model_id": "46b3f8302fa54d3a942a03c9931d80f8",
       "version_major": 2,
       "version_minor": 0
      },
      "text/plain": [
       "btvbb.png:   0%|          | 0.00/16.5k [00:00<?, ?B/s]"
      ]
     },
     "metadata": {},
     "output_type": "display_data"
    },
    {
     "data": {
      "application/vnd.jupyter.widget-view+json": {
       "model_id": "edeeedbf5e67416eaeb4366f3e99d489",
       "version_major": 2,
       "version_minor": 0
      },
      "text/plain": [
       "aywjf.png:   0%|          | 0.00/11.2k [00:00<?, ?B/s]"
      ]
     },
     "metadata": {},
     "output_type": "display_data"
    },
    {
     "data": {
      "application/vnd.jupyter.widget-view+json": {
       "model_id": "72bb9a047eab418aa68a3b9e5c76a31c",
       "version_major": 2,
       "version_minor": 0
      },
      "text/plain": [
       "cxwvk.png:   0%|          | 0.00/12.5k [00:00<?, ?B/s]"
      ]
     },
     "metadata": {},
     "output_type": "display_data"
    },
    {
     "data": {
      "application/vnd.jupyter.widget-view+json": {
       "model_id": "e478800994974456a6f864d0d48e6417",
       "version_major": 2,
       "version_minor": 0
      },
      "text/plain": [
       "zmggo.png:   0%|          | 0.00/24.8k [00:00<?, ?B/s]"
      ]
     },
     "metadata": {},
     "output_type": "display_data"
    },
    {
     "data": {
      "application/vnd.jupyter.widget-view+json": {
       "model_id": "2d7dd95db7a34e74ab43144640297cc6",
       "version_major": 2,
       "version_minor": 0
      },
      "text/plain": [
       "dsvhv.png:   0%|          | 0.00/14.3k [00:00<?, ?B/s]"
      ]
     },
     "metadata": {},
     "output_type": "display_data"
    },
    {
     "data": {
      "application/vnd.jupyter.widget-view+json": {
       "model_id": "765039fb3d6a4efcbec52168a283b4c8",
       "version_major": 2,
       "version_minor": 0
      },
      "text/plain": [
       "dujmk.png:   0%|          | 0.00/16.0k [00:00<?, ?B/s]"
      ]
     },
     "metadata": {},
     "output_type": "display_data"
    },
    {
     "data": {
      "application/vnd.jupyter.widget-view+json": {
       "model_id": "feb5f30b0cf842a39e5debf40d6bbdd3",
       "version_major": 2,
       "version_minor": 0
      },
      "text/plain": [
       "dxtxf.png:   0%|          | 0.00/15.8k [00:00<?, ?B/s]"
      ]
     },
     "metadata": {},
     "output_type": "display_data"
    },
    {
     "data": {
      "application/vnd.jupyter.widget-view+json": {
       "model_id": "6897ba1adb6d4350bc1b271fdf94091a",
       "version_major": 2,
       "version_minor": 0
      },
      "text/plain": [
       "gsaop.png:   0%|          | 0.00/16.1k [00:00<?, ?B/s]"
      ]
     },
     "metadata": {},
     "output_type": "display_data"
    },
    {
     "data": {
      "application/vnd.jupyter.widget-view+json": {
       "model_id": "1d44150757094524816d458d82a08d96",
       "version_major": 2,
       "version_minor": 0
      },
      "text/plain": [
       "dzvbw.png:   0%|          | 0.00/10.6k [00:00<?, ?B/s]"
      ]
     },
     "metadata": {},
     "output_type": "display_data"
    },
    {
     "data": {
      "application/vnd.jupyter.widget-view+json": {
       "model_id": "66e4c42619ac4097a44666bcb2dbdbb7",
       "version_major": 2,
       "version_minor": 0
      },
      "text/plain": [
       "eaecn.png:   0%|          | 0.00/17.2k [00:00<?, ?B/s]"
      ]
     },
     "metadata": {},
     "output_type": "display_data"
    },
    {
     "data": {
      "application/vnd.jupyter.widget-view+json": {
       "model_id": "78e5dd21174a49dd9e3c6058d665339f",
       "version_major": 2,
       "version_minor": 0
      },
      "text/plain": [
       "gzitc.png:   0%|          | 0.00/12.0k [00:00<?, ?B/s]"
      ]
     },
     "metadata": {},
     "output_type": "display_data"
    },
    {
     "data": {
      "application/vnd.jupyter.widget-view+json": {
       "model_id": "0c962c9ae3544ff09ed0b17fd9bdac01",
       "version_major": 2,
       "version_minor": 0
      },
      "text/plain": [
       "hqjrl.png:   0%|          | 0.00/10.5k [00:00<?, ?B/s]"
      ]
     },
     "metadata": {},
     "output_type": "display_data"
    },
    {
     "data": {
      "application/vnd.jupyter.widget-view+json": {
       "model_id": "605521c215e7448eb32550ebee56ef7d",
       "version_major": 2,
       "version_minor": 0
      },
      "text/plain": [
       "hrzam.png:   0%|          | 0.00/13.7k [00:00<?, ?B/s]"
      ]
     },
     "metadata": {},
     "output_type": "display_data"
    },
    {
     "data": {
      "application/vnd.jupyter.widget-view+json": {
       "model_id": "1fe239cbfacc4415af4ff1a7c1ca4148",
       "version_major": 2,
       "version_minor": 0
      },
      "text/plain": [
       "irjdc.png:   0%|          | 0.00/20.4k [00:00<?, ?B/s]"
      ]
     },
     "metadata": {},
     "output_type": "display_data"
    },
    {
     "data": {
      "application/vnd.jupyter.widget-view+json": {
       "model_id": "5565000fe9994d8cb411e163e2e11fa2",
       "version_major": 2,
       "version_minor": 0
      },
      "text/plain": [
       "jcznx.png:   0%|          | 0.00/10.3k [00:00<?, ?B/s]"
      ]
     },
     "metadata": {},
     "output_type": "display_data"
    },
    {
     "data": {
      "application/vnd.jupyter.widget-view+json": {
       "model_id": "8f9daf5cb8fe483b8a74080f9d396d7d",
       "version_major": 2,
       "version_minor": 0
      },
      "text/plain": [
       "mttxn.png:   0%|          | 0.00/16.1k [00:00<?, ?B/s]"
      ]
     },
     "metadata": {},
     "output_type": "display_data"
    },
    {
     "data": {
      "application/vnd.jupyter.widget-view+json": {
       "model_id": "74b8460fdd9b47828a18797a11f8348b",
       "version_major": 2,
       "version_minor": 0
      },
      "text/plain": [
       "mjyuj.png:   0%|          | 0.00/10.9k [00:00<?, ?B/s]"
      ]
     },
     "metadata": {},
     "output_type": "display_data"
    },
    {
     "data": {
      "application/vnd.jupyter.widget-view+json": {
       "model_id": "a6190b274b174c939dbb69a7922f06cc",
       "version_major": 2,
       "version_minor": 0
      },
      "text/plain": [
       "kapmv.png:   0%|          | 0.00/17.2k [00:00<?, ?B/s]"
      ]
     },
     "metadata": {},
     "output_type": "display_data"
    },
    {
     "data": {
      "application/vnd.jupyter.widget-view+json": {
       "model_id": "9ed2454e47134ccfa3e48862a5ac6bac",
       "version_major": 2,
       "version_minor": 0
      },
      "text/plain": [
       "mfgxx.png:   0%|          | 0.00/10.6k [00:00<?, ?B/s]"
      ]
     },
     "metadata": {},
     "output_type": "display_data"
    },
    {
     "data": {
      "application/vnd.jupyter.widget-view+json": {
       "model_id": "367345055423442aafbe5b1e6cefa65b",
       "version_major": 2,
       "version_minor": 0
      },
      "text/plain": [
       "lyeht.png:   0%|          | 0.00/9.18k [00:00<?, ?B/s]"
      ]
     },
     "metadata": {},
     "output_type": "display_data"
    },
    {
     "data": {
      "application/vnd.jupyter.widget-view+json": {
       "model_id": "6d1efeb4a8494f01b6345b10fc618a1c",
       "version_major": 2,
       "version_minor": 0
      },
      "text/plain": [
       "nsxdz.png:   0%|          | 0.00/16.6k [00:00<?, ?B/s]"
      ]
     },
     "metadata": {},
     "output_type": "display_data"
    },
    {
     "data": {
      "application/vnd.jupyter.widget-view+json": {
       "model_id": "274bd080c2e54ce4b3736cda64f91dc3",
       "version_major": 2,
       "version_minor": 0
      },
      "text/plain": [
       "mpyfg.png:   0%|          | 0.00/16.1k [00:00<?, ?B/s]"
      ]
     },
     "metadata": {},
     "output_type": "display_data"
    },
    {
     "data": {
      "application/vnd.jupyter.widget-view+json": {
       "model_id": "2499c21b39a8482795fd103606c95250",
       "version_major": 2,
       "version_minor": 0
      },
      "text/plain": [
       "nigxb.png:   0%|          | 0.00/15.0k [00:00<?, ?B/s]"
      ]
     },
     "metadata": {},
     "output_type": "display_data"
    },
    {
     "data": {
      "application/vnd.jupyter.widget-view+json": {
       "model_id": "52f152aa174b4fc8a4d557f90a84e442",
       "version_major": 2,
       "version_minor": 0
      },
      "text/plain": [
       "nultv.png:   0%|          | 0.00/13.4k [00:00<?, ?B/s]"
      ]
     },
     "metadata": {},
     "output_type": "display_data"
    },
    {
     "data": {
      "application/vnd.jupyter.widget-view+json": {
       "model_id": "2ad28723f5fc46f3b0f5d7a37660f87e",
       "version_major": 2,
       "version_minor": 0
      },
      "text/plain": [
       "okfgy.png:   0%|          | 0.00/18.3k [00:00<?, ?B/s]"
      ]
     },
     "metadata": {},
     "output_type": "display_data"
    },
    {
     "data": {
      "application/vnd.jupyter.widget-view+json": {
       "model_id": "2ff351e81cc841e4b336ee49007fd5bd",
       "version_major": 2,
       "version_minor": 0
      },
      "text/plain": [
       "opxxj.png:   0%|          | 0.00/10.3k [00:00<?, ?B/s]"
      ]
     },
     "metadata": {},
     "output_type": "display_data"
    },
    {
     "data": {
      "application/vnd.jupyter.widget-view+json": {
       "model_id": "ecd5817e6f174fb690788304895b485f",
       "version_major": 2,
       "version_minor": 0
      },
      "text/plain": [
       "rgivw.png:   0%|          | 0.00/11.2k [00:00<?, ?B/s]"
      ]
     },
     "metadata": {},
     "output_type": "display_data"
    },
    {
     "data": {
      "application/vnd.jupyter.widget-view+json": {
       "model_id": "e972f0bda0d64162895612f3a76600e1",
       "version_major": 2,
       "version_minor": 0
      },
      "text/plain": [
       "ozjtk.png:   0%|          | 0.00/12.2k [00:00<?, ?B/s]"
      ]
     },
     "metadata": {},
     "output_type": "display_data"
    },
    {
     "data": {
      "application/vnd.jupyter.widget-view+json": {
       "model_id": "bfdf0f44918b40c6986544182d44fa3d",
       "version_major": 2,
       "version_minor": 0
      },
      "text/plain": [
       "qyiik.png:   0%|          | 0.00/16.4k [00:00<?, ?B/s]"
      ]
     },
     "metadata": {},
     "output_type": "display_data"
    },
    {
     "data": {
      "application/vnd.jupyter.widget-view+json": {
       "model_id": "d4b2496d88e540a1ab9fdc6acef99f27",
       "version_major": 2,
       "version_minor": 0
      },
      "text/plain": [
       "rgvbr.png:   0%|          | 0.00/17.5k [00:00<?, ?B/s]"
      ]
     },
     "metadata": {},
     "output_type": "display_data"
    },
    {
     "data": {
      "application/vnd.jupyter.widget-view+json": {
       "model_id": "b350ccf79bbb410a98df154267f2e1e1",
       "version_major": 2,
       "version_minor": 0
      },
      "text/plain": [
       "nyxxg.png:   0%|          | 0.00/14.7k [00:00<?, ?B/s]"
      ]
     },
     "metadata": {},
     "output_type": "display_data"
    },
    {
     "data": {
      "application/vnd.jupyter.widget-view+json": {
       "model_id": "80d05f5735f64be688665b0b6ef6adca",
       "version_major": 2,
       "version_minor": 0
      },
      "text/plain": [
       "rzyex.png:   0%|          | 0.00/13.1k [00:00<?, ?B/s]"
      ]
     },
     "metadata": {},
     "output_type": "display_data"
    },
    {
     "data": {
      "application/vnd.jupyter.widget-view+json": {
       "model_id": "219e64ce4d4f420d8a60365d5f749a76",
       "version_major": 2,
       "version_minor": 0
      },
      "text/plain": [
       "slxrr.png:   0%|          | 0.00/10.9k [00:00<?, ?B/s]"
      ]
     },
     "metadata": {},
     "output_type": "display_data"
    },
    {
     "data": {
      "application/vnd.jupyter.widget-view+json": {
       "model_id": "1e75a73db1cf46d582795cbc4677d274",
       "version_major": 2,
       "version_minor": 0
      },
      "text/plain": [
       "sbdyu.png:   0%|          | 0.00/13.4k [00:00<?, ?B/s]"
      ]
     },
     "metadata": {},
     "output_type": "display_data"
    },
    {
     "data": {
      "application/vnd.jupyter.widget-view+json": {
       "model_id": "11c5d0c35c1b41a5ac74951238a86ee3",
       "version_major": 2,
       "version_minor": 0
      },
      "text/plain": [
       "uwuyn.png:   0%|          | 0.00/21.9k [00:00<?, ?B/s]"
      ]
     },
     "metadata": {},
     "output_type": "display_data"
    },
    {
     "data": {
      "application/vnd.jupyter.widget-view+json": {
       "model_id": "a01d36b8ef9b4bf2a534ce181fccf27a",
       "version_major": 2,
       "version_minor": 0
      },
      "text/plain": [
       "synpb.png:   0%|          | 0.00/12.9k [00:00<?, ?B/s]"
      ]
     },
     "metadata": {},
     "output_type": "display_data"
    },
    {
     "data": {
      "application/vnd.jupyter.widget-view+json": {
       "model_id": "a62fa41ccc9c44f48a951a5ae40c62de",
       "version_major": 2,
       "version_minor": 0
      },
      "text/plain": [
       "rkvpk.png:   0%|          | 0.00/15.2k [00:00<?, ?B/s]"
      ]
     },
     "metadata": {},
     "output_type": "display_data"
    },
    {
     "data": {
      "application/vnd.jupyter.widget-view+json": {
       "model_id": "d0b02f792fb64c2fbf8970177bc2f377",
       "version_major": 2,
       "version_minor": 0
      },
      "text/plain": [
       "tqcia.png:   0%|          | 0.00/16.1k [00:00<?, ?B/s]"
      ]
     },
     "metadata": {},
     "output_type": "display_data"
    },
    {
     "data": {
      "application/vnd.jupyter.widget-view+json": {
       "model_id": "ae834fd4b84547b293c7d574b2a74b54",
       "version_major": 2,
       "version_minor": 0
      },
      "text/plain": [
       "xejhc.png:   0%|          | 0.00/20.7k [00:00<?, ?B/s]"
      ]
     },
     "metadata": {},
     "output_type": "display_data"
    },
    {
     "data": {
      "application/vnd.jupyter.widget-view+json": {
       "model_id": "200080778aff4736a6a5adcf9380c048",
       "version_major": 2,
       "version_minor": 0
      },
      "text/plain": [
       "vzbik.png:   0%|          | 0.00/11.8k [00:00<?, ?B/s]"
      ]
     },
     "metadata": {},
     "output_type": "display_data"
    },
    {
     "data": {
      "application/vnd.jupyter.widget-view+json": {
       "model_id": "acd0fd39bca744589d0b4a974bdecb72",
       "version_major": 2,
       "version_minor": 0
      },
      "text/plain": [
       "wykbe.png:   0%|          | 0.00/17.4k [00:00<?, ?B/s]"
      ]
     },
     "metadata": {},
     "output_type": "display_data"
    },
    {
     "data": {
      "application/vnd.jupyter.widget-view+json": {
       "model_id": "51b3a91292df4613994b583be77df422",
       "version_major": 2,
       "version_minor": 0
      },
      "text/plain": [
       "bpsjc.png:   0%|          | 0.00/16.7k [00:00<?, ?B/s]"
      ]
     },
     "metadata": {},
     "output_type": "display_data"
    },
    {
     "data": {
      "application/vnd.jupyter.widget-view+json": {
       "model_id": "dd5cbf85381d4bd49f1aa490399fda97",
       "version_major": 2,
       "version_minor": 0
      },
      "text/plain": [
       "crybb.png:   0%|          | 0.00/20.4k [00:00<?, ?B/s]"
      ]
     },
     "metadata": {},
     "output_type": "display_data"
    },
    {
     "data": {
      "application/vnd.jupyter.widget-view+json": {
       "model_id": "f97fb87c1c894ade947ddcdbe38d6277",
       "version_major": 2,
       "version_minor": 0
      },
      "text/plain": [
       "xkfcw.png:   0%|          | 0.00/18.2k [00:00<?, ?B/s]"
      ]
     },
     "metadata": {},
     "output_type": "display_data"
    },
    {
     "data": {
      "application/vnd.jupyter.widget-view+json": {
       "model_id": "f5e6cccf3f66421d9e6f217bd5d428e7",
       "version_major": 2,
       "version_minor": 0
      },
      "text/plain": [
       "zoful.png:   0%|          | 0.00/19.0k [00:00<?, ?B/s]"
      ]
     },
     "metadata": {},
     "output_type": "display_data"
    },
    {
     "data": {
      "application/vnd.jupyter.widget-view+json": {
       "model_id": "6dd30f3b85e84e2e8f6eab4366dc62a2",
       "version_major": 2,
       "version_minor": 0
      },
      "text/plain": [
       "bjrso.png:   0%|          | 0.00/18.2k [00:00<?, ?B/s]"
      ]
     },
     "metadata": {},
     "output_type": "display_data"
    },
    {
     "data": {
      "application/vnd.jupyter.widget-view+json": {
       "model_id": "72774b0143764a0ca5f9a252fa41391a",
       "version_major": 2,
       "version_minor": 0
      },
      "text/plain": [
       "dgjrm.png:   0%|          | 0.00/25.5k [00:00<?, ?B/s]"
      ]
     },
     "metadata": {},
     "output_type": "display_data"
    },
    {
     "data": {
      "application/vnd.jupyter.widget-view+json": {
       "model_id": "1a47525371b94e76877279c4e173011e",
       "version_major": 2,
       "version_minor": 0
      },
      "text/plain": [
       "dpnpd.png:   0%|          | 0.00/16.0k [00:00<?, ?B/s]"
      ]
     },
     "metadata": {},
     "output_type": "display_data"
    },
    {
     "data": {
      "application/vnd.jupyter.widget-view+json": {
       "model_id": "0f25cdc9fec4424f94ab77eca8f49d45",
       "version_major": 2,
       "version_minor": 0
      },
      "text/plain": [
       "dgckn.png:   0%|          | 0.00/10.2k [00:00<?, ?B/s]"
      ]
     },
     "metadata": {},
     "output_type": "display_data"
    },
    {
     "data": {
      "application/vnd.jupyter.widget-view+json": {
       "model_id": "5b511b88d8fe420f9ba36cc93966ef6b",
       "version_major": 2,
       "version_minor": 0
      },
      "text/plain": [
       "eoytm.png:   0%|          | 0.00/10.4k [00:00<?, ?B/s]"
      ]
     },
     "metadata": {},
     "output_type": "display_data"
    },
    {
     "data": {
      "application/vnd.jupyter.widget-view+json": {
       "model_id": "860a98447d0643199bcba03ecbbc5780",
       "version_major": 2,
       "version_minor": 0
      },
      "text/plain": [
       "dysuz.png:   0%|          | 0.00/20.1k [00:00<?, ?B/s]"
      ]
     },
     "metadata": {},
     "output_type": "display_data"
    },
    {
     "data": {
      "application/vnd.jupyter.widget-view+json": {
       "model_id": "b7283cdef8fb48499169ee13d1d8ab0f",
       "version_major": 2,
       "version_minor": 0
      },
      "text/plain": [
       "fuypy.png:   0%|          | 0.00/12.0k [00:00<?, ?B/s]"
      ]
     },
     "metadata": {},
     "output_type": "display_data"
    },
    {
     "data": {
      "application/vnd.jupyter.widget-view+json": {
       "model_id": "6f52aa5f740f41b3a2fef58013a02397",
       "version_major": 2,
       "version_minor": 0
      },
      "text/plain": [
       "dxkel.png:   0%|          | 0.00/21.9k [00:00<?, ?B/s]"
      ]
     },
     "metadata": {},
     "output_type": "display_data"
    },
    {
     "data": {
      "application/vnd.jupyter.widget-view+json": {
       "model_id": "23d8b1ce0808437fb1edfdab8356e88c",
       "version_major": 2,
       "version_minor": 0
      },
      "text/plain": [
       "gdocv.png:   0%|          | 0.00/10.9k [00:00<?, ?B/s]"
      ]
     },
     "metadata": {},
     "output_type": "display_data"
    },
    {
     "data": {
      "application/vnd.jupyter.widget-view+json": {
       "model_id": "92b69361213f4b00aa3e60d34dd659a5",
       "version_major": 2,
       "version_minor": 0
      },
      "text/plain": [
       "fugoq.png:   0%|          | 0.00/9.01k [00:00<?, ?B/s]"
      ]
     },
     "metadata": {},
     "output_type": "display_data"
    },
    {
     "data": {
      "application/vnd.jupyter.widget-view+json": {
       "model_id": "e7b2b55c1cc24a1aac725f7bc151291a",
       "version_major": 2,
       "version_minor": 0
      },
      "text/plain": [
       "fduwb.png:   0%|          | 0.00/13.1k [00:00<?, ?B/s]"
      ]
     },
     "metadata": {},
     "output_type": "display_data"
    },
    {
     "data": {
      "application/vnd.jupyter.widget-view+json": {
       "model_id": "1b267e1384eb4e1583966b778eb368ee",
       "version_major": 2,
       "version_minor": 0
      },
      "text/plain": [
       "ggzyu.png:   0%|          | 0.00/15.6k [00:00<?, ?B/s]"
      ]
     },
     "metadata": {},
     "output_type": "display_data"
    },
    {
     "data": {
      "application/vnd.jupyter.widget-view+json": {
       "model_id": "c715e42a16b248ada8230db6791857dd",
       "version_major": 2,
       "version_minor": 0
      },
      "text/plain": [
       "gjcmh.png:   0%|          | 0.00/24.2k [00:00<?, ?B/s]"
      ]
     },
     "metadata": {},
     "output_type": "display_data"
    },
    {
     "data": {
      "application/vnd.jupyter.widget-view+json": {
       "model_id": "58ac06f86ba24929a03412f48d5c3e75",
       "version_major": 2,
       "version_minor": 0
      },
      "text/plain": [
       "gnhyj.png:   0%|          | 0.00/25.2k [00:00<?, ?B/s]"
      ]
     },
     "metadata": {},
     "output_type": "display_data"
    },
    {
     "data": {
      "application/vnd.jupyter.widget-view+json": {
       "model_id": "ef3cd2ed7dd44c00841693c8c3855243",
       "version_major": 2,
       "version_minor": 0
      },
      "text/plain": [
       "gpxpz.png:   0%|          | 0.00/17.2k [00:00<?, ?B/s]"
      ]
     },
     "metadata": {},
     "output_type": "display_data"
    },
    {
     "data": {
      "application/vnd.jupyter.widget-view+json": {
       "model_id": "aef2d8d345f64fd2a06ecdf59cd8319c",
       "version_major": 2,
       "version_minor": 0
      },
      "text/plain": [
       "hhryi.png:   0%|          | 0.00/26.0k [00:00<?, ?B/s]"
      ]
     },
     "metadata": {},
     "output_type": "display_data"
    },
    {
     "data": {
      "application/vnd.jupyter.widget-view+json": {
       "model_id": "a1574a98701f4c459a30ed893e902971",
       "version_major": 2,
       "version_minor": 0
      },
      "text/plain": [
       "iibdm.png:   0%|          | 0.00/8.86k [00:00<?, ?B/s]"
      ]
     },
     "metadata": {},
     "output_type": "display_data"
    },
    {
     "data": {
      "application/vnd.jupyter.widget-view+json": {
       "model_id": "7ab28ca4af7e41cdbe46734445dcf9cf",
       "version_major": 2,
       "version_minor": 0
      },
      "text/plain": [
       "gqyww.png:   0%|          | 0.00/10.6k [00:00<?, ?B/s]"
      ]
     },
     "metadata": {},
     "output_type": "display_data"
    },
    {
     "data": {
      "application/vnd.jupyter.widget-view+json": {
       "model_id": "bdc9edaacb914a61b09898b507705f6a",
       "version_major": 2,
       "version_minor": 0
      },
      "text/plain": [
       "iaevo.png:   0%|          | 0.00/20.4k [00:00<?, ?B/s]"
      ]
     },
     "metadata": {},
     "output_type": "display_data"
    },
    {
     "data": {
      "application/vnd.jupyter.widget-view+json": {
       "model_id": "8374fd023498414cac53a0332edea20d",
       "version_major": 2,
       "version_minor": 0
      },
      "text/plain": [
       "jeylb.png:   0%|          | 0.00/24.3k [00:00<?, ?B/s]"
      ]
     },
     "metadata": {},
     "output_type": "display_data"
    },
    {
     "data": {
      "application/vnd.jupyter.widget-view+json": {
       "model_id": "010bb1d58dda46d5a94878c124de092e",
       "version_major": 2,
       "version_minor": 0
      },
      "text/plain": [
       "iyfbq.png:   0%|          | 0.00/9.29k [00:00<?, ?B/s]"
      ]
     },
     "metadata": {},
     "output_type": "display_data"
    },
    {
     "data": {
      "application/vnd.jupyter.widget-view+json": {
       "model_id": "77138060e6b1452c8f2c2d7422e99c52",
       "version_major": 2,
       "version_minor": 0
      },
      "text/plain": [
       "itvox.png:   0%|          | 0.00/12.1k [00:00<?, ?B/s]"
      ]
     },
     "metadata": {},
     "output_type": "display_data"
    },
    {
     "data": {
      "application/vnd.jupyter.widget-view+json": {
       "model_id": "a37d6a571d744278865ebf04c975718c",
       "version_major": 2,
       "version_minor": 0
      },
      "text/plain": [
       "jpnnc.png:   0%|          | 0.00/12.9k [00:00<?, ?B/s]"
      ]
     },
     "metadata": {},
     "output_type": "display_data"
    },
    {
     "data": {
      "application/vnd.jupyter.widget-view+json": {
       "model_id": "0754ac68a66a4a3186c92f4d5b0ca1c7",
       "version_major": 2,
       "version_minor": 0
      },
      "text/plain": [
       "khrpi.png:   0%|          | 0.00/15.3k [00:00<?, ?B/s]"
      ]
     },
     "metadata": {},
     "output_type": "display_data"
    },
    {
     "data": {
      "application/vnd.jupyter.widget-view+json": {
       "model_id": "c23ecd2e08a94fd9b26967e6c956b8d2",
       "version_major": 2,
       "version_minor": 0
      },
      "text/plain": [
       "klbno.png:   0%|          | 0.00/14.2k [00:00<?, ?B/s]"
      ]
     },
     "metadata": {},
     "output_type": "display_data"
    },
    {
     "data": {
      "application/vnd.jupyter.widget-view+json": {
       "model_id": "fc1730243e724271bd7b8b56b499c433",
       "version_major": 2,
       "version_minor": 0
      },
      "text/plain": [
       "kbstb.png:   0%|          | 0.00/9.53k [00:00<?, ?B/s]"
      ]
     },
     "metadata": {},
     "output_type": "display_data"
    },
    {
     "data": {
      "application/vnd.jupyter.widget-view+json": {
       "model_id": "b147c0b66aba4833bd8783f2599dcc67",
       "version_major": 2,
       "version_minor": 0
      },
      "text/plain": [
       "lbqtx.png:   0%|          | 0.00/10.6k [00:00<?, ?B/s]"
      ]
     },
     "metadata": {},
     "output_type": "display_data"
    },
    {
     "data": {
      "application/vnd.jupyter.widget-view+json": {
       "model_id": "91462683dc6c47fea22037a8d04fde4c",
       "version_major": 2,
       "version_minor": 0
      },
      "text/plain": [
       "jujcp.png:   0%|          | 0.00/15.7k [00:00<?, ?B/s]"
      ]
     },
     "metadata": {},
     "output_type": "display_data"
    },
    {
     "data": {
      "application/vnd.jupyter.widget-view+json": {
       "model_id": "bfb574aee585404e88efc08453cfd654",
       "version_major": 2,
       "version_minor": 0
      },
      "text/plain": [
       "kuxze.png:   0%|          | 0.00/8.11k [00:00<?, ?B/s]"
      ]
     },
     "metadata": {},
     "output_type": "display_data"
    },
    {
     "data": {
      "application/vnd.jupyter.widget-view+json": {
       "model_id": "89780cbd69c74df4be0fb07363393fb3",
       "version_major": 2,
       "version_minor": 0
      },
      "text/plain": [
       "ksrec.png:   0%|          | 0.00/21.3k [00:00<?, ?B/s]"
      ]
     },
     "metadata": {},
     "output_type": "display_data"
    },
    {
     "data": {
      "application/vnd.jupyter.widget-view+json": {
       "model_id": "09b80c6e3ea947e3a0751bcb73355419",
       "version_major": 2,
       "version_minor": 0
      },
      "text/plain": [
       "lhcfs.png:   0%|          | 0.00/22.0k [00:00<?, ?B/s]"
      ]
     },
     "metadata": {},
     "output_type": "display_data"
    },
    {
     "data": {
      "application/vnd.jupyter.widget-view+json": {
       "model_id": "66a23f5917714f659aa99b7b5fd3aa24",
       "version_major": 2,
       "version_minor": 0
      },
      "text/plain": [
       "nnqmi.png:   0%|          | 0.00/10.3k [00:00<?, ?B/s]"
      ]
     },
     "metadata": {},
     "output_type": "display_data"
    },
    {
     "data": {
      "application/vnd.jupyter.widget-view+json": {
       "model_id": "f0564a6fc81f4510ac3a25dbdd405cac",
       "version_major": 2,
       "version_minor": 0
      },
      "text/plain": [
       "mobjx.png:   0%|          | 0.00/14.0k [00:00<?, ?B/s]"
      ]
     },
     "metadata": {},
     "output_type": "display_data"
    },
    {
     "data": {
      "application/vnd.jupyter.widget-view+json": {
       "model_id": "84ecd72b2179486aa49d7f266c3a1a95",
       "version_major": 2,
       "version_minor": 0
      },
      "text/plain": [
       "ludmc.png:   0%|          | 0.00/14.7k [00:00<?, ?B/s]"
      ]
     },
     "metadata": {},
     "output_type": "display_data"
    },
    {
     "data": {
      "application/vnd.jupyter.widget-view+json": {
       "model_id": "0cedfa622aa5408fa196eb75dc636726",
       "version_major": 2,
       "version_minor": 0
      },
      "text/plain": [
       "nsddd.png:   0%|          | 0.00/9.77k [00:00<?, ?B/s]"
      ]
     },
     "metadata": {},
     "output_type": "display_data"
    },
    {
     "data": {
      "application/vnd.jupyter.widget-view+json": {
       "model_id": "acb3d2d489fc40cbb12b36f455b1fed2",
       "version_major": 2,
       "version_minor": 0
      },
      "text/plain": [
       "nnjaa.png:   0%|          | 0.00/9.34k [00:00<?, ?B/s]"
      ]
     },
     "metadata": {},
     "output_type": "display_data"
    },
    {
     "data": {
      "application/vnd.jupyter.widget-view+json": {
       "model_id": "9dd70e41a45c4e388b8223afb22b737e",
       "version_major": 2,
       "version_minor": 0
      },
      "text/plain": [
       "offyn.png:   0%|          | 0.00/26.6k [00:00<?, ?B/s]"
      ]
     },
     "metadata": {},
     "output_type": "display_data"
    },
    {
     "data": {
      "application/vnd.jupyter.widget-view+json": {
       "model_id": "d6b8bb984f644f13ba851b4967f62221",
       "version_major": 2,
       "version_minor": 0
      },
      "text/plain": [
       "nxfcg.png:   0%|          | 0.00/22.2k [00:00<?, ?B/s]"
      ]
     },
     "metadata": {},
     "output_type": "display_data"
    },
    {
     "data": {
      "application/vnd.jupyter.widget-view+json": {
       "model_id": "3523a073b541487c99e9b4292b616524",
       "version_major": 2,
       "version_minor": 0
      },
      "text/plain": [
       "nyexn.png:   0%|          | 0.00/9.60k [00:00<?, ?B/s]"
      ]
     },
     "metadata": {},
     "output_type": "display_data"
    },
    {
     "data": {
      "application/vnd.jupyter.widget-view+json": {
       "model_id": "ad0c64d2f29248a4a1328804a58db24d",
       "version_major": 2,
       "version_minor": 0
      },
      "text/plain": [
       "qplho.png:   0%|          | 0.00/21.8k [00:00<?, ?B/s]"
      ]
     },
     "metadata": {},
     "output_type": "display_data"
    },
    {
     "data": {
      "application/vnd.jupyter.widget-view+json": {
       "model_id": "d60af378475b4f97bba461300dad2552",
       "version_major": 2,
       "version_minor": 0
      },
      "text/plain": [
       "pdawn.png:   0%|          | 0.00/9.80k [00:00<?, ?B/s]"
      ]
     },
     "metadata": {},
     "output_type": "display_data"
    },
    {
     "data": {
      "application/vnd.jupyter.widget-view+json": {
       "model_id": "2085e9b4f3bb45c19c3de8da88b27e12",
       "version_major": 2,
       "version_minor": 0
      },
      "text/plain": [
       "oyhvi.png:   0%|          | 0.00/9.42k [00:00<?, ?B/s]"
      ]
     },
     "metadata": {},
     "output_type": "display_data"
    },
    {
     "data": {
      "application/vnd.jupyter.widget-view+json": {
       "model_id": "236bd24bba6c4e59b0edd2a98be513a0",
       "version_major": 2,
       "version_minor": 0
      },
      "text/plain": [
       "pmepy.png:   0%|          | 0.00/11.7k [00:00<?, ?B/s]"
      ]
     },
     "metadata": {},
     "output_type": "display_data"
    },
    {
     "data": {
      "application/vnd.jupyter.widget-view+json": {
       "model_id": "983a0ef8bed9490d9eb5d78f48ba52fc",
       "version_major": 2,
       "version_minor": 0
      },
      "text/plain": [
       "pqdbx.png:   0%|          | 0.00/9.51k [00:00<?, ?B/s]"
      ]
     },
     "metadata": {},
     "output_type": "display_data"
    },
    {
     "data": {
      "application/vnd.jupyter.widget-view+json": {
       "model_id": "cee8454df25a4255af7edc47954b0cd4",
       "version_major": 2,
       "version_minor": 0
      },
      "text/plain": [
       "rbcui.png:   0%|          | 0.00/8.84k [00:00<?, ?B/s]"
      ]
     },
     "metadata": {},
     "output_type": "display_data"
    },
    {
     "data": {
      "application/vnd.jupyter.widget-view+json": {
       "model_id": "ce6f978d16284eda8b7d8c9251b07213",
       "version_major": 2,
       "version_minor": 0
      },
      "text/plain": [
       "rhmhf.png:   0%|          | 0.00/20.4k [00:00<?, ?B/s]"
      ]
     },
     "metadata": {},
     "output_type": "display_data"
    },
    {
     "data": {
      "application/vnd.jupyter.widget-view+json": {
       "model_id": "9ba94cab56af476bbc10a16beaef7e62",
       "version_major": 2,
       "version_minor": 0
      },
      "text/plain": [
       "qdxno.png:   0%|          | 0.00/11.6k [00:00<?, ?B/s]"
      ]
     },
     "metadata": {},
     "output_type": "display_data"
    },
    {
     "data": {
      "application/vnd.jupyter.widget-view+json": {
       "model_id": "a743b4ef079e4f6aaac7c4969735504c",
       "version_major": 2,
       "version_minor": 0
      },
      "text/plain": [
       "tkhri.png:   0%|          | 0.00/23.2k [00:00<?, ?B/s]"
      ]
     },
     "metadata": {},
     "output_type": "display_data"
    },
    {
     "data": {
      "application/vnd.jupyter.widget-view+json": {
       "model_id": "3e25fac334cb4f5a9926265f8de58788",
       "version_major": 2,
       "version_minor": 0
      },
      "text/plain": [
       "rogzr.png:   0%|          | 0.00/11.7k [00:00<?, ?B/s]"
      ]
     },
     "metadata": {},
     "output_type": "display_data"
    },
    {
     "data": {
      "application/vnd.jupyter.widget-view+json": {
       "model_id": "35e25c9d2eb2435a97aa8ba38e7d6cf9",
       "version_major": 2,
       "version_minor": 0
      },
      "text/plain": [
       "shzrn.png:   0%|          | 0.00/11.5k [00:00<?, ?B/s]"
      ]
     },
     "metadata": {},
     "output_type": "display_data"
    },
    {
     "data": {
      "application/vnd.jupyter.widget-view+json": {
       "model_id": "3cd8b0c3e53047e1bd88ebcb36729a15",
       "version_major": 2,
       "version_minor": 0
      },
      "text/plain": [
       "uzmjq.png:   0%|          | 0.00/7.73k [00:00<?, ?B/s]"
      ]
     },
     "metadata": {},
     "output_type": "display_data"
    },
    {
     "data": {
      "application/vnd.jupyter.widget-view+json": {
       "model_id": "eca4a91d12744a0fa36e4b56183299b2",
       "version_major": 2,
       "version_minor": 0
      },
      "text/plain": [
       "srktr.png:   0%|          | 0.00/16.8k [00:00<?, ?B/s]"
      ]
     },
     "metadata": {},
     "output_type": "display_data"
    },
    {
     "data": {
      "application/vnd.jupyter.widget-view+json": {
       "model_id": "217aab63931e4fd38e89f1dca6ea5114",
       "version_major": 2,
       "version_minor": 0
      },
      "text/plain": [
       "wpjxe.png:   0%|          | 0.00/20.9k [00:00<?, ?B/s]"
      ]
     },
     "metadata": {},
     "output_type": "display_data"
    },
    {
     "data": {
      "application/vnd.jupyter.widget-view+json": {
       "model_id": "539d285da7a849e09a200306deb919fd",
       "version_major": 2,
       "version_minor": 0
      },
      "text/plain": [
       "skxvn.png:   0%|          | 0.00/10.9k [00:00<?, ?B/s]"
      ]
     },
     "metadata": {},
     "output_type": "display_data"
    },
    {
     "data": {
      "application/vnd.jupyter.widget-view+json": {
       "model_id": "0e3b9acaa9f64a12a37f13af5c2d45b9",
       "version_major": 2,
       "version_minor": 0
      },
      "text/plain": [
       "vllae.png:   0%|          | 0.00/26.2k [00:00<?, ?B/s]"
      ]
     },
     "metadata": {},
     "output_type": "display_data"
    },
    {
     "data": {
      "application/vnd.jupyter.widget-view+json": {
       "model_id": "210ceb9bc0224f4c9185bdc41438b861",
       "version_major": 2,
       "version_minor": 0
      },
      "text/plain": [
       "zflij.png:   0%|          | 0.00/8.65k [00:00<?, ?B/s]"
      ]
     },
     "metadata": {},
     "output_type": "display_data"
    },
    {
     "data": {
      "application/vnd.jupyter.widget-view+json": {
       "model_id": "3dd64452e0684ebcae7e1d3c13384a0a",
       "version_major": 2,
       "version_minor": 0
      },
      "text/plain": [
       "zuvzz.png:   0%|          | 0.00/22.4k [00:00<?, ?B/s]"
      ]
     },
     "metadata": {},
     "output_type": "display_data"
    },
    {
     "data": {
      "text/plain": [
       "'/home/ec2-user/SageMaker/section-seeker/data'"
      ]
     },
     "execution_count": 3,
     "metadata": {},
     "output_type": "execute_result"
    }
   ],
   "source": [
    "DATA_REPO_ID = \"thinkonward/reflection-connection\"\n",
    "huggingface_hub.snapshot_download(\n",
    "    repo_id=DATA_REPO_ID, repo_type=\"dataset\", local_dir=\"./data\"\n",
    ")"
   ]
  },
  {
   "cell_type": "code",
   "execution_count": 4,
   "metadata": {
    "tags": []
   },
   "outputs": [],
   "source": [
    "import numpy as np\n",
    "import skimage\n",
    "\n",
    "from matplotlib import pyplot as plt\n",
    "from albumentations.augmentations.geometric.transforms import PadIfNeeded\n",
    "import albumentations as A\n",
    "import cv2\n",
    "from PIL import Image\n",
    "from typing import Callable, Union\n",
    "from torch import Tensor\n",
    "import torchvision.transforms as T\n",
    "\n",
    "from SectionSeeker.snn.dataset.dataset import SeismicDataset\n",
    "from SectionSeeker.snn.dataset.wrappers import ContrastiveDataset, TripletDataset\n",
    "\n",
    "%matplotlib inline"
   ]
  },
  {
   "cell_type": "markdown",
   "metadata": {},
   "source": [
    "Let's start with creating SeismicDataset on top of training data\n",
    "You specify `build=True` to build the dataset directly from images instead of loading the tensor file. \n",
    "You can create the tensor file from dataset by calling `dataset.save()` method"
   ]
  },
  {
   "cell_type": "code",
   "execution_count": 5,
   "metadata": {
    "tags": []
   },
   "outputs": [],
   "source": [
    "# transformation to pad images before passing to ViT. Supports standard and compatibility mode\n",
    "def vit_transform(img: Union[Tensor, Image.Image]) -> Tensor:\n",
    "\n",
    "    pad = PadIfNeeded(224, 224, value=-1, border_mode=cv2.BORDER_CONSTANT)\n",
    "    if isinstance(img, Image.Image):\n",
    "        transformed_img = pad(image=np.array(img)).get(\"image\")\n",
    "    elif isinstance(img, Tensor):\n",
    "        transformed_img = pad(image=img.numpy()).get(\"image\")\n",
    "    else:\n",
    "        transformed_img = pad(image=img).get(\"image\")\n",
    "\n",
    "    return Tensor(transformed_img)\n",
    "\n",
    "\n",
    "# Specify compatibilty_mode=True to support storing and getting data as PIL Images\n",
    "# Note that image-wise normalization is enabled bu default. Specify normalize=False to disable it\n",
    "dataset = SeismicDataset(\n",
    "    ROOT, build=True, greyscale=False, train=True, transform=vit_transform\n",
    ")"
   ]
  },
  {
   "cell_type": "code",
   "execution_count": 6,
   "metadata": {
    "tags": []
   },
   "outputs": [
    {
     "name": "stderr",
     "output_type": "stream",
     "text": [
      "Clipping input data to the valid range for imshow with RGB data ([0..1] for floats or [0..255] for integers).\n"
     ]
    },
    {
     "data": {
      "image/png": "[encoded data removed]",
      "text/plain": [
       "<Figure size 640x480 with 1 Axes>"
      ]
     },
     "metadata": {},
     "output_type": "display_data"
    }
   ],
   "source": [
    "# each item of dataset is a tuple of image tensor with shape HxWxC and integer label. You can access names of classes with dataset.classes\n",
    "idx = 0\n",
    "plt.imshow(dataset[idx][0].numpy())\n",
    "plt.title(\n",
    "    f\"Example image from class {dataset[idx][1]}: {dataset.classes[dataset[idx][1]]}\"\n",
    ")\n",
    "# Warnings are only caused by floating-point error\n",
    "plt.show()"
   ]
  },
  {
   "cell_type": "markdown",
   "metadata": {},
   "source": [
    "As a next step you create an instance of ContrastiveDataset built on top of training seismic dataset\n",
    "Contrastive dataset builds pairs of images with binary target, indicating whether both images come from the same class\n",
    "\n",
    "Default mode for contrastive dataset is `train`, in which `__getitem__` method will generate random pairs for the indexed element of the seismic dataset each time it's called (lazy generation). In `test` mode, on the other hand, pairs are generated during contstruction of the dataset (eager generation), and therefeore are fixed. This behaviour is ment to make sure that validation scores depend only on model performance, not random pair selection. Same approach was also used in other type of dataset - `TripletDataset`, which will be discussed later"
   ]
  },
  {
   "cell_type": "code",
   "execution_count": 7,
   "metadata": {
    "tags": []
   },
   "outputs": [
    {
     "name": "stderr",
     "output_type": "stream",
     "text": [
      "Clipping input data to the valid range for imshow with RGB data ([0..1] for floats or [0..255] for integers).\n",
      "Clipping input data to the valid range for imshow with RGB data ([0..1] for floats or [0..255] for integers).\n"
     ]
    },
    {
     "data": {
      "image/png": "[encoded data removed]",
      "text/plain": [
       "<Figure size 640x480 with 2 Axes>"
      ]
     },
     "metadata": {},
     "output_type": "display_data"
    }
   ],
   "source": [
    "contrastive_dataset = ContrastiveDataset(dataset)\n",
    "\n",
    "# Each item of the contrastive dataset is a tuple of (HxWxC image 1 tensor, CxHxW image 2 tensor) and a binary target variable\n",
    "idx = 0\n",
    "\n",
    "fig, ax = plt.subplots(1, 2)\n",
    "ax[0].imshow(contrastive_dataset[idx][0][0].numpy().transpose(1, 2, 0))\n",
    "ax[1].imshow(contrastive_dataset[idx][0][1].numpy().transpose(1, 2, 0))\n",
    "\n",
    "fig.suptitle(\n",
    "    f\"Pair {idx} from contrastive dataset. Target variable for this pair: {contrastive_dataset[idx][1]}\"\n",
    ")\n",
    "# Warnings are only caused by floating-point error\n",
    "plt.show()"
   ]
  },
  {
   "cell_type": "markdown",
   "metadata": {},
   "source": [
    "Siamese neural networks can be trained in many ways - using `ContrastiveDataset` to create pairs annotated with target variable is only one of them. Other possible approach is to use `TripletDataset`, that creates triplets of anchor image, positive reference (same class) and negative reference (other class). You can build it on top of `SeismicDataset` in a same way that you used for `ContrastiveDataset`\n",
    "\n",
    "Note that for compatibility reasons, each item of TripletDataset is a tuple of (HxWxC anchor image tensor, CxHxW posititive image tensor, CxHxW negative image tensor) and empty list: `((Tensor, Tensor, Tensor), [])`\n"
   ]
  },
  {
   "cell_type": "code",
   "execution_count": 8,
   "metadata": {
    "tags": []
   },
   "outputs": [
    {
     "name": "stderr",
     "output_type": "stream",
     "text": [
      "Clipping input data to the valid range for imshow with RGB data ([0..1] for floats or [0..255] for integers).\n",
      "Clipping input data to the valid range for imshow with RGB data ([0..1] for floats or [0..255] for integers).\n",
      "Clipping input data to the valid range for imshow with RGB data ([0..1] for floats or [0..255] for integers).\n"
     ]
    },
    {
     "data": {
      "image/png": "[encoded data removed]",
      "text/plain": [
       "<Figure size 640x480 with 3 Axes>"
      ]
     },
     "metadata": {},
     "output_type": "display_data"
    }
   ],
   "source": [
    "triplet_dataset = TripletDataset(dataset)\n",
    "\n",
    "idx = 0\n",
    "\n",
    "fig, ax = plt.subplots(1, 3)\n",
    "ax[0].imshow(triplet_dataset[idx][0][0].numpy().transpose(1, 2, 0))\n",
    "ax[0].set_title(\"Anchor image\")\n",
    "ax[1].imshow(triplet_dataset[idx][0][1].numpy().transpose(1, 2, 0))\n",
    "ax[1].set_title(\"Positive reference\")\n",
    "ax[2].imshow(triplet_dataset[idx][0][2].numpy().transpose(1, 2, 0))\n",
    "ax[2].set_title(\"Negative reference\")\n",
    "\n",
    "# Warnings are only caused by floating-point error\n",
    "plt.show()"
   ]
  },
  {
   "cell_type": "markdown",
   "metadata": {},
   "source": [
    "The order in which you serve pairs or triplets for training Siamese Neural Networks might have a huge impact on model performance. You might want to modify `ContrastiveDataset` or `TripletDataset` wrappers to use better pair matching algorithm than just random selection. Check the original FaceNet paper for more information https://arxiv.org/pdf/1503.03832.pdf"
   ]
  },
  {
   "cell_type": "markdown",
   "metadata": {},
   "source": [
    "# Example Solution"
   ]
  },
  {
   "cell_type": "markdown",
   "metadata": {},
   "source": [
    "## Model overview\n",
    "\n",
    "Problem of learning on dataset with sparse labels is generally refered to as few-shot learning. Special case of few-shot learning is one-shot learning, when you ask the model to make predictions for the new class, that was not present in training set and it's seen by the model for the first time as a query image during inference. \n",
    "\n",
    "Since you want to be able to use reference images to query the model for matching pairs - we decided to use Siamese Neural Network architecture with pre-trained ResNet-50 backbone. We encourage you to explore different architectures, backbone models and training procedures to achieve best performance not only in the few-shot problem, but also generalize well enough to maintain perfomance also in one-shot scenario."
   ]
  },
  {
   "cell_type": "markdown",
   "metadata": {},
   "source": [
    "## Training\n",
    "\n",
    "There are many possible approaches to train Siamesese Neural Networks. Most popular strategies include:\n",
    "1. Using binary classifier with standard BCE loss as the last stage of network. This is efficient for simple problems, like classification on MNIST dataset\n",
    "2. Using Contrastive Loss to push embeddings for different classes as far from each other as possible in latent space\n",
    "3. Using Triplet loss to separate embeddings in latent space without additional target variable, using anchor image instead. This was the approach used in FaceNet, achieving SOTA performance in facial recognition.\n",
    "\n",
    "We provide you with all above losses and corresponding datasets to choose the best training approach. In this example we used Contrastive loss to train the Siamese NN. We decided to separate training in two stages - first stage is meant to obtain initial convergence, while second stage with very small batch size is supposed to improve performance in one-shot image recognition."
   ]
  },
  {
   "cell_type": "code",
   "execution_count": 9,
   "metadata": {
    "tags": []
   },
   "outputs": [],
   "source": [
    "import torch\n",
    "from torch import nn\n",
    "\n",
    "from SectionSeeker.snn.losses import ContrastiveLoss\n",
    "from SectionSeeker.snn.model import SiameseNetwork\n",
    "from SectionSeeker.snn.train import Trainer\n",
    "from SectionSeeker.snn.config import ModelConfig"
   ]
  },
  {
   "cell_type": "markdown",
   "metadata": {},
   "source": [
    "You will need to now download the model weights from the HuggingFace repositories. To do this you need a HuggingFace account and to request model access."
   ]
  },
  {
   "cell_type": "code",
   "execution_count": 10,
   "metadata": {
    "tags": []
   },
   "outputs": [
    {
     "data": {
      "application/vnd.jupyter.widget-view+json": {
       "model_id": "4ca1d6804d3541058b776b64003db910",
       "version_major": 2,
       "version_minor": 0
      },
      "text/plain": [
       "Fetching 1 files:   0%|          | 0/1 [00:00<?, ?it/s]"
      ]
     },
     "metadata": {},
     "output_type": "display_data"
    },
    {
     "data": {
      "application/vnd.jupyter.widget-view+json": {
       "model_id": "b9c7dded7111473da3b20c59096d9859",
       "version_major": 2,
       "version_minor": 0
      },
      "text/plain": [
       "ViT_B_16_SEISMIC31K.pth:   0%|          | 0.00/346M [00:00<?, ?B/s]"
      ]
     },
     "metadata": {},
     "output_type": "display_data"
    },
    {
     "data": {
      "application/vnd.jupyter.widget-view+json": {
       "model_id": "3660dfb6caf9452f813b112b03db9cc8",
       "version_major": 2,
       "version_minor": 0
      },
      "text/plain": [
       "Fetching 1 files:   0%|          | 0/1 [00:00<?, ?it/s]"
      ]
     },
     "metadata": {},
     "output_type": "display_data"
    },
    {
     "data": {
      "application/vnd.jupyter.widget-view+json": {
       "model_id": "b5d660d91ecf44eda69db87a1c1c5cd8",
       "version_major": 2,
       "version_minor": 0
      },
      "text/plain": [
       "ViT_L_16_SEISMIC31K.pth:   0%|          | 0.00/1.22G [00:00<?, ?B/s]"
      ]
     },
     "metadata": {},
     "output_type": "display_data"
    },
    {
     "data": {
      "text/plain": [
       "'/home/ec2-user/SageMaker/section-seeker/l_16_checkpoint'"
      ]
     },
     "execution_count": 10,
     "metadata": {},
     "output_type": "execute_result"
    }
   ],
   "source": [
    "B16_MODEL_REPO_ID = \"thinkonward/section-seeker-base-16\"\n",
    "huggingface_hub.snapshot_download(\n",
    "    repo_id=B16_MODEL_REPO_ID,\n",
    "    repo_type=\"model\",\n",
    "    local_dir=\"./b_16_checkpoint\",\n",
    "    allow_patterns=\"*.pth\",\n",
    ")\n",
    "\n",
    "L16_MODEL_REPO_ID = \"thinkonward/section-seeker-large-16\"\n",
    "huggingface_hub.snapshot_download(\n",
    "    repo_id=L16_MODEL_REPO_ID,\n",
    "    repo_type=\"model\",\n",
    "    local_dir=\"./l_16_checkpoint\",\n",
    "    allow_patterns=\"*.pth\",\n",
    ")"
   ]
  },
  {
   "cell_type": "code",
   "execution_count": 11,
   "metadata": {
    "tags": []
   },
   "outputs": [],
   "source": [
    "# specify configurations for local checkpoints\n",
    "# Note that the `SiameseNetwork()` constructor will first try to load model weights from Torchvision.\n",
    "# It will only proceed to loading local checkpoint when the first attempt fails\n",
    "# For models that have `fc.in_features` attribute you can specify FC_IN_FEATURES=0 for automatic detection\n",
    "\n",
    "vitBConfigPretrained = ModelConfig(\n",
    "    BACKBONE_MODEL=\"ViT_B_16\",\n",
    "    BACKBONE_MODEL_WEIGHTS=\"./b_16_checkpoint/ViT_B_16_SEISMIC31K.pth\",\n",
    "    LATENT_SPACE_DIM=16,\n",
    "    FC_IN_FEATURES=768,\n",
    ")\n",
    "\n",
    "vitLConfigPretrained = ModelConfig(\n",
    "    BACKBONE_MODEL=\"ViT_L_16\",\n",
    "    BACKBONE_MODEL_WEIGHTS=\"./l_16_checkpoint/ViT_L_16_SEISMIC31K.pth\",\n",
    "    LATENT_SPACE_DIM=16,\n",
    "    FC_IN_FEATURES=1024,\n",
    ")"
   ]
  },
  {
   "cell_type": "code",
   "execution_count": 12,
   "metadata": {
    "tags": []
   },
   "outputs": [
    {
     "name": "stdout",
     "output_type": "stream",
     "text": [
      "Initialized weights for fully connected component\n"
     ]
    }
   ],
   "source": [
    "cuda = torch.cuda.is_available()\n",
    "device = torch.device(\"cuda\") if cuda else torch.device(\"cpu\")\n",
    "model = SiameseNetwork(vitLConfigPretrained)\n",
    "# we recommend freezing pretrained & fine-tuned backbone at least in the first stage of training SNN\n",
    "model.freeze_backbone()"
   ]
  },
  {
   "cell_type": "markdown",
   "metadata": {},
   "source": [
    "### First stage of training "
   ]
  },
  {
   "cell_type": "code",
   "execution_count": 13,
   "metadata": {
    "tags": []
   },
   "outputs": [],
   "source": [
    "kwargs = {\"num_workers\": 4, \"pin_memory\": True} if cuda else {}\n",
    "batch_size = 16\n",
    "train_loader = torch.utils.data.DataLoader(\n",
    "    contrastive_dataset, batch_size=batch_size, shuffle=True, **kwargs\n",
    ")\n",
    "lr = 1e-3\n",
    "optimizer = torch.optim.Adam(model.parameters(), lr=lr)\n",
    "scheduler = torch.optim.lr_scheduler.StepLR(optimizer, 10, gamma=0.1, last_epoch=-1)\n",
    "n_epochs = 10\n",
    "contrastive_loss = ContrastiveLoss()"
   ]
  },
  {
   "cell_type": "code",
   "execution_count": 14,
   "metadata": {
    "tags": []
   },
   "outputs": [],
   "source": [
    "siamese_trainer = Trainer(\"contrastive\", optimizer, cuda, log_interval=100)"
   ]
  },
  {
   "cell_type": "code",
   "execution_count": 15,
   "metadata": {
    "tags": []
   },
   "outputs": [
    {
     "name": "stdout",
     "output_type": "stream",
     "text": [
      "Train Epoch: 0 [0/451 (0%)]\tLoss: 0.226895\n",
      "Train Epoch: 1 [0/451 (0%)]\tLoss: 0.106775\n",
      "Train Epoch: 2 [0/451 (0%)]\tLoss: 0.148337\n",
      "Train Epoch: 3 [0/451 (0%)]\tLoss: 0.138462\n",
      "Train Epoch: 4 [0/451 (0%)]\tLoss: 0.136163\n",
      "Train Epoch: 5 [0/451 (0%)]\tLoss: 0.074675\n",
      "Train Epoch: 6 [0/451 (0%)]\tLoss: 0.107291\n",
      "Train Epoch: 7 [0/451 (0%)]\tLoss: 0.103328\n",
      "Train Epoch: 8 [0/451 (0%)]\tLoss: 0.105465\n",
      "Train Epoch: 9 [0/451 (0%)]\tLoss: 0.177218\n"
     ]
    }
   ],
   "source": [
    "siamese_trainer.train(model, train_loader, scheduler, n_epochs=n_epochs)"
   ]
  },
  {
   "cell_type": "markdown",
   "metadata": {},
   "source": [
    "### Second stage of training"
   ]
  },
  {
   "cell_type": "code",
   "execution_count": 16,
   "metadata": {
    "tags": []
   },
   "outputs": [],
   "source": [
    "batch_size = 2\n",
    "train_loader = torch.utils.data.DataLoader(\n",
    "    contrastive_dataset, batch_size=batch_size, shuffle=True, **kwargs\n",
    ")\n",
    "n_epochs = 20"
   ]
  },
  {
   "cell_type": "code",
   "execution_count": 17,
   "metadata": {
    "tags": []
   },
   "outputs": [
    {
     "name": "stdout",
     "output_type": "stream",
     "text": [
      "Train Epoch: 0 [0/451 (0%)]\tLoss: 0.105039\n",
      "Train Epoch: 0 [200/451 (44%)]\tLoss: 0.069229\n",
      "Train Epoch: 0 [400/451 (88%)]\tLoss: 0.168055\n",
      "Train Epoch: 1 [0/451 (0%)]\tLoss: 0.113765\n",
      "Train Epoch: 1 [200/451 (44%)]\tLoss: 0.085873\n",
      "Train Epoch: 1 [400/451 (88%)]\tLoss: 0.206194\n",
      "Train Epoch: 2 [0/451 (0%)]\tLoss: 0.113211\n",
      "Train Epoch: 2 [200/451 (44%)]\tLoss: 0.278147\n",
      "Train Epoch: 2 [400/451 (88%)]\tLoss: 0.176493\n",
      "Train Epoch: 3 [0/451 (0%)]\tLoss: 0.094507\n",
      "Train Epoch: 3 [200/451 (44%)]\tLoss: 0.148441\n",
      "Train Epoch: 3 [400/451 (88%)]\tLoss: 0.037308\n",
      "Train Epoch: 4 [0/451 (0%)]\tLoss: 0.073663\n",
      "Train Epoch: 4 [200/451 (44%)]\tLoss: 0.066304\n",
      "Train Epoch: 4 [400/451 (88%)]\tLoss: 0.082733\n",
      "Train Epoch: 5 [0/451 (0%)]\tLoss: 0.072768\n",
      "Train Epoch: 5 [200/451 (44%)]\tLoss: 0.041371\n",
      "Train Epoch: 5 [400/451 (88%)]\tLoss: 0.068085\n",
      "Train Epoch: 6 [0/451 (0%)]\tLoss: 0.045705\n",
      "Train Epoch: 6 [200/451 (44%)]\tLoss: 0.130626\n",
      "Train Epoch: 6 [400/451 (88%)]\tLoss: 0.030041\n",
      "Train Epoch: 7 [0/451 (0%)]\tLoss: 0.028792\n",
      "Train Epoch: 7 [200/451 (44%)]\tLoss: 0.032542\n",
      "Train Epoch: 7 [400/451 (88%)]\tLoss: 0.049757\n",
      "Train Epoch: 8 [0/451 (0%)]\tLoss: 0.138647\n",
      "Train Epoch: 8 [200/451 (44%)]\tLoss: 0.122363\n",
      "Train Epoch: 8 [400/451 (88%)]\tLoss: 0.145875\n",
      "Train Epoch: 9 [0/451 (0%)]\tLoss: 0.277508\n",
      "Train Epoch: 9 [200/451 (44%)]\tLoss: 0.159594\n",
      "Train Epoch: 9 [400/451 (88%)]\tLoss: 0.209472\n",
      "Train Epoch: 10 [0/451 (0%)]\tLoss: 0.103222\n",
      "Train Epoch: 10 [200/451 (44%)]\tLoss: 0.047571\n",
      "Train Epoch: 10 [400/451 (88%)]\tLoss: 0.069108\n",
      "Train Epoch: 11 [0/451 (0%)]\tLoss: 0.134292\n",
      "Train Epoch: 11 [200/451 (44%)]\tLoss: 0.033167\n",
      "Train Epoch: 11 [400/451 (88%)]\tLoss: 0.044266\n",
      "Train Epoch: 12 [0/451 (0%)]\tLoss: 0.132249\n",
      "Train Epoch: 12 [200/451 (44%)]\tLoss: 0.155105\n",
      "Train Epoch: 12 [400/451 (88%)]\tLoss: 0.206280\n",
      "Train Epoch: 13 [0/451 (0%)]\tLoss: 0.104575\n",
      "Train Epoch: 13 [200/451 (44%)]\tLoss: 0.160565\n",
      "Train Epoch: 13 [400/451 (88%)]\tLoss: 0.210818\n",
      "Train Epoch: 14 [0/451 (0%)]\tLoss: 0.084480\n",
      "Train Epoch: 14 [200/451 (44%)]\tLoss: 0.116785\n",
      "Train Epoch: 14 [400/451 (88%)]\tLoss: 0.077472\n",
      "Train Epoch: 15 [0/451 (0%)]\tLoss: 0.073574\n",
      "Train Epoch: 15 [200/451 (44%)]\tLoss: 0.011340\n",
      "Train Epoch: 15 [400/451 (88%)]\tLoss: 0.252408\n",
      "Train Epoch: 16 [0/451 (0%)]\tLoss: 0.022928\n",
      "Train Epoch: 16 [200/451 (44%)]\tLoss: 0.062136\n",
      "Train Epoch: 16 [400/451 (88%)]\tLoss: 0.081102\n",
      "Train Epoch: 17 [0/451 (0%)]\tLoss: 0.218194\n",
      "Train Epoch: 17 [200/451 (44%)]\tLoss: 0.048087\n",
      "Train Epoch: 17 [400/451 (88%)]\tLoss: 0.016421\n",
      "Train Epoch: 18 [0/451 (0%)]\tLoss: 0.106768\n",
      "Train Epoch: 18 [200/451 (44%)]\tLoss: 0.101301\n",
      "Train Epoch: 18 [400/451 (88%)]\tLoss: 0.021041\n",
      "Train Epoch: 19 [0/451 (0%)]\tLoss: 0.083145\n",
      "Train Epoch: 19 [200/451 (44%)]\tLoss: 0.035057\n",
      "Train Epoch: 19 [400/451 (88%)]\tLoss: 0.101340\n"
     ]
    }
   ],
   "source": [
    "siamese_trainer.train(model, train_loader, scheduler, n_epochs=n_epochs)"
   ]
  },
  {
   "cell_type": "markdown",
   "metadata": {},
   "source": [
    "### Evaluation of network performance\n",
    "\n",
    "To evaluate the performance of the embedding network you can simply compare distances in latent space between positive and negative pairs. In a well-trained model, average distance for positive pairs should be considerably smaller than for negative pairs. Bigger differences indicate better separation between embeddings of different classes, leading to better overall performance"
   ]
  },
  {
   "cell_type": "code",
   "execution_count": 18,
   "metadata": {
    "tags": []
   },
   "outputs": [],
   "source": [
    "from snn.utils import all_pairs, contrative_distances\n",
    "from snn.predict import predict_embeddings"
   ]
  },
  {
   "cell_type": "code",
   "execution_count": 19,
   "metadata": {
    "tags": []
   },
   "outputs": [],
   "source": [
    "val_dataset = SeismicDataset(\n",
    "    ROOT, build=True, greyscale=False, train=False, transform=vit_transform\n",
    ")"
   ]
  },
  {
   "cell_type": "code",
   "execution_count": 20,
   "metadata": {
    "tags": []
   },
   "outputs": [],
   "source": [
    "val_contrastive_dataset = ContrastiveDataset(val_dataset)"
   ]
  },
  {
   "cell_type": "code",
   "execution_count": 21,
   "metadata": {
    "tags": []
   },
   "outputs": [],
   "source": [
    "embeddings = predict_embeddings(model, val_dataset, return_labels=True)"
   ]
  },
  {
   "cell_type": "code",
   "execution_count": 22,
   "metadata": {
    "tags": []
   },
   "outputs": [],
   "source": [
    "embedding_pairs = all_pairs(embeddings)"
   ]
  },
  {
   "cell_type": "code",
   "execution_count": 23,
   "metadata": {
    "tags": []
   },
   "outputs": [],
   "source": [
    "distances = contrative_distances(embedding_pairs)"
   ]
  },
  {
   "cell_type": "code",
   "execution_count": 24,
   "metadata": {
    "tags": []
   },
   "outputs": [
    {
     "name": "stdout",
     "output_type": "stream",
     "text": [
      "Average distance between negative pairs: 0.646,\n",
      "Average distance between positive pairs: 0.394\n"
     ]
    }
   ],
   "source": [
    "print(\n",
    "    f\"\"\"Average distance between negative pairs: {np.array(distances[0]).mean():.3f},\n",
    "Average distance between positive pairs: {np.array(distances[1]).mean():.3f}\"\"\"\n",
    ")"
   ]
  },
  {
   "cell_type": "markdown",
   "metadata": {},
   "source": [
    "## Semantic search across image corpus\n",
    "\n",
    "The ultimate goal of the challange is to find patches belonging to the same object class as the reference image in an image corpus - set of multiple patches, most of which don't contain any distinct patterns (they belong to the \"Boring\" class). To find 3 most similar images for each reference you next search for nearest neighbors in k-d tree build on latent representations of each image"
   ]
  },
  {
   "cell_type": "code",
   "execution_count": 25,
   "metadata": {
    "tags": []
   },
   "outputs": [],
   "source": [
    "from search import ImageSet, SearchTree"
   ]
  },
  {
   "cell_type": "code",
   "execution_count": 26,
   "metadata": {
    "tags": []
   },
   "outputs": [],
   "source": [
    "# Note that image-wise normalization is enabled bu default. Specify normalize=False to disable it\n",
    "corpus = ImageSet(ROOT, build=True, transform=vit_transform).build_embeddings(model)\n",
    "query_set = ImageSet(\n",
    "    ROOT, build=True, base=False, transform=vit_transform\n",
    ").build_embeddings(model)"
   ]
  },
  {
   "cell_type": "code",
   "execution_count": 27,
   "metadata": {
    "tags": []
   },
   "outputs": [
    {
     "name": "stdout",
     "output_type": "stream",
     "text": [
      "Building KD-Tree from embeddings\n"
     ]
    }
   ],
   "source": [
    "tree = SearchTree(corpus)"
   ]
  },
  {
   "cell_type": "code",
   "execution_count": 28,
   "metadata": {
    "tags": []
   },
   "outputs": [],
   "source": [
    "reference_labels, distances, _, matched_labels = tree(query_set)"
   ]
  },
  {
   "cell_type": "markdown",
   "metadata": {},
   "source": [
    "Now that you have the reference labels, distances, and matched labels you can visualize the sections and see how well the model did."
   ]
  },
  {
   "cell_type": "code",
   "execution_count": 29,
   "metadata": {
    "tags": []
   },
   "outputs": [],
   "source": [
    "import cv2\n",
    "import matplotlib.pyplot as plt\n",
    "\n",
    "\n",
    "def display_images(reference_labels, matched_labels, ref_img_number):\n",
    "    # Number of images to display per row\n",
    "    num_images_per_row = 4\n",
    "\n",
    "    # Create subplots\n",
    "    f, axarr = plt.subplots(1, num_images_per_row, figsize=(20, 5))\n",
    "\n",
    "    # Function to load and resize an image\n",
    "    def load_and_resize_image(path):\n",
    "        img = cv2.imread(path)\n",
    "        if img is None:\n",
    "            print(f\"Failed to load {path}\")\n",
    "            return np.zeros(\n",
    "                (100, 100, 3), dtype=np.uint8\n",
    "            )  # Return a black image if loading fails\n",
    "        return cv2.resize(img, (100, 100))\n",
    "\n",
    "    # Display reference image\n",
    "    axarr[0].imshow(\n",
    "        load_and_resize_image(\"data/query/\" + reference_labels[ref_img_number])\n",
    "    )\n",
    "    axarr[0].set_title(\"Reference\")\n",
    "    axarr[0].axis(\"off\")\n",
    "\n",
    "    # Display matched images\n",
    "    for i in range(1, num_images_per_row):\n",
    "        if i < len(matched_labels):\n",
    "            axarr[i].imshow(\n",
    "                load_and_resize_image(\n",
    "                    \"data/image_corpus/\" + matched_labels[ref_img_number][i - 1]\n",
    "                )\n",
    "            )\n",
    "            axarr[i].set_title(\n",
    "                \"Matched distance: \" + str(round(distances[ref_img_number][i - 1], 2))\n",
    "            )\n",
    "            axarr[i].axis(\"off\")\n",
    "        else:\n",
    "            # Fill remaining space with blank images\n",
    "            axarr[i].imshow(np.zeros((100, 100, 3), dtype=np.uint8))\n",
    "            axarr[i].axis(\"off\")\n",
    "\n",
    "    plt.tight_layout()"
   ]
  },
  {
   "cell_type": "code",
   "execution_count": 30,
   "metadata": {
    "tags": []
   },
   "outputs": [
    {
     "data": {
      "image/png": "[encoded data removed]",
      "text/plain": [
       "<Figure size 2000x500 with 4 Axes>"
      ]
     },
     "metadata": {},
     "output_type": "display_data"
    }
   ],
   "source": [
    "display_images(reference_labels, matched_labels, 3)"
   ]
  }
 ],
 "metadata": {
  "kernelspec": {
   "display_name": "conda_pytorch_p310",
   "language": "python",
   "name": "conda_pytorch_p310"
  },
  "language_info": {
   "codemirror_mode": {
    "name": "ipython",
    "version": 3
   },
   "file_extension": ".py",
   "mimetype": "text/x-python",
   "name": "python",
   "nbconvert_exporter": "python",
   "pygments_lexer": "ipython3",
   "version": "3.10.14"
  }
 },
 "nbformat": 4,
 "nbformat_minor": 4
}
